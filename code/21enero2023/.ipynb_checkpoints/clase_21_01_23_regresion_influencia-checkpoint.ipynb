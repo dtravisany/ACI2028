{
 "cells": [
  {
   "cell_type": "markdown",
   "id": "2d33aa0c",
   "metadata": {},
   "source": [
    "# Usando regresiones lineales para identificar puntos de datos que tengan influencia significativa  \n",
    "  \n",
    "Vamos a utilizar modelos estadísticos para identificar valores atípicos (outliers).  \n",
    "Ventajas:\n",
    "1. Las técnicas estadísticas nos permiten ser menos dependientes de la distribución de la variable de interés.\n",
    "2. Consideran más factores que los análisis univariados y bivariados.\n",
    "3. Esto quiere decir que nos permiten identificar valores atípicos que no se revelan en una primera instancia."
   ]
  },
  {
   "cell_type": "markdown",
   "id": "f555767d",
   "metadata": {},
   "source": [
    "Incluimos nuestros paquetes y utilizaremos los datos del covid"
   ]
  },
  {
   "cell_type": "code",
   "execution_count": 1,
   "id": "68e79a29",
   "metadata": {},
   "outputs": [],
   "source": [
    "import pandas as pd\n",
    "import numpy as np\n",
    "import matplotlib.pyplot as plt\n",
    "import statsmodels.api as sm"
   ]
  },
  {
   "cell_type": "code",
   "execution_count": 2,
   "id": "de99a397",
   "metadata": {},
   "outputs": [],
   "source": [
    "covid = pd.read_csv(\"data/covidtotals.csv\")\n",
    "covid.set_index(\"iso_code\", inplace =True)"
   ]
  },
  {
   "cell_type": "code",
   "execution_count": 3,
   "id": "ec043899",
   "metadata": {},
   "outputs": [
    {
     "data": {
      "text/html": [
       "<div>\n",
       "<style scoped>\n",
       "    .dataframe tbody tr th:only-of-type {\n",
       "        vertical-align: middle;\n",
       "    }\n",
       "\n",
       "    .dataframe tbody tr th {\n",
       "        vertical-align: top;\n",
       "    }\n",
       "\n",
       "    .dataframe thead th {\n",
       "        text-align: right;\n",
       "    }\n",
       "</style>\n",
       "<table border=\"1\" class=\"dataframe\">\n",
       "  <thead>\n",
       "    <tr style=\"text-align: right;\">\n",
       "      <th></th>\n",
       "      <th>lastdate</th>\n",
       "      <th>location</th>\n",
       "      <th>total_cases</th>\n",
       "      <th>total_deaths</th>\n",
       "      <th>total_cases_pm</th>\n",
       "      <th>total_deaths_pm</th>\n",
       "      <th>population</th>\n",
       "      <th>pop_density</th>\n",
       "      <th>median_age</th>\n",
       "      <th>gdp_per_capita</th>\n",
       "      <th>hosp_beds</th>\n",
       "    </tr>\n",
       "    <tr>\n",
       "      <th>iso_code</th>\n",
       "      <th></th>\n",
       "      <th></th>\n",
       "      <th></th>\n",
       "      <th></th>\n",
       "      <th></th>\n",
       "      <th></th>\n",
       "      <th></th>\n",
       "      <th></th>\n",
       "      <th></th>\n",
       "      <th></th>\n",
       "      <th></th>\n",
       "    </tr>\n",
       "  </thead>\n",
       "  <tbody>\n",
       "    <tr>\n",
       "      <th>AFG</th>\n",
       "      <td>2020-06-01</td>\n",
       "      <td>Afghanistan</td>\n",
       "      <td>15205</td>\n",
       "      <td>257</td>\n",
       "      <td>390.589</td>\n",
       "      <td>6.602</td>\n",
       "      <td>38928341.0</td>\n",
       "      <td>54.422</td>\n",
       "      <td>18.6</td>\n",
       "      <td>1803.987</td>\n",
       "      <td>0.50</td>\n",
       "    </tr>\n",
       "    <tr>\n",
       "      <th>ALB</th>\n",
       "      <td>2020-06-01</td>\n",
       "      <td>Albania</td>\n",
       "      <td>1137</td>\n",
       "      <td>33</td>\n",
       "      <td>395.093</td>\n",
       "      <td>11.467</td>\n",
       "      <td>2877800.0</td>\n",
       "      <td>104.871</td>\n",
       "      <td>38.0</td>\n",
       "      <td>11803.431</td>\n",
       "      <td>2.89</td>\n",
       "    </tr>\n",
       "    <tr>\n",
       "      <th>DZA</th>\n",
       "      <td>2020-06-01</td>\n",
       "      <td>Algeria</td>\n",
       "      <td>9394</td>\n",
       "      <td>653</td>\n",
       "      <td>214.225</td>\n",
       "      <td>14.891</td>\n",
       "      <td>43851043.0</td>\n",
       "      <td>17.348</td>\n",
       "      <td>29.1</td>\n",
       "      <td>13913.839</td>\n",
       "      <td>1.90</td>\n",
       "    </tr>\n",
       "    <tr>\n",
       "      <th>AND</th>\n",
       "      <td>2020-06-01</td>\n",
       "      <td>Andorra</td>\n",
       "      <td>764</td>\n",
       "      <td>51</td>\n",
       "      <td>9888.048</td>\n",
       "      <td>660.066</td>\n",
       "      <td>77265.0</td>\n",
       "      <td>163.755</td>\n",
       "      <td>NaN</td>\n",
       "      <td>NaN</td>\n",
       "      <td>NaN</td>\n",
       "    </tr>\n",
       "    <tr>\n",
       "      <th>AGO</th>\n",
       "      <td>2020-06-01</td>\n",
       "      <td>Angola</td>\n",
       "      <td>86</td>\n",
       "      <td>4</td>\n",
       "      <td>2.617</td>\n",
       "      <td>0.122</td>\n",
       "      <td>32866268.0</td>\n",
       "      <td>23.890</td>\n",
       "      <td>16.8</td>\n",
       "      <td>5819.495</td>\n",
       "      <td>NaN</td>\n",
       "    </tr>\n",
       "  </tbody>\n",
       "</table>\n",
       "</div>"
      ],
      "text/plain": [
       "            lastdate     location  total_cases  total_deaths  total_cases_pm  \\\n",
       "iso_code                                                                       \n",
       "AFG       2020-06-01  Afghanistan        15205           257         390.589   \n",
       "ALB       2020-06-01      Albania         1137            33         395.093   \n",
       "DZA       2020-06-01      Algeria         9394           653         214.225   \n",
       "AND       2020-06-01      Andorra          764            51        9888.048   \n",
       "AGO       2020-06-01       Angola           86             4           2.617   \n",
       "\n",
       "          total_deaths_pm  population  pop_density  median_age  \\\n",
       "iso_code                                                         \n",
       "AFG                 6.602  38928341.0       54.422        18.6   \n",
       "ALB                11.467   2877800.0      104.871        38.0   \n",
       "DZA                14.891  43851043.0       17.348        29.1   \n",
       "AND               660.066     77265.0      163.755         NaN   \n",
       "AGO                 0.122  32866268.0       23.890        16.8   \n",
       "\n",
       "          gdp_per_capita  hosp_beds  \n",
       "iso_code                             \n",
       "AFG             1803.987       0.50  \n",
       "ALB            11803.431       2.89  \n",
       "DZA            13913.839       1.90  \n",
       "AND                  NaN        NaN  \n",
       "AGO             5819.495        NaN  "
      ]
     },
     "execution_count": 3,
     "metadata": {},
     "output_type": "execute_result"
    }
   ],
   "source": [
    "covid.head()"
   ]
  },
  {
   "cell_type": "markdown",
   "id": "061f6cc2",
   "metadata": {},
   "source": [
    "Existen razon conceptuales para pensar que la densidad de población ``population_density``, la edad promedio ``median_age`` y el PIB per capita ``gdp_per_capita`` pueden ser predictores del total de casos de covid por millón de habitantes ``total_cases_pm``."
   ]
  },
  {
   "cell_type": "code",
   "execution_count": 4,
   "id": "1d59a769",
   "metadata": {},
   "outputs": [],
   "source": [
    "variables =['pop_density', 'median_age', 'gdp_per_capita']"
   ]
  },
  {
   "cell_type": "code",
   "execution_count": 5,
   "id": "d323241e",
   "metadata": {},
   "outputs": [],
   "source": [
    "analisis = covid.loc[:,['total_cases_pm']+ variables].dropna()"
   ]
  },
  {
   "cell_type": "code",
   "execution_count": 6,
   "id": "f05f92b9",
   "metadata": {},
   "outputs": [
    {
     "data": {
      "text/html": [
       "<div>\n",
       "<style scoped>\n",
       "    .dataframe tbody tr th:only-of-type {\n",
       "        vertical-align: middle;\n",
       "    }\n",
       "\n",
       "    .dataframe tbody tr th {\n",
       "        vertical-align: top;\n",
       "    }\n",
       "\n",
       "    .dataframe thead th {\n",
       "        text-align: right;\n",
       "    }\n",
       "</style>\n",
       "<table border=\"1\" class=\"dataframe\">\n",
       "  <thead>\n",
       "    <tr style=\"text-align: right;\">\n",
       "      <th></th>\n",
       "      <th>total_cases_pm</th>\n",
       "      <th>pop_density</th>\n",
       "      <th>median_age</th>\n",
       "      <th>gdp_per_capita</th>\n",
       "    </tr>\n",
       "  </thead>\n",
       "  <tbody>\n",
       "    <tr>\n",
       "      <th>count</th>\n",
       "      <td>175.000000</td>\n",
       "      <td>175.000000</td>\n",
       "      <td>175.000000</td>\n",
       "      <td>175.000000</td>\n",
       "    </tr>\n",
       "    <tr>\n",
       "      <th>mean</th>\n",
       "      <td>1134.015709</td>\n",
       "      <td>247.151863</td>\n",
       "      <td>30.537143</td>\n",
       "      <td>19008.385423</td>\n",
       "    </tr>\n",
       "    <tr>\n",
       "      <th>std</th>\n",
       "      <td>2101.363772</td>\n",
       "      <td>822.398967</td>\n",
       "      <td>9.117751</td>\n",
       "      <td>19673.386571</td>\n",
       "    </tr>\n",
       "    <tr>\n",
       "      <th>min</th>\n",
       "      <td>0.000000</td>\n",
       "      <td>1.980000</td>\n",
       "      <td>15.100000</td>\n",
       "      <td>661.240000</td>\n",
       "    </tr>\n",
       "    <tr>\n",
       "      <th>25%</th>\n",
       "      <td>67.448000</td>\n",
       "      <td>36.066000</td>\n",
       "      <td>22.300000</td>\n",
       "      <td>4458.202500</td>\n",
       "    </tr>\n",
       "    <tr>\n",
       "      <th>50%</th>\n",
       "      <td>263.413000</td>\n",
       "      <td>82.328000</td>\n",
       "      <td>29.700000</td>\n",
       "      <td>12951.839000</td>\n",
       "    </tr>\n",
       "    <tr>\n",
       "      <th>75%</th>\n",
       "      <td>1357.506000</td>\n",
       "      <td>207.960000</td>\n",
       "      <td>38.700000</td>\n",
       "      <td>27467.146000</td>\n",
       "    </tr>\n",
       "    <tr>\n",
       "      <th>max</th>\n",
       "      <td>19753.146000</td>\n",
       "      <td>7915.731000</td>\n",
       "      <td>48.200000</td>\n",
       "      <td>116935.600000</td>\n",
       "    </tr>\n",
       "  </tbody>\n",
       "</table>\n",
       "</div>"
      ],
      "text/plain": [
       "       total_cases_pm  pop_density  median_age  gdp_per_capita\n",
       "count      175.000000   175.000000  175.000000      175.000000\n",
       "mean      1134.015709   247.151863   30.537143    19008.385423\n",
       "std       2101.363772   822.398967    9.117751    19673.386571\n",
       "min          0.000000     1.980000   15.100000      661.240000\n",
       "25%         67.448000    36.066000   22.300000     4458.202500\n",
       "50%        263.413000    82.328000   29.700000    12951.839000\n",
       "75%       1357.506000   207.960000   38.700000    27467.146000\n",
       "max      19753.146000  7915.731000   48.200000   116935.600000"
      ]
     },
     "execution_count": 6,
     "metadata": {},
     "output_type": "execute_result"
    }
   ],
   "source": [
    "analisis.describe()"
   ]
  },
  {
   "cell_type": "markdown",
   "id": "44201720",
   "metadata": {},
   "source": [
    "### Ajuste a un modelo de regresión lineal"
   ]
  },
  {
   "cell_type": "code",
   "execution_count": 7,
   "id": "a80f8985",
   "metadata": {},
   "outputs": [],
   "source": [
    "def obtenerML(df):\n",
    "    Y = df.total_cases_pm\n",
    "    X = df[['pop_density', 'median_age','gdp_per_capita']]\n",
    "    X = sm.add_constant(X)\n",
    "    return sm.OLS(Y,X).fit()"
   ]
  },
  {
   "cell_type": "code",
   "execution_count": 8,
   "id": "44e2071f",
   "metadata": {},
   "outputs": [
    {
     "ename": "AttributeError",
     "evalue": "'DataFrame' object has no attribute 'sm'",
     "output_type": "error",
     "traceback": [
      "\u001b[0;31m---------------------------------------------------------------------------\u001b[0m",
      "\u001b[0;31mAttributeError\u001b[0m                            Traceback (most recent call last)",
      "\u001b[0;32m<ipython-input-8-b0d4c7b66795>\u001b[0m in \u001b[0;36m<module>\u001b[0;34m\u001b[0m\n\u001b[0;32m----> 1\u001b[0;31m \u001b[0mml\u001b[0m \u001b[0;34m=\u001b[0m \u001b[0mobtenerML\u001b[0m\u001b[0;34m(\u001b[0m\u001b[0manalisis\u001b[0m\u001b[0;34m)\u001b[0m\u001b[0;34m\u001b[0m\u001b[0;34m\u001b[0m\u001b[0m\n\u001b[0m",
      "\u001b[0;32m<ipython-input-7-cf9e1e1d047b>\u001b[0m in \u001b[0;36mobtenerML\u001b[0;34m(df)\u001b[0m\n\u001b[1;32m      2\u001b[0m     \u001b[0mY\u001b[0m \u001b[0;34m=\u001b[0m \u001b[0mdf\u001b[0m\u001b[0;34m.\u001b[0m\u001b[0mtotal_cases_pm\u001b[0m\u001b[0;34m\u001b[0m\u001b[0;34m\u001b[0m\u001b[0m\n\u001b[1;32m      3\u001b[0m     \u001b[0mX\u001b[0m \u001b[0;34m=\u001b[0m \u001b[0mdf\u001b[0m\u001b[0;34m[\u001b[0m\u001b[0;34m[\u001b[0m\u001b[0;34m'pop_density'\u001b[0m\u001b[0;34m,\u001b[0m \u001b[0;34m'median_age'\u001b[0m\u001b[0;34m,\u001b[0m\u001b[0;34m'gdp_per_capita'\u001b[0m\u001b[0;34m]\u001b[0m\u001b[0;34m]\u001b[0m\u001b[0;34m\u001b[0m\u001b[0;34m\u001b[0m\u001b[0m\n\u001b[0;32m----> 4\u001b[0;31m     \u001b[0mX\u001b[0m\u001b[0;34m.\u001b[0m\u001b[0msm\u001b[0m\u001b[0;34m.\u001b[0m\u001b[0madd_constant\u001b[0m\u001b[0;34m(\u001b[0m\u001b[0mX\u001b[0m\u001b[0;34m)\u001b[0m\u001b[0;34m\u001b[0m\u001b[0;34m\u001b[0m\u001b[0m\n\u001b[0m\u001b[1;32m      5\u001b[0m     \u001b[0;32mreturn\u001b[0m \u001b[0msm\u001b[0m\u001b[0;34m.\u001b[0m\u001b[0mOLS\u001b[0m\u001b[0;34m(\u001b[0m\u001b[0mY\u001b[0m\u001b[0;34m,\u001b[0m\u001b[0mX\u001b[0m\u001b[0;34m)\u001b[0m\u001b[0;34m.\u001b[0m\u001b[0mfit\u001b[0m\u001b[0;34m(\u001b[0m\u001b[0;34m)\u001b[0m\u001b[0;34m\u001b[0m\u001b[0;34m\u001b[0m\u001b[0m\n",
      "\u001b[0;32m~/anaconda3/lib/python3.8/site-packages/pandas/core/generic.py\u001b[0m in \u001b[0;36m__getattr__\u001b[0;34m(self, name)\u001b[0m\n\u001b[1;32m   5463\u001b[0m             \u001b[0;32mif\u001b[0m \u001b[0mself\u001b[0m\u001b[0;34m.\u001b[0m\u001b[0m_info_axis\u001b[0m\u001b[0;34m.\u001b[0m\u001b[0m_can_hold_identifiers_and_holds_name\u001b[0m\u001b[0;34m(\u001b[0m\u001b[0mname\u001b[0m\u001b[0;34m)\u001b[0m\u001b[0;34m:\u001b[0m\u001b[0;34m\u001b[0m\u001b[0;34m\u001b[0m\u001b[0m\n\u001b[1;32m   5464\u001b[0m                 \u001b[0;32mreturn\u001b[0m \u001b[0mself\u001b[0m\u001b[0;34m[\u001b[0m\u001b[0mname\u001b[0m\u001b[0;34m]\u001b[0m\u001b[0;34m\u001b[0m\u001b[0;34m\u001b[0m\u001b[0m\n\u001b[0;32m-> 5465\u001b[0;31m             \u001b[0;32mreturn\u001b[0m \u001b[0mobject\u001b[0m\u001b[0;34m.\u001b[0m\u001b[0m__getattribute__\u001b[0m\u001b[0;34m(\u001b[0m\u001b[0mself\u001b[0m\u001b[0;34m,\u001b[0m \u001b[0mname\u001b[0m\u001b[0;34m)\u001b[0m\u001b[0;34m\u001b[0m\u001b[0;34m\u001b[0m\u001b[0m\n\u001b[0m\u001b[1;32m   5466\u001b[0m \u001b[0;34m\u001b[0m\u001b[0m\n\u001b[1;32m   5467\u001b[0m     \u001b[0;32mdef\u001b[0m \u001b[0m__setattr__\u001b[0m\u001b[0;34m(\u001b[0m\u001b[0mself\u001b[0m\u001b[0;34m,\u001b[0m \u001b[0mname\u001b[0m\u001b[0;34m:\u001b[0m \u001b[0mstr\u001b[0m\u001b[0;34m,\u001b[0m \u001b[0mvalue\u001b[0m\u001b[0;34m)\u001b[0m \u001b[0;34m->\u001b[0m \u001b[0;32mNone\u001b[0m\u001b[0;34m:\u001b[0m\u001b[0;34m\u001b[0m\u001b[0;34m\u001b[0m\u001b[0m\n",
      "\u001b[0;31mAttributeError\u001b[0m: 'DataFrame' object has no attribute 'sm'"
     ]
    }
   ],
   "source": [
    "ml = obtenerML(analisis)"
   ]
  },
  {
   "cell_type": "code",
   "execution_count": null,
   "id": "db013c69",
   "metadata": {},
   "outputs": [],
   "source": []
  }
 ],
 "metadata": {
  "kernelspec": {
   "display_name": "Python 3",
   "language": "python",
   "name": "python3"
  },
  "language_info": {
   "codemirror_mode": {
    "name": "ipython",
    "version": 3
   },
   "file_extension": ".py",
   "mimetype": "text/x-python",
   "name": "python",
   "nbconvert_exporter": "python",
   "pygments_lexer": "ipython3",
   "version": "3.8.8"
  }
 },
 "nbformat": 4,
 "nbformat_minor": 5
}
