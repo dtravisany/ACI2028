{
 "cells": [
  {
   "cell_type": "markdown",
   "id": "cab54b41",
   "metadata": {},
   "source": [
    "# Hoy veremos selección condicional"
   ]
  },
  {
   "cell_type": "markdown",
   "id": "c992c91e",
   "metadata": {},
   "source": [
    "Importamos nuestros paquetes pandas, numpy y matplotlib"
   ]
  },
  {
   "cell_type": "code",
   "execution_count": 1,
   "id": "50f7c34a",
   "metadata": {},
   "outputs": [],
   "source": [
    "import pandas as pd\n",
    "import numpy as np"
   ]
  },
  {
   "cell_type": "markdown",
   "id": "6aff333c",
   "metadata": {},
   "source": [
    "Cargamos los datos a utilizar"
   ]
  },
  {
   "cell_type": "code",
   "execution_count": 2,
   "id": "00510d72",
   "metadata": {},
   "outputs": [],
   "source": [
    "nls97= pd.read_csv(\"data/nls97.csv\")\n",
    "nls97.set_index(\"personid\", inplace=True)"
   ]
  },
  {
   "cell_type": "markdown",
   "id": "8fdd3a7b",
   "metadata": {},
   "source": [
    "Revisaremos que la carga de datos esté ok, para esto revisaremos las 3 primeras filas de nuestro dataframe y ejecutaremos la transpuesta para facilitar la visualicación de los atributos."
   ]
  },
  {
   "cell_type": "code",
   "execution_count": 3,
   "id": "23b8074d",
   "metadata": {},
   "outputs": [
    {
     "data": {
      "text/html": [
       "<div>\n",
       "<style scoped>\n",
       "    .dataframe tbody tr th:only-of-type {\n",
       "        vertical-align: middle;\n",
       "    }\n",
       "\n",
       "    .dataframe tbody tr th {\n",
       "        vertical-align: top;\n",
       "    }\n",
       "\n",
       "    .dataframe thead th {\n",
       "        text-align: right;\n",
       "    }\n",
       "</style>\n",
       "<table border=\"1\" class=\"dataframe\">\n",
       "  <thead>\n",
       "    <tr style=\"text-align: right;\">\n",
       "      <th>personid</th>\n",
       "      <th>100061</th>\n",
       "      <th>100139</th>\n",
       "      <th>100284</th>\n",
       "    </tr>\n",
       "  </thead>\n",
       "  <tbody>\n",
       "    <tr>\n",
       "      <th>wageincome</th>\n",
       "      <td>12500.0</td>\n",
       "      <td>120000.0</td>\n",
       "      <td>58000.0</td>\n",
       "    </tr>\n",
       "    <tr>\n",
       "      <th>highestgradecompleted</th>\n",
       "      <td>13.0</td>\n",
       "      <td>12.0</td>\n",
       "      <td>7.0</td>\n",
       "    </tr>\n",
       "    <tr>\n",
       "      <th>highestdegree</th>\n",
       "      <td>2. High School</td>\n",
       "      <td>2. High School</td>\n",
       "      <td>0. None</td>\n",
       "    </tr>\n",
       "  </tbody>\n",
       "</table>\n",
       "</div>"
      ],
      "text/plain": [
       "personid                       100061          100139   100284\n",
       "wageincome                    12500.0        120000.0  58000.0\n",
       "highestgradecompleted            13.0            12.0      7.0\n",
       "highestdegree          2. High School  2. High School  0. None"
      ]
     },
     "execution_count": 3,
     "metadata": {},
     "output_type": "execute_result"
    }
   ],
   "source": [
    "nls97[['wageincome','highestgradecompleted','highestdegree']].head(3).T"
   ]
  },
  {
   "cell_type": "markdown",
   "id": "3fe76a38",
   "metadata": {},
   "source": [
    "Repetiremos lo mismo para algunas otras columnas"
   ]
  },
  {
   "cell_type": "markdown",
   "id": "b0772c59",
   "metadata": {},
   "source": [
    "Tipos de nombramiento de variables o funciones:\n",
    "1. Camel Case: la primera letra de cada palabra de una variable o una función va con máyuscula, poor ejemplo: _camelCase_ o _CamelCase_.\n",
    "2. Snake Case: cada palabra está separa por un underline (\\_). Por ejemplo: _snake_case_ o _camel_case_ "
   ]
  },
  {
   "cell_type": "code",
   "execution_count": 4,
   "id": "fd5bddd8",
   "metadata": {},
   "outputs": [
    {
     "data": {
      "text/html": [
       "<div>\n",
       "<style scoped>\n",
       "    .dataframe tbody tr th:only-of-type {\n",
       "        vertical-align: middle;\n",
       "    }\n",
       "\n",
       "    .dataframe tbody tr th {\n",
       "        vertical-align: top;\n",
       "    }\n",
       "\n",
       "    .dataframe thead th {\n",
       "        text-align: right;\n",
       "    }\n",
       "</style>\n",
       "<table border=\"1\" class=\"dataframe\">\n",
       "  <thead>\n",
       "    <tr style=\"text-align: right;\">\n",
       "      <th>personid</th>\n",
       "      <th>100061</th>\n",
       "      <th>100139</th>\n",
       "      <th>100284</th>\n",
       "    </tr>\n",
       "  </thead>\n",
       "  <tbody>\n",
       "    <tr>\n",
       "      <th>weeksworked12</th>\n",
       "      <td>40.0</td>\n",
       "      <td>52.0</td>\n",
       "      <td>0.0</td>\n",
       "    </tr>\n",
       "    <tr>\n",
       "      <th>weeksworked13</th>\n",
       "      <td>52.0</td>\n",
       "      <td>52.0</td>\n",
       "      <td>NaN</td>\n",
       "    </tr>\n",
       "    <tr>\n",
       "      <th>weeksworked14</th>\n",
       "      <td>52.0</td>\n",
       "      <td>52.0</td>\n",
       "      <td>11.0</td>\n",
       "    </tr>\n",
       "    <tr>\n",
       "      <th>weeksworked15</th>\n",
       "      <td>52.0</td>\n",
       "      <td>52.0</td>\n",
       "      <td>52.0</td>\n",
       "    </tr>\n",
       "    <tr>\n",
       "      <th>weeksworked16</th>\n",
       "      <td>48.0</td>\n",
       "      <td>53.0</td>\n",
       "      <td>47.0</td>\n",
       "    </tr>\n",
       "    <tr>\n",
       "      <th>weeksworked17</th>\n",
       "      <td>48.0</td>\n",
       "      <td>52.0</td>\n",
       "      <td>0.0</td>\n",
       "    </tr>\n",
       "  </tbody>\n",
       "</table>\n",
       "</div>"
      ],
      "text/plain": [
       "personid       100061  100139  100284\n",
       "weeksworked12    40.0    52.0     0.0\n",
       "weeksworked13    52.0    52.0     NaN\n",
       "weeksworked14    52.0    52.0    11.0\n",
       "weeksworked15    52.0    52.0    52.0\n",
       "weeksworked16    48.0    53.0    47.0\n",
       "weeksworked17    48.0    52.0     0.0"
      ]
     },
     "execution_count": 4,
     "metadata": {},
     "output_type": "execute_result"
    }
   ],
   "source": [
    "nls97.loc[:, \"weeksworked12\":\"weeksworked17\"].head(3).T"
   ]
  },
  {
   "cell_type": "markdown",
   "id": "990f378a",
   "metadata": {},
   "source": [
    "Revisemos si existen individuos que hayan recibido remuneración, pero no hayan trabajado"
   ]
  },
  {
   "cell_type": "code",
   "execution_count": 5,
   "id": "8ceeecac",
   "metadata": {},
   "outputs": [
    {
     "data": {
      "text/html": [
       "<div>\n",
       "<style scoped>\n",
       "    .dataframe tbody tr th:only-of-type {\n",
       "        vertical-align: middle;\n",
       "    }\n",
       "\n",
       "    .dataframe tbody tr th {\n",
       "        vertical-align: top;\n",
       "    }\n",
       "\n",
       "    .dataframe thead th {\n",
       "        text-align: right;\n",
       "    }\n",
       "</style>\n",
       "<table border=\"1\" class=\"dataframe\">\n",
       "  <thead>\n",
       "    <tr style=\"text-align: right;\">\n",
       "      <th></th>\n",
       "      <th>weeksworked16</th>\n",
       "      <th>wageincome</th>\n",
       "    </tr>\n",
       "    <tr>\n",
       "      <th>personid</th>\n",
       "      <th></th>\n",
       "      <th></th>\n",
       "    </tr>\n",
       "  </thead>\n",
       "  <tbody>\n",
       "    <tr>\n",
       "      <th>102625</th>\n",
       "      <td>0.0</td>\n",
       "      <td>1200.0</td>\n",
       "    </tr>\n",
       "    <tr>\n",
       "      <th>109403</th>\n",
       "      <td>0.0</td>\n",
       "      <td>5000.0</td>\n",
       "    </tr>\n",
       "    <tr>\n",
       "      <th>118704</th>\n",
       "      <td>0.0</td>\n",
       "      <td>25000.0</td>\n",
       "    </tr>\n",
       "    <tr>\n",
       "      <th>130701</th>\n",
       "      <td>0.0</td>\n",
       "      <td>12000.0</td>\n",
       "    </tr>\n",
       "    <tr>\n",
       "      <th>131151</th>\n",
       "      <td>0.0</td>\n",
       "      <td>65000.0</td>\n",
       "    </tr>\n",
       "    <tr>\n",
       "      <th>...</th>\n",
       "      <td>...</td>\n",
       "      <td>...</td>\n",
       "    </tr>\n",
       "    <tr>\n",
       "      <th>957344</th>\n",
       "      <td>0.0</td>\n",
       "      <td>90000.0</td>\n",
       "    </tr>\n",
       "    <tr>\n",
       "      <th>966697</th>\n",
       "      <td>0.0</td>\n",
       "      <td>65000.0</td>\n",
       "    </tr>\n",
       "    <tr>\n",
       "      <th>969334</th>\n",
       "      <td>0.0</td>\n",
       "      <td>5000.0</td>\n",
       "    </tr>\n",
       "    <tr>\n",
       "      <th>991756</th>\n",
       "      <td>0.0</td>\n",
       "      <td>9000.0</td>\n",
       "    </tr>\n",
       "    <tr>\n",
       "      <th>992369</th>\n",
       "      <td>0.0</td>\n",
       "      <td>35000.0</td>\n",
       "    </tr>\n",
       "  </tbody>\n",
       "</table>\n",
       "<p>145 rows × 2 columns</p>\n",
       "</div>"
      ],
      "text/plain": [
       "          weeksworked16  wageincome\n",
       "personid                           \n",
       "102625              0.0      1200.0\n",
       "109403              0.0      5000.0\n",
       "118704              0.0     25000.0\n",
       "130701              0.0     12000.0\n",
       "131151              0.0     65000.0\n",
       "...                 ...         ...\n",
       "957344              0.0     90000.0\n",
       "966697              0.0     65000.0\n",
       "969334              0.0      5000.0\n",
       "991756              0.0      9000.0\n",
       "992369              0.0     35000.0\n",
       "\n",
       "[145 rows x 2 columns]"
      ]
     },
     "execution_count": 5,
     "metadata": {},
     "output_type": "execute_result"
    }
   ],
   "source": [
    "nls97.loc[(nls97.weeksworked16==0) & nls97.wageincome>0, ['weeksworked16','wageincome']]"
   ]
  },
  {
   "cell_type": "markdown",
   "id": "1ea9836f",
   "metadata": {},
   "source": [
    "Busquemos personas que se hayan matriculado en universidades por 4 años"
   ]
  },
  {
   "cell_type": "markdown",
   "id": "80f809ca",
   "metadata": {},
   "source": [
    "Revisemos los valores únicos que contiene una columna _colenr_ "
   ]
  },
  {
   "cell_type": "code",
   "execution_count": 6,
   "id": "714ff1b8",
   "metadata": {},
   "outputs": [
    {
     "data": {
      "text/plain": [
       "array(['1. Not enrolled', '2. 2-year college ', '3. 4-year college',\n",
       "       '4. Graduate program', nan], dtype=object)"
      ]
     },
     "execution_count": 6,
     "metadata": {},
     "output_type": "execute_result"
    }
   ],
   "source": [
    "nls97.colenrfeb11.unique()"
   ]
  },
  {
   "cell_type": "markdown",
   "id": "1f7da8bd",
   "metadata": {},
   "source": [
    "Vemos que 3 corresponde a 4-year college que es lo que queremos buscar. por lo que aplicamos el siguiente filtro"
   ]
  },
  {
   "cell_type": "code",
   "execution_count": 7,
   "id": "3e7e921a",
   "metadata": {},
   "outputs": [
    {
     "data": {
      "text/html": [
       "<div>\n",
       "<style scoped>\n",
       "    .dataframe tbody tr th:only-of-type {\n",
       "        vertical-align: middle;\n",
       "    }\n",
       "\n",
       "    .dataframe tbody tr th {\n",
       "        vertical-align: top;\n",
       "    }\n",
       "\n",
       "    .dataframe thead th {\n",
       "        text-align: right;\n",
       "    }\n",
       "</style>\n",
       "<table border=\"1\" class=\"dataframe\">\n",
       "  <thead>\n",
       "    <tr style=\"text-align: right;\">\n",
       "      <th>personid</th>\n",
       "      <th>100061</th>\n",
       "      <th>100139</th>\n",
       "    </tr>\n",
       "  </thead>\n",
       "  <tbody>\n",
       "    <tr>\n",
       "      <th>colenrfeb97</th>\n",
       "      <td>False</td>\n",
       "      <td>False</td>\n",
       "    </tr>\n",
       "    <tr>\n",
       "      <th>colenroct97</th>\n",
       "      <td>False</td>\n",
       "      <td>False</td>\n",
       "    </tr>\n",
       "    <tr>\n",
       "      <th>colenrfeb98</th>\n",
       "      <td>False</td>\n",
       "      <td>False</td>\n",
       "    </tr>\n",
       "    <tr>\n",
       "      <th>colenroct98</th>\n",
       "      <td>False</td>\n",
       "      <td>False</td>\n",
       "    </tr>\n",
       "    <tr>\n",
       "      <th>colenrfeb99</th>\n",
       "      <td>False</td>\n",
       "      <td>False</td>\n",
       "    </tr>\n",
       "    <tr>\n",
       "      <th>colenroct99</th>\n",
       "      <td>False</td>\n",
       "      <td>False</td>\n",
       "    </tr>\n",
       "    <tr>\n",
       "      <th>colenrfeb00</th>\n",
       "      <td>False</td>\n",
       "      <td>False</td>\n",
       "    </tr>\n",
       "    <tr>\n",
       "      <th>colenroct00</th>\n",
       "      <td>False</td>\n",
       "      <td>False</td>\n",
       "    </tr>\n",
       "    <tr>\n",
       "      <th>colenrfeb01</th>\n",
       "      <td>False</td>\n",
       "      <td>False</td>\n",
       "    </tr>\n",
       "    <tr>\n",
       "      <th>colenroct01</th>\n",
       "      <td>False</td>\n",
       "      <td>False</td>\n",
       "    </tr>\n",
       "    <tr>\n",
       "      <th>colenrfeb02</th>\n",
       "      <td>False</td>\n",
       "      <td>False</td>\n",
       "    </tr>\n",
       "    <tr>\n",
       "      <th>colenroct02</th>\n",
       "      <td>False</td>\n",
       "      <td>False</td>\n",
       "    </tr>\n",
       "    <tr>\n",
       "      <th>colenrfeb03</th>\n",
       "      <td>False</td>\n",
       "      <td>False</td>\n",
       "    </tr>\n",
       "    <tr>\n",
       "      <th>colenroct03</th>\n",
       "      <td>False</td>\n",
       "      <td>False</td>\n",
       "    </tr>\n",
       "    <tr>\n",
       "      <th>colenrfeb04</th>\n",
       "      <td>False</td>\n",
       "      <td>False</td>\n",
       "    </tr>\n",
       "    <tr>\n",
       "      <th>colenroct04</th>\n",
       "      <td>False</td>\n",
       "      <td>False</td>\n",
       "    </tr>\n",
       "    <tr>\n",
       "      <th>colenrfeb05</th>\n",
       "      <td>False</td>\n",
       "      <td>False</td>\n",
       "    </tr>\n",
       "    <tr>\n",
       "      <th>colenroct05</th>\n",
       "      <td>False</td>\n",
       "      <td>False</td>\n",
       "    </tr>\n",
       "    <tr>\n",
       "      <th>colenrfeb06</th>\n",
       "      <td>False</td>\n",
       "      <td>False</td>\n",
       "    </tr>\n",
       "    <tr>\n",
       "      <th>colenroct06</th>\n",
       "      <td>False</td>\n",
       "      <td>False</td>\n",
       "    </tr>\n",
       "    <tr>\n",
       "      <th>colenrfeb07</th>\n",
       "      <td>False</td>\n",
       "      <td>False</td>\n",
       "    </tr>\n",
       "    <tr>\n",
       "      <th>colenroct07</th>\n",
       "      <td>False</td>\n",
       "      <td>False</td>\n",
       "    </tr>\n",
       "    <tr>\n",
       "      <th>colenrfeb08</th>\n",
       "      <td>False</td>\n",
       "      <td>False</td>\n",
       "    </tr>\n",
       "    <tr>\n",
       "      <th>colenroct08</th>\n",
       "      <td>False</td>\n",
       "      <td>False</td>\n",
       "    </tr>\n",
       "    <tr>\n",
       "      <th>colenrfeb09</th>\n",
       "      <td>False</td>\n",
       "      <td>False</td>\n",
       "    </tr>\n",
       "    <tr>\n",
       "      <th>colenroct09</th>\n",
       "      <td>False</td>\n",
       "      <td>False</td>\n",
       "    </tr>\n",
       "    <tr>\n",
       "      <th>colenrfeb10</th>\n",
       "      <td>False</td>\n",
       "      <td>False</td>\n",
       "    </tr>\n",
       "    <tr>\n",
       "      <th>colenroct10</th>\n",
       "      <td>False</td>\n",
       "      <td>False</td>\n",
       "    </tr>\n",
       "    <tr>\n",
       "      <th>colenrfeb11</th>\n",
       "      <td>False</td>\n",
       "      <td>False</td>\n",
       "    </tr>\n",
       "    <tr>\n",
       "      <th>colenroct11</th>\n",
       "      <td>True</td>\n",
       "      <td>False</td>\n",
       "    </tr>\n",
       "    <tr>\n",
       "      <th>colenrfeb12</th>\n",
       "      <td>True</td>\n",
       "      <td>False</td>\n",
       "    </tr>\n",
       "    <tr>\n",
       "      <th>colenroct12</th>\n",
       "      <td>True</td>\n",
       "      <td>False</td>\n",
       "    </tr>\n",
       "    <tr>\n",
       "      <th>colenrfeb13</th>\n",
       "      <td>False</td>\n",
       "      <td>False</td>\n",
       "    </tr>\n",
       "    <tr>\n",
       "      <th>colenroct13</th>\n",
       "      <td>False</td>\n",
       "      <td>False</td>\n",
       "    </tr>\n",
       "    <tr>\n",
       "      <th>colenrfeb14</th>\n",
       "      <td>False</td>\n",
       "      <td>False</td>\n",
       "    </tr>\n",
       "    <tr>\n",
       "      <th>colenroct14</th>\n",
       "      <td>False</td>\n",
       "      <td>False</td>\n",
       "    </tr>\n",
       "    <tr>\n",
       "      <th>colenrfeb15</th>\n",
       "      <td>False</td>\n",
       "      <td>False</td>\n",
       "    </tr>\n",
       "    <tr>\n",
       "      <th>colenroct15</th>\n",
       "      <td>False</td>\n",
       "      <td>False</td>\n",
       "    </tr>\n",
       "    <tr>\n",
       "      <th>colenrfeb16</th>\n",
       "      <td>False</td>\n",
       "      <td>False</td>\n",
       "    </tr>\n",
       "    <tr>\n",
       "      <th>colenroct16</th>\n",
       "      <td>False</td>\n",
       "      <td>False</td>\n",
       "    </tr>\n",
       "    <tr>\n",
       "      <th>colenrfeb17</th>\n",
       "      <td>False</td>\n",
       "      <td>False</td>\n",
       "    </tr>\n",
       "    <tr>\n",
       "      <th>colenroct17</th>\n",
       "      <td>False</td>\n",
       "      <td>False</td>\n",
       "    </tr>\n",
       "  </tbody>\n",
       "</table>\n",
       "</div>"
      ],
      "text/plain": [
       "personid     100061  100139\n",
       "colenrfeb97   False   False\n",
       "colenroct97   False   False\n",
       "colenrfeb98   False   False\n",
       "colenroct98   False   False\n",
       "colenrfeb99   False   False\n",
       "colenroct99   False   False\n",
       "colenrfeb00   False   False\n",
       "colenroct00   False   False\n",
       "colenrfeb01   False   False\n",
       "colenroct01   False   False\n",
       "colenrfeb02   False   False\n",
       "colenroct02   False   False\n",
       "colenrfeb03   False   False\n",
       "colenroct03   False   False\n",
       "colenrfeb04   False   False\n",
       "colenroct04   False   False\n",
       "colenrfeb05   False   False\n",
       "colenroct05   False   False\n",
       "colenrfeb06   False   False\n",
       "colenroct06   False   False\n",
       "colenrfeb07   False   False\n",
       "colenroct07   False   False\n",
       "colenrfeb08   False   False\n",
       "colenroct08   False   False\n",
       "colenrfeb09   False   False\n",
       "colenroct09   False   False\n",
       "colenrfeb10   False   False\n",
       "colenroct10   False   False\n",
       "colenrfeb11   False   False\n",
       "colenroct11    True   False\n",
       "colenrfeb12    True   False\n",
       "colenroct12    True   False\n",
       "colenrfeb13   False   False\n",
       "colenroct13   False   False\n",
       "colenrfeb14   False   False\n",
       "colenroct14   False   False\n",
       "colenrfeb15   False   False\n",
       "colenroct15   False   False\n",
       "colenrfeb16   False   False\n",
       "colenroct16   False   False\n",
       "colenrfeb17   False   False\n",
       "colenroct17   False   False"
      ]
     },
     "execution_count": 7,
     "metadata": {},
     "output_type": "execute_result"
    }
   ],
   "source": [
    "nls97.filter(like=\"colenr\").apply(lambda x: x.str[0:1]=='3').head(2).T"
   ]
  },
  {
   "cell_type": "markdown",
   "id": "d347d3f7",
   "metadata": {},
   "source": [
    "Ahora, nos enfocamos en encontrar, si existe algún (_any_) valor True en nuestras personas, tomamos como ejemplo, las 2 primeras."
   ]
  },
  {
   "cell_type": "code",
   "execution_count": 8,
   "id": "06deb0e5",
   "metadata": {},
   "outputs": [
    {
     "data": {
      "text/plain": [
       "personid\n",
       "100061     True\n",
       "100139    False\n",
       "dtype: bool"
      ]
     },
     "execution_count": 8,
     "metadata": {},
     "output_type": "execute_result"
    }
   ],
   "source": [
    "nls97.filter(like=\"colenr\").apply(lambda x: x.str[0:1]=='3').any(axis=1).head(2)"
   ]
  },
  {
   "cell_type": "markdown",
   "id": "2d1a2123",
   "metadata": {},
   "source": [
    "Busquemos a las personas que tienen un alto sueldo. Definimos un alto sueldo como 3 desviaciones estándar de la media del sueldo."
   ]
  },
  {
   "cell_type": "code",
   "execution_count": 9,
   "id": "ec857b3a",
   "metadata": {},
   "outputs": [
    {
     "data": {
      "text/plain": [
       "(8984, 88)"
      ]
     },
     "execution_count": 9,
     "metadata": {},
     "output_type": "execute_result"
    }
   ],
   "source": [
    "nls97.shape"
   ]
  },
  {
   "cell_type": "code",
   "execution_count": 10,
   "id": "5efe49fb",
   "metadata": {
    "scrolled": false
   },
   "outputs": [
    {
     "data": {
      "text/html": [
       "<div>\n",
       "<style scoped>\n",
       "    .dataframe tbody tr th:only-of-type {\n",
       "        vertical-align: middle;\n",
       "    }\n",
       "\n",
       "    .dataframe tbody tr th {\n",
       "        vertical-align: top;\n",
       "    }\n",
       "\n",
       "    .dataframe thead th {\n",
       "        text-align: right;\n",
       "    }\n",
       "</style>\n",
       "<table border=\"1\" class=\"dataframe\">\n",
       "  <thead>\n",
       "    <tr style=\"text-align: right;\">\n",
       "      <th></th>\n",
       "      <th>wageincome</th>\n",
       "    </tr>\n",
       "    <tr>\n",
       "      <th>personid</th>\n",
       "      <th></th>\n",
       "    </tr>\n",
       "  </thead>\n",
       "  <tbody>\n",
       "    <tr>\n",
       "      <th>131858</th>\n",
       "      <td>235884.0</td>\n",
       "    </tr>\n",
       "    <tr>\n",
       "      <th>133619</th>\n",
       "      <td>235884.0</td>\n",
       "    </tr>\n",
       "    <tr>\n",
       "      <th>151863</th>\n",
       "      <td>235884.0</td>\n",
       "    </tr>\n",
       "    <tr>\n",
       "      <th>164058</th>\n",
       "      <td>235884.0</td>\n",
       "    </tr>\n",
       "    <tr>\n",
       "      <th>164897</th>\n",
       "      <td>235884.0</td>\n",
       "    </tr>\n",
       "    <tr>\n",
       "      <th>...</th>\n",
       "      <td>...</td>\n",
       "    </tr>\n",
       "    <tr>\n",
       "      <th>964406</th>\n",
       "      <td>235884.0</td>\n",
       "    </tr>\n",
       "    <tr>\n",
       "      <th>966024</th>\n",
       "      <td>235884.0</td>\n",
       "    </tr>\n",
       "    <tr>\n",
       "      <th>976141</th>\n",
       "      <td>235884.0</td>\n",
       "    </tr>\n",
       "    <tr>\n",
       "      <th>983819</th>\n",
       "      <td>235884.0</td>\n",
       "    </tr>\n",
       "    <tr>\n",
       "      <th>989896</th>\n",
       "      <td>235884.0</td>\n",
       "    </tr>\n",
       "  </tbody>\n",
       "</table>\n",
       "<p>121 rows × 1 columns</p>\n",
       "</div>"
      ],
      "text/plain": [
       "          wageincome\n",
       "personid            \n",
       "131858      235884.0\n",
       "133619      235884.0\n",
       "151863      235884.0\n",
       "164058      235884.0\n",
       "164897      235884.0\n",
       "...              ...\n",
       "964406      235884.0\n",
       "966024      235884.0\n",
       "976141      235884.0\n",
       "983819      235884.0\n",
       "989896      235884.0\n",
       "\n",
       "[121 rows x 1 columns]"
      ]
     },
     "execution_count": 10,
     "metadata": {},
     "output_type": "execute_result"
    }
   ],
   "source": [
    "altosSueldos= nls97.loc[nls97.wageincome > nls97.wageincome.mean()+(nls97.wageincome.std()*3),['wageincome']]\n",
    "altosSueldos"
   ]
  },
  {
   "cell_type": "markdown",
   "id": "c1b2ee3b",
   "metadata": {},
   "source": [
    "Porcentaje de altos sueldos con respecto al total de encuestados:"
   ]
  },
  {
   "cell_type": "code",
   "execution_count": 11,
   "id": "364bcc36",
   "metadata": {},
   "outputs": [
    {
     "data": {
      "text/plain": [
       "1.3468388245770258"
      ]
     },
     "execution_count": 11,
     "metadata": {},
     "output_type": "execute_result"
    }
   ],
   "source": [
    "100*altosSueldos.shape[0]/nls97.shape[0]"
   ]
  },
  {
   "cell_type": "markdown",
   "id": "8a8ab8c0",
   "metadata": {},
   "source": [
    "# Búsqueda de inconsistencias"
   ]
  },
  {
   "cell_type": "markdown",
   "id": "e6569a39",
   "metadata": {},
   "source": [
    "Como ejemplo, hay dos columnas, la primera el de mayor grado académico completado (``highestgradecompleted``) y el mayor grado académico (``highestgrade``)"
   ]
  },
  {
   "cell_type": "code",
   "execution_count": 15,
   "id": "9761b7d6",
   "metadata": {},
   "outputs": [],
   "source": [
    "highschoolcomplete = nls97.loc[nls97.highestgradecompleted<=12, ['highestgradecompleted', 'highestdegree']]"
   ]
  },
  {
   "cell_type": "code",
   "execution_count": 16,
   "id": "60bdc31a",
   "metadata": {},
   "outputs": [
    {
     "data": {
      "text/html": [
       "<div>\n",
       "<style scoped>\n",
       "    .dataframe tbody tr th:only-of-type {\n",
       "        vertical-align: middle;\n",
       "    }\n",
       "\n",
       "    .dataframe tbody tr th {\n",
       "        vertical-align: top;\n",
       "    }\n",
       "\n",
       "    .dataframe thead th {\n",
       "        text-align: right;\n",
       "    }\n",
       "</style>\n",
       "<table border=\"1\" class=\"dataframe\">\n",
       "  <thead>\n",
       "    <tr style=\"text-align: right;\">\n",
       "      <th>highestdegree</th>\n",
       "      <th>0. None</th>\n",
       "      <th>1. GED</th>\n",
       "      <th>2. High School</th>\n",
       "      <th>3. Associates</th>\n",
       "    </tr>\n",
       "    <tr>\n",
       "      <th>highestgradecompleted</th>\n",
       "      <th></th>\n",
       "      <th></th>\n",
       "      <th></th>\n",
       "      <th></th>\n",
       "    </tr>\n",
       "  </thead>\n",
       "  <tbody>\n",
       "    <tr>\n",
       "      <th>5.0</th>\n",
       "      <td>0</td>\n",
       "      <td>0</td>\n",
       "      <td>1</td>\n",
       "      <td>0</td>\n",
       "    </tr>\n",
       "    <tr>\n",
       "      <th>6.0</th>\n",
       "      <td>11</td>\n",
       "      <td>5</td>\n",
       "      <td>0</td>\n",
       "      <td>0</td>\n",
       "    </tr>\n",
       "    <tr>\n",
       "      <th>7.0</th>\n",
       "      <td>24</td>\n",
       "      <td>6</td>\n",
       "      <td>1</td>\n",
       "      <td>0</td>\n",
       "    </tr>\n",
       "    <tr>\n",
       "      <th>8.0</th>\n",
       "      <td>113</td>\n",
       "      <td>78</td>\n",
       "      <td>7</td>\n",
       "      <td>0</td>\n",
       "    </tr>\n",
       "    <tr>\n",
       "      <th>9.0</th>\n",
       "      <td>112</td>\n",
       "      <td>169</td>\n",
       "      <td>8</td>\n",
       "      <td>0</td>\n",
       "    </tr>\n",
       "    <tr>\n",
       "      <th>10.0</th>\n",
       "      <td>111</td>\n",
       "      <td>204</td>\n",
       "      <td>13</td>\n",
       "      <td>0</td>\n",
       "    </tr>\n",
       "    <tr>\n",
       "      <th>11.0</th>\n",
       "      <td>120</td>\n",
       "      <td>200</td>\n",
       "      <td>41</td>\n",
       "      <td>0</td>\n",
       "    </tr>\n",
       "    <tr>\n",
       "      <th>12.0</th>\n",
       "      <td>9</td>\n",
       "      <td>23</td>\n",
       "      <td>1353</td>\n",
       "      <td>1</td>\n",
       "    </tr>\n",
       "  </tbody>\n",
       "</table>\n",
       "</div>"
      ],
      "text/plain": [
       "highestdegree          0. None  1. GED  2. High School  3. Associates\n",
       "highestgradecompleted                                                \n",
       "5.0                          0       0               1              0\n",
       "6.0                         11       5               0              0\n",
       "7.0                         24       6               1              0\n",
       "8.0                        113      78               7              0\n",
       "9.0                        112     169               8              0\n",
       "10.0                       111     204              13              0\n",
       "11.0                       120     200              41              0\n",
       "12.0                         9      23            1353              1"
      ]
     },
     "execution_count": 16,
     "metadata": {},
     "output_type": "execute_result"
    }
   ],
   "source": [
    "pd.crosstab(highschoolcomplete.highestgradecompleted, highschoolcomplete.highestdegree)"
   ]
  },
  {
   "cell_type": "markdown",
   "id": "f2f9ba63",
   "metadata": {},
   "source": [
    "Cliente ->conjunto de datos -> realizo tareas de filtrado/procesamiento (80%)| -> modelo o agrupamiento ----------|\n",
    "^    ^----------------------------------------------------------------------------|------------------------------------|                                                                                                           -  "
   ]
  }
 ],
 "metadata": {
  "kernelspec": {
   "display_name": "Python 3",
   "language": "python",
   "name": "python3"
  },
  "language_info": {
   "codemirror_mode": {
    "name": "ipython",
    "version": 3
   },
   "file_extension": ".py",
   "mimetype": "text/x-python",
   "name": "python",
   "nbconvert_exporter": "python",
   "pygments_lexer": "ipython3",
   "version": "3.8.8"
  }
 },
 "nbformat": 4,
 "nbformat_minor": 5
}
