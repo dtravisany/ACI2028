{
 "cells": [
  {
   "cell_type": "markdown",
   "id": "2227eaf4",
   "metadata": {},
   "source": [
    "# Usando regresiones lineales para identificar puntos de datos que tengan influencia significativa  \n",
    "  \n",
    "Vamos a utilizar modelos estadísticos para identificar valores atípicos (outliers).  \n",
    "Ventajas:\n",
    "1. Las técnicas estadísticas nos permiten ser menos dependientes de la distribución de la variable de interés.\n",
    "2. Consideran más factores que los análisis univariados y bivariados.\n",
    "3. Esto quiere decir que nos permiten identificar valores atípicos que no se revelan en una primera instancia."
   ]
  },
  {
   "cell_type": "markdown",
   "id": "3b8a6d23",
   "metadata": {},
   "source": [
    "Incluimos nuestros paquetes y utilizaremos los datos del covid"
   ]
  },
  {
   "cell_type": "code",
   "execution_count": 1,
   "id": "1820bc66",
   "metadata": {},
   "outputs": [],
   "source": [
    "import pandas as pd\n",
    "import numpy as np\n",
    "import matplotlib.pyplot as plt\n",
    "import statsmodels.api as sm"
   ]
  },
  {
   "cell_type": "code",
   "execution_count": 2,
   "id": "69e000bb",
   "metadata": {},
   "outputs": [],
   "source": [
    "covid = pd.read_csv(\"data/covidtotals.csv\")\n",
    "covid.set_index(\"iso_code\", inplace =True)"
   ]
  },
  {
   "cell_type": "code",
   "execution_count": 3,
   "id": "5132d89e",
   "metadata": {},
   "outputs": [
    {
     "data": {
      "text/html": [
       "<div>\n",
       "<style scoped>\n",
       "    .dataframe tbody tr th:only-of-type {\n",
       "        vertical-align: middle;\n",
       "    }\n",
       "\n",
       "    .dataframe tbody tr th {\n",
       "        vertical-align: top;\n",
       "    }\n",
       "\n",
       "    .dataframe thead th {\n",
       "        text-align: right;\n",
       "    }\n",
       "</style>\n",
       "<table border=\"1\" class=\"dataframe\">\n",
       "  <thead>\n",
       "    <tr style=\"text-align: right;\">\n",
       "      <th></th>\n",
       "      <th>lastdate</th>\n",
       "      <th>location</th>\n",
       "      <th>total_cases</th>\n",
       "      <th>total_deaths</th>\n",
       "      <th>total_cases_pm</th>\n",
       "      <th>total_deaths_pm</th>\n",
       "      <th>population</th>\n",
       "      <th>pop_density</th>\n",
       "      <th>median_age</th>\n",
       "      <th>gdp_per_capita</th>\n",
       "      <th>hosp_beds</th>\n",
       "    </tr>\n",
       "    <tr>\n",
       "      <th>iso_code</th>\n",
       "      <th></th>\n",
       "      <th></th>\n",
       "      <th></th>\n",
       "      <th></th>\n",
       "      <th></th>\n",
       "      <th></th>\n",
       "      <th></th>\n",
       "      <th></th>\n",
       "      <th></th>\n",
       "      <th></th>\n",
       "      <th></th>\n",
       "    </tr>\n",
       "  </thead>\n",
       "  <tbody>\n",
       "    <tr>\n",
       "      <th>AFG</th>\n",
       "      <td>2020-06-01</td>\n",
       "      <td>Afghanistan</td>\n",
       "      <td>15205</td>\n",
       "      <td>257</td>\n",
       "      <td>390.589</td>\n",
       "      <td>6.602</td>\n",
       "      <td>38928341.0</td>\n",
       "      <td>54.422</td>\n",
       "      <td>18.6</td>\n",
       "      <td>1803.987</td>\n",
       "      <td>0.50</td>\n",
       "    </tr>\n",
       "    <tr>\n",
       "      <th>ALB</th>\n",
       "      <td>2020-06-01</td>\n",
       "      <td>Albania</td>\n",
       "      <td>1137</td>\n",
       "      <td>33</td>\n",
       "      <td>395.093</td>\n",
       "      <td>11.467</td>\n",
       "      <td>2877800.0</td>\n",
       "      <td>104.871</td>\n",
       "      <td>38.0</td>\n",
       "      <td>11803.431</td>\n",
       "      <td>2.89</td>\n",
       "    </tr>\n",
       "    <tr>\n",
       "      <th>DZA</th>\n",
       "      <td>2020-06-01</td>\n",
       "      <td>Algeria</td>\n",
       "      <td>9394</td>\n",
       "      <td>653</td>\n",
       "      <td>214.225</td>\n",
       "      <td>14.891</td>\n",
       "      <td>43851043.0</td>\n",
       "      <td>17.348</td>\n",
       "      <td>29.1</td>\n",
       "      <td>13913.839</td>\n",
       "      <td>1.90</td>\n",
       "    </tr>\n",
       "    <tr>\n",
       "      <th>AND</th>\n",
       "      <td>2020-06-01</td>\n",
       "      <td>Andorra</td>\n",
       "      <td>764</td>\n",
       "      <td>51</td>\n",
       "      <td>9888.048</td>\n",
       "      <td>660.066</td>\n",
       "      <td>77265.0</td>\n",
       "      <td>163.755</td>\n",
       "      <td>NaN</td>\n",
       "      <td>NaN</td>\n",
       "      <td>NaN</td>\n",
       "    </tr>\n",
       "    <tr>\n",
       "      <th>AGO</th>\n",
       "      <td>2020-06-01</td>\n",
       "      <td>Angola</td>\n",
       "      <td>86</td>\n",
       "      <td>4</td>\n",
       "      <td>2.617</td>\n",
       "      <td>0.122</td>\n",
       "      <td>32866268.0</td>\n",
       "      <td>23.890</td>\n",
       "      <td>16.8</td>\n",
       "      <td>5819.495</td>\n",
       "      <td>NaN</td>\n",
       "    </tr>\n",
       "  </tbody>\n",
       "</table>\n",
       "</div>"
      ],
      "text/plain": [
       "            lastdate     location  total_cases  total_deaths  total_cases_pm  \\\n",
       "iso_code                                                                       \n",
       "AFG       2020-06-01  Afghanistan        15205           257         390.589   \n",
       "ALB       2020-06-01      Albania         1137            33         395.093   \n",
       "DZA       2020-06-01      Algeria         9394           653         214.225   \n",
       "AND       2020-06-01      Andorra          764            51        9888.048   \n",
       "AGO       2020-06-01       Angola           86             4           2.617   \n",
       "\n",
       "          total_deaths_pm  population  pop_density  median_age  \\\n",
       "iso_code                                                         \n",
       "AFG                 6.602  38928341.0       54.422        18.6   \n",
       "ALB                11.467   2877800.0      104.871        38.0   \n",
       "DZA                14.891  43851043.0       17.348        29.1   \n",
       "AND               660.066     77265.0      163.755         NaN   \n",
       "AGO                 0.122  32866268.0       23.890        16.8   \n",
       "\n",
       "          gdp_per_capita  hosp_beds  \n",
       "iso_code                             \n",
       "AFG             1803.987       0.50  \n",
       "ALB            11803.431       2.89  \n",
       "DZA            13913.839       1.90  \n",
       "AND                  NaN        NaN  \n",
       "AGO             5819.495        NaN  "
      ]
     },
     "execution_count": 3,
     "metadata": {},
     "output_type": "execute_result"
    }
   ],
   "source": [
    "covid.head()"
   ]
  },
  {
   "cell_type": "markdown",
   "id": "9b0e536b",
   "metadata": {},
   "source": [
    "Existen razon conceptuales para pensar que la densidad de población ``population_density``, la edad promedio ``median_age`` y el PIB per capita ``gdp_per_capita`` pueden ser predictores del total de casos de covid por millón de habitantes ``total_cases_pm``."
   ]
  },
  {
   "cell_type": "code",
   "execution_count": 4,
   "id": "f117e7fa",
   "metadata": {},
   "outputs": [],
   "source": [
    "variables =['pop_density', 'median_age', 'gdp_per_capita']"
   ]
  },
  {
   "cell_type": "code",
   "execution_count": 5,
   "id": "c48302f5",
   "metadata": {},
   "outputs": [],
   "source": [
    "analisis = covid.loc[:,['total_cases_pm']+ variables].dropna()"
   ]
  },
  {
   "cell_type": "code",
   "execution_count": 17,
   "id": "77ea0063",
   "metadata": {},
   "outputs": [
    {
     "data": {
      "text/html": [
       "<div>\n",
       "<style scoped>\n",
       "    .dataframe tbody tr th:only-of-type {\n",
       "        vertical-align: middle;\n",
       "    }\n",
       "\n",
       "    .dataframe tbody tr th {\n",
       "        vertical-align: top;\n",
       "    }\n",
       "\n",
       "    .dataframe thead th {\n",
       "        text-align: right;\n",
       "    }\n",
       "</style>\n",
       "<table border=\"1\" class=\"dataframe\">\n",
       "  <thead>\n",
       "    <tr style=\"text-align: right;\">\n",
       "      <th></th>\n",
       "      <th>count</th>\n",
       "      <th>mean</th>\n",
       "      <th>std</th>\n",
       "      <th>min</th>\n",
       "      <th>25%</th>\n",
       "      <th>50%</th>\n",
       "      <th>75%</th>\n",
       "      <th>max</th>\n",
       "    </tr>\n",
       "  </thead>\n",
       "  <tbody>\n",
       "    <tr>\n",
       "      <th>total_cases_pm</th>\n",
       "      <td>175.0</td>\n",
       "      <td>1134.015709</td>\n",
       "      <td>2101.363772</td>\n",
       "      <td>0.00</td>\n",
       "      <td>67.4480</td>\n",
       "      <td>263.413</td>\n",
       "      <td>1357.506</td>\n",
       "      <td>19753.146</td>\n",
       "    </tr>\n",
       "    <tr>\n",
       "      <th>pop_density</th>\n",
       "      <td>175.0</td>\n",
       "      <td>247.151863</td>\n",
       "      <td>822.398967</td>\n",
       "      <td>1.98</td>\n",
       "      <td>36.0660</td>\n",
       "      <td>82.328</td>\n",
       "      <td>207.960</td>\n",
       "      <td>7915.731</td>\n",
       "    </tr>\n",
       "    <tr>\n",
       "      <th>median_age</th>\n",
       "      <td>175.0</td>\n",
       "      <td>30.537143</td>\n",
       "      <td>9.117751</td>\n",
       "      <td>15.10</td>\n",
       "      <td>22.3000</td>\n",
       "      <td>29.700</td>\n",
       "      <td>38.700</td>\n",
       "      <td>48.200</td>\n",
       "    </tr>\n",
       "    <tr>\n",
       "      <th>gdp_per_capita</th>\n",
       "      <td>175.0</td>\n",
       "      <td>19008.385423</td>\n",
       "      <td>19673.386571</td>\n",
       "      <td>661.24</td>\n",
       "      <td>4458.2025</td>\n",
       "      <td>12951.839</td>\n",
       "      <td>27467.146</td>\n",
       "      <td>116935.600</td>\n",
       "    </tr>\n",
       "  </tbody>\n",
       "</table>\n",
       "</div>"
      ],
      "text/plain": [
       "                count          mean           std     min        25%  \\\n",
       "total_cases_pm  175.0   1134.015709   2101.363772    0.00    67.4480   \n",
       "pop_density     175.0    247.151863    822.398967    1.98    36.0660   \n",
       "median_age      175.0     30.537143      9.117751   15.10    22.3000   \n",
       "gdp_per_capita  175.0  19008.385423  19673.386571  661.24  4458.2025   \n",
       "\n",
       "                      50%        75%         max  \n",
       "total_cases_pm    263.413   1357.506   19753.146  \n",
       "pop_density        82.328    207.960    7915.731  \n",
       "median_age         29.700     38.700      48.200  \n",
       "gdp_per_capita  12951.839  27467.146  116935.600  "
      ]
     },
     "execution_count": 17,
     "metadata": {},
     "output_type": "execute_result"
    }
   ],
   "source": [
    "analisis.describe().T"
   ]
  },
  {
   "cell_type": "markdown",
   "id": "667ed576",
   "metadata": {},
   "source": [
    "### Ajuste a un modelo de regresión lineal"
   ]
  },
  {
   "cell_type": "code",
   "execution_count": 7,
   "id": "533c2f72",
   "metadata": {},
   "outputs": [],
   "source": [
    "def obtenerML(df):\n",
    "    Y = df.total_cases_pm\n",
    "    X = df[['pop_density', 'median_age','gdp_per_capita']]\n",
    "    X = sm.add_constant(X)\n",
    "    return sm.OLS(Y,X).fit()"
   ]
  },
  {
   "cell_type": "code",
   "execution_count": 8,
   "id": "3514e585",
   "metadata": {},
   "outputs": [],
   "source": [
    "ml = obtenerML(analisis)"
   ]
  },
  {
   "cell_type": "code",
   "execution_count": 9,
   "id": "e3826f13",
   "metadata": {},
   "outputs": [
    {
     "data": {
      "text/html": [
       "<table class=\"simpletable\">\n",
       "<caption>OLS Regression Results</caption>\n",
       "<tr>\n",
       "  <th>Dep. Variable:</th>     <td>total_cases_pm</td>  <th>  R-squared:         </th> <td>   0.520</td>\n",
       "</tr>\n",
       "<tr>\n",
       "  <th>Model:</th>                   <td>OLS</td>       <th>  Adj. R-squared:    </th> <td>   0.512</td>\n",
       "</tr>\n",
       "<tr>\n",
       "  <th>Method:</th>             <td>Least Squares</td>  <th>  F-statistic:       </th> <td>   61.81</td>\n",
       "</tr>\n",
       "<tr>\n",
       "  <th>Date:</th>             <td>Sat, 21 Jan 2023</td> <th>  Prob (F-statistic):</th> <td>4.06e-27</td>\n",
       "</tr>\n",
       "<tr>\n",
       "  <th>Time:</th>                 <td>12:07:22</td>     <th>  Log-Likelihood:    </th> <td> -1522.4</td>\n",
       "</tr>\n",
       "<tr>\n",
       "  <th>No. Observations:</th>      <td>   175</td>      <th>  AIC:               </th> <td>   3053.</td>\n",
       "</tr>\n",
       "<tr>\n",
       "  <th>Df Residuals:</th>          <td>   171</td>      <th>  BIC:               </th> <td>   3065.</td>\n",
       "</tr>\n",
       "<tr>\n",
       "  <th>Df Model:</th>              <td>     3</td>      <th>                     </th>     <td> </td>   \n",
       "</tr>\n",
       "<tr>\n",
       "  <th>Covariance Type:</th>      <td>nonrobust</td>    <th>                     </th>     <td> </td>   \n",
       "</tr>\n",
       "</table>\n",
       "<table class=\"simpletable\">\n",
       "<tr>\n",
       "         <td></td>           <th>coef</th>     <th>std err</th>      <th>t</th>      <th>P>|t|</th>  <th>[0.025</th>    <th>0.975]</th>  \n",
       "</tr>\n",
       "<tr>\n",
       "  <th>const</th>          <td>  944.4731</td> <td>  426.712</td> <td>    2.213</td> <td> 0.028</td> <td>  102.172</td> <td> 1786.774</td>\n",
       "</tr>\n",
       "<tr>\n",
       "  <th>pop_density</th>    <td>   -0.2057</td> <td>    0.142</td> <td>   -1.447</td> <td> 0.150</td> <td>   -0.486</td> <td>    0.075</td>\n",
       "</tr>\n",
       "<tr>\n",
       "  <th>median_age</th>     <td>  -49.4398</td> <td>   16.013</td> <td>   -3.088</td> <td> 0.002</td> <td>  -81.048</td> <td>  -17.832</td>\n",
       "</tr>\n",
       "<tr>\n",
       "  <th>gdp_per_capita</th> <td>    0.0921</td> <td>    0.008</td> <td>   12.015</td> <td> 0.000</td> <td>    0.077</td> <td>    0.107</td>\n",
       "</tr>\n",
       "</table>\n",
       "<table class=\"simpletable\">\n",
       "<tr>\n",
       "  <th>Omnibus:</th>       <td>105.361</td> <th>  Durbin-Watson:     </th> <td>   2.194</td> \n",
       "</tr>\n",
       "<tr>\n",
       "  <th>Prob(Omnibus):</th> <td> 0.000</td>  <th>  Jarque-Bera (JB):  </th> <td>1182.641</td> \n",
       "</tr>\n",
       "<tr>\n",
       "  <th>Skew:</th>          <td> 1.967</td>  <th>  Prob(JB):          </th> <td>1.56e-257</td>\n",
       "</tr>\n",
       "<tr>\n",
       "  <th>Kurtosis:</th>      <td>15.113</td>  <th>  Cond. No.          </th> <td>1.05e+05</td> \n",
       "</tr>\n",
       "</table><br/><br/>Notes:<br/>[1] Standard Errors assume that the covariance matrix of the errors is correctly specified.<br/>[2] The condition number is large, 1.05e+05. This might indicate that there are<br/>strong multicollinearity or other numerical problems."
      ],
      "text/plain": [
       "<class 'statsmodels.iolib.summary.Summary'>\n",
       "\"\"\"\n",
       "                            OLS Regression Results                            \n",
       "==============================================================================\n",
       "Dep. Variable:         total_cases_pm   R-squared:                       0.520\n",
       "Model:                            OLS   Adj. R-squared:                  0.512\n",
       "Method:                 Least Squares   F-statistic:                     61.81\n",
       "Date:                Sat, 21 Jan 2023   Prob (F-statistic):           4.06e-27\n",
       "Time:                        12:07:22   Log-Likelihood:                -1522.4\n",
       "No. Observations:                 175   AIC:                             3053.\n",
       "Df Residuals:                     171   BIC:                             3065.\n",
       "Df Model:                           3                                         \n",
       "Covariance Type:            nonrobust                                         \n",
       "==================================================================================\n",
       "                     coef    std err          t      P>|t|      [0.025      0.975]\n",
       "----------------------------------------------------------------------------------\n",
       "const            944.4731    426.712      2.213      0.028     102.172    1786.774\n",
       "pop_density       -0.2057      0.142     -1.447      0.150      -0.486       0.075\n",
       "median_age       -49.4398     16.013     -3.088      0.002     -81.048     -17.832\n",
       "gdp_per_capita     0.0921      0.008     12.015      0.000       0.077       0.107\n",
       "==============================================================================\n",
       "Omnibus:                      105.361   Durbin-Watson:                   2.194\n",
       "Prob(Omnibus):                  0.000   Jarque-Bera (JB):             1182.641\n",
       "Skew:                           1.967   Prob(JB):                    1.56e-257\n",
       "Kurtosis:                      15.113   Cond. No.                     1.05e+05\n",
       "==============================================================================\n",
       "\n",
       "Notes:\n",
       "[1] Standard Errors assume that the covariance matrix of the errors is correctly specified.\n",
       "[2] The condition number is large, 1.05e+05. This might indicate that there are\n",
       "strong multicollinearity or other numerical problems.\n",
       "\"\"\""
      ]
     },
     "execution_count": 9,
     "metadata": {},
     "output_type": "execute_result"
    }
   ],
   "source": [
    "ml.summary()"
   ]
  },
  {
   "cell_type": "markdown",
   "id": "67f2dcb3",
   "metadata": {},
   "source": [
    "Detectar paises que tienen una influencia descomunal en el modelo"
   ]
  },
  {
   "cell_type": "code",
   "execution_count": 10,
   "id": "bd39797b",
   "metadata": {},
   "outputs": [],
   "source": [
    "influencia = ml.get_influence().summary_frame()"
   ]
  },
  {
   "cell_type": "code",
   "execution_count": 11,
   "id": "db748287",
   "metadata": {},
   "outputs": [
    {
     "data": {
      "text/html": [
       "<div>\n",
       "<style scoped>\n",
       "    .dataframe tbody tr th:only-of-type {\n",
       "        vertical-align: middle;\n",
       "    }\n",
       "\n",
       "    .dataframe tbody tr th {\n",
       "        vertical-align: top;\n",
       "    }\n",
       "\n",
       "    .dataframe thead th {\n",
       "        text-align: right;\n",
       "    }\n",
       "</style>\n",
       "<table border=\"1\" class=\"dataframe\">\n",
       "  <thead>\n",
       "    <tr style=\"text-align: right;\">\n",
       "      <th></th>\n",
       "      <th>cooks_d</th>\n",
       "    </tr>\n",
       "    <tr>\n",
       "      <th>iso_code</th>\n",
       "      <th></th>\n",
       "    </tr>\n",
       "  </thead>\n",
       "  <tbody>\n",
       "    <tr>\n",
       "      <th>HKG</th>\n",
       "      <td>0.780662</td>\n",
       "    </tr>\n",
       "    <tr>\n",
       "      <th>QAT</th>\n",
       "      <td>5.080180</td>\n",
       "    </tr>\n",
       "  </tbody>\n",
       "</table>\n",
       "</div>"
      ],
      "text/plain": [
       "           cooks_d\n",
       "iso_code          \n",
       "HKG       0.780662\n",
       "QAT       5.080180"
      ]
     },
     "execution_count": 11,
     "metadata": {},
     "output_type": "execute_result"
    }
   ],
   "source": [
    "influencia.loc[influencia.cooks_d>0.5, ['cooks_d']]\n"
   ]
  },
  {
   "cell_type": "code",
   "execution_count": 15,
   "id": "f7dc30e8",
   "metadata": {},
   "outputs": [
    {
     "data": {
      "text/html": [
       "<div>\n",
       "<style scoped>\n",
       "    .dataframe tbody tr th:only-of-type {\n",
       "        vertical-align: middle;\n",
       "    }\n",
       "\n",
       "    .dataframe tbody tr th {\n",
       "        vertical-align: top;\n",
       "    }\n",
       "\n",
       "    .dataframe thead th {\n",
       "        text-align: right;\n",
       "    }\n",
       "</style>\n",
       "<table border=\"1\" class=\"dataframe\">\n",
       "  <thead>\n",
       "    <tr style=\"text-align: right;\">\n",
       "      <th></th>\n",
       "      <th>total_cases_pm</th>\n",
       "      <th>pop_density</th>\n",
       "      <th>median_age</th>\n",
       "      <th>gdp_per_capita</th>\n",
       "    </tr>\n",
       "    <tr>\n",
       "      <th>iso_code</th>\n",
       "      <th></th>\n",
       "      <th></th>\n",
       "      <th></th>\n",
       "      <th></th>\n",
       "    </tr>\n",
       "  </thead>\n",
       "  <tbody>\n",
       "    <tr>\n",
       "      <th>HKG</th>\n",
       "      <td>0.000</td>\n",
       "      <td>7039.714</td>\n",
       "      <td>44.8</td>\n",
       "      <td>56054.92</td>\n",
       "    </tr>\n",
       "    <tr>\n",
       "      <th>QAT</th>\n",
       "      <td>19753.146</td>\n",
       "      <td>227.322</td>\n",
       "      <td>31.9</td>\n",
       "      <td>116935.60</td>\n",
       "    </tr>\n",
       "  </tbody>\n",
       "</table>\n",
       "</div>"
      ],
      "text/plain": [
       "          total_cases_pm  pop_density  median_age  gdp_per_capita\n",
       "iso_code                                                         \n",
       "HKG                0.000     7039.714        44.8        56054.92\n",
       "QAT            19753.146      227.322        31.9       116935.60"
      ]
     },
     "execution_count": 15,
     "metadata": {},
     "output_type": "execute_result"
    }
   ],
   "source": [
    "covid.loc[['HKG','QAT']][['total_cases_pm','pop_density','median_age','gdp_per_capita']]"
   ]
  },
  {
   "cell_type": "code",
   "execution_count": 16,
   "id": "91c185ae",
   "metadata": {},
   "outputs": [
    {
     "data": {
      "text/html": [
       "<div>\n",
       "<style scoped>\n",
       "    .dataframe tbody tr th:only-of-type {\n",
       "        vertical-align: middle;\n",
       "    }\n",
       "\n",
       "    .dataframe tbody tr th {\n",
       "        vertical-align: top;\n",
       "    }\n",
       "\n",
       "    .dataframe thead th {\n",
       "        text-align: right;\n",
       "    }\n",
       "</style>\n",
       "<table border=\"1\" class=\"dataframe\">\n",
       "  <thead>\n",
       "    <tr style=\"text-align: right;\">\n",
       "      <th></th>\n",
       "      <th>total_cases_pm</th>\n",
       "      <th>pop_density</th>\n",
       "      <th>median_age</th>\n",
       "      <th>gdp_per_capita</th>\n",
       "    </tr>\n",
       "    <tr>\n",
       "      <th>iso_code</th>\n",
       "      <th></th>\n",
       "      <th></th>\n",
       "      <th></th>\n",
       "      <th></th>\n",
       "    </tr>\n",
       "  </thead>\n",
       "  <tbody>\n",
       "    <tr>\n",
       "      <th>SGP</th>\n",
       "      <td>5962.727</td>\n",
       "      <td>7915.731</td>\n",
       "      <td>42.4</td>\n",
       "      <td>85535.383</td>\n",
       "    </tr>\n",
       "    <tr>\n",
       "      <th>CHL</th>\n",
       "      <td>5214.841</td>\n",
       "      <td>24.282</td>\n",
       "      <td>35.4</td>\n",
       "      <td>22767.037</td>\n",
       "    </tr>\n",
       "  </tbody>\n",
       "</table>\n",
       "</div>"
      ],
      "text/plain": [
       "          total_cases_pm  pop_density  median_age  gdp_per_capita\n",
       "iso_code                                                         \n",
       "SGP             5962.727     7915.731        42.4       85535.383\n",
       "CHL             5214.841       24.282        35.4       22767.037"
      ]
     },
     "execution_count": 16,
     "metadata": {},
     "output_type": "execute_result"
    }
   ],
   "source": [
    "covid.loc[['SGP','CHL']][['total_cases_pm','pop_density','median_age','gdp_per_capita']]"
   ]
  },
  {
   "cell_type": "markdown",
   "id": "9452e900",
   "metadata": {},
   "source": [
    "#### Gráfico de Influencia  \n",
    "  \n",
    "Paises con una distancia de Cook grande tendrán circulos de mayor diámetro. "
   ]
  },
  {
   "cell_type": "code",
   "execution_count": 23,
   "id": "efc20988",
   "metadata": {},
   "outputs": [
    {
     "data": {
      "image/png": "[encoded data removed]",
      "text/plain": [
       "<Figure size 720x432 with 1 Axes>"
      ]
     },
     "metadata": {
      "needs_background": "light"
     },
     "output_type": "display_data"
    }
   ],
   "source": [
    "fig, ax = plt.subplots(figsize=(10,6))\n",
    "sm.graphics.influence_plot(ml, ax= ax, criterion=\"cooks\")\n",
    "plt.show()"
   ]
  },
  {
   "cell_type": "code",
   "execution_count": 24,
   "id": "3fe158d4",
   "metadata": {},
   "outputs": [],
   "source": [
    "covid_sin_ol= analisis.loc[influencia.cooks_d<0.5]"
   ]
  },
  {
   "cell_type": "code",
   "execution_count": 25,
   "id": "a2b64c09",
   "metadata": {},
   "outputs": [],
   "source": [
    "ml = obtenerML(covid_sin_ol)"
   ]
  },
  {
   "cell_type": "code",
   "execution_count": 26,
   "id": "96ffdbec",
   "metadata": {},
   "outputs": [
    {
     "data": {
      "text/html": [
       "<table class=\"simpletable\">\n",
       "<caption>OLS Regression Results</caption>\n",
       "<tr>\n",
       "  <th>Dep. Variable:</th>     <td>total_cases_pm</td>  <th>  R-squared:         </th> <td>   0.453</td>\n",
       "</tr>\n",
       "<tr>\n",
       "  <th>Model:</th>                   <td>OLS</td>       <th>  Adj. R-squared:    </th> <td>   0.443</td>\n",
       "</tr>\n",
       "<tr>\n",
       "  <th>Method:</th>             <td>Least Squares</td>  <th>  F-statistic:       </th> <td>   46.56</td>\n",
       "</tr>\n",
       "<tr>\n",
       "  <th>Date:</th>             <td>Sat, 21 Jan 2023</td> <th>  Prob (F-statistic):</th> <td>5.52e-22</td>\n",
       "</tr>\n",
       "<tr>\n",
       "  <th>Time:</th>                 <td>12:28:52</td>     <th>  Log-Likelihood:    </th> <td> -1464.8</td>\n",
       "</tr>\n",
       "<tr>\n",
       "  <th>No. Observations:</th>      <td>   173</td>      <th>  AIC:               </th> <td>   2938.</td>\n",
       "</tr>\n",
       "<tr>\n",
       "  <th>Df Residuals:</th>          <td>   169</td>      <th>  BIC:               </th> <td>   2950.</td>\n",
       "</tr>\n",
       "<tr>\n",
       "  <th>Df Model:</th>              <td>     3</td>      <th>                     </th>     <td> </td>   \n",
       "</tr>\n",
       "<tr>\n",
       "  <th>Covariance Type:</th>      <td>nonrobust</td>    <th>                     </th>     <td> </td>   \n",
       "</tr>\n",
       "</table>\n",
       "<table class=\"simpletable\">\n",
       "<tr>\n",
       "         <td></td>           <th>coef</th>     <th>std err</th>      <th>t</th>      <th>P>|t|</th>  <th>[0.025</th>    <th>0.975]</th>  \n",
       "</tr>\n",
       "<tr>\n",
       "  <th>const</th>          <td>   44.0854</td> <td>  349.924</td> <td>    0.126</td> <td> 0.900</td> <td> -646.700</td> <td>  734.870</td>\n",
       "</tr>\n",
       "<tr>\n",
       "  <th>pop_density</th>    <td>    0.2423</td> <td>    0.145</td> <td>    1.666</td> <td> 0.098</td> <td>   -0.045</td> <td>    0.529</td>\n",
       "</tr>\n",
       "<tr>\n",
       "  <th>median_age</th>     <td>   -2.5165</td> <td>   13.526</td> <td>   -0.186</td> <td> 0.853</td> <td>  -29.217</td> <td>   24.184</td>\n",
       "</tr>\n",
       "<tr>\n",
       "  <th>gdp_per_capita</th> <td>    0.0557</td> <td>    0.007</td> <td>    7.875</td> <td> 0.000</td> <td>    0.042</td> <td>    0.070</td>\n",
       "</tr>\n",
       "</table>\n",
       "<table class=\"simpletable\">\n",
       "<tr>\n",
       "  <th>Omnibus:</th>       <td>53.262</td> <th>  Durbin-Watson:     </th> <td>   2.166</td>\n",
       "</tr>\n",
       "<tr>\n",
       "  <th>Prob(Omnibus):</th> <td> 0.000</td> <th>  Jarque-Bera (JB):  </th> <td> 123.935</td>\n",
       "</tr>\n",
       "<tr>\n",
       "  <th>Skew:</th>          <td> 1.347</td> <th>  Prob(JB):          </th> <td>1.22e-27</td>\n",
       "</tr>\n",
       "<tr>\n",
       "  <th>Kurtosis:</th>      <td> 6.152</td> <th>  Cond. No.          </th> <td>1.01e+05</td>\n",
       "</tr>\n",
       "</table><br/><br/>Notes:<br/>[1] Standard Errors assume that the covariance matrix of the errors is correctly specified.<br/>[2] The condition number is large, 1.01e+05. This might indicate that there are<br/>strong multicollinearity or other numerical problems."
      ],
      "text/plain": [
       "<class 'statsmodels.iolib.summary.Summary'>\n",
       "\"\"\"\n",
       "                            OLS Regression Results                            \n",
       "==============================================================================\n",
       "Dep. Variable:         total_cases_pm   R-squared:                       0.453\n",
       "Model:                            OLS   Adj. R-squared:                  0.443\n",
       "Method:                 Least Squares   F-statistic:                     46.56\n",
       "Date:                Sat, 21 Jan 2023   Prob (F-statistic):           5.52e-22\n",
       "Time:                        12:28:52   Log-Likelihood:                -1464.8\n",
       "No. Observations:                 173   AIC:                             2938.\n",
       "Df Residuals:                     169   BIC:                             2950.\n",
       "Df Model:                           3                                         \n",
       "Covariance Type:            nonrobust                                         \n",
       "==================================================================================\n",
       "                     coef    std err          t      P>|t|      [0.025      0.975]\n",
       "----------------------------------------------------------------------------------\n",
       "const             44.0854    349.924      0.126      0.900    -646.700     734.870\n",
       "pop_density        0.2423      0.145      1.666      0.098      -0.045       0.529\n",
       "median_age        -2.5165     13.526     -0.186      0.853     -29.217      24.184\n",
       "gdp_per_capita     0.0557      0.007      7.875      0.000       0.042       0.070\n",
       "==============================================================================\n",
       "Omnibus:                       53.262   Durbin-Watson:                   2.166\n",
       "Prob(Omnibus):                  0.000   Jarque-Bera (JB):              123.935\n",
       "Skew:                           1.347   Prob(JB):                     1.22e-27\n",
       "Kurtosis:                       6.152   Cond. No.                     1.01e+05\n",
       "==============================================================================\n",
       "\n",
       "Notes:\n",
       "[1] Standard Errors assume that the covariance matrix of the errors is correctly specified.\n",
       "[2] The condition number is large, 1.01e+05. This might indicate that there are\n",
       "strong multicollinearity or other numerical problems.\n",
       "\"\"\""
      ]
     },
     "execution_count": 26,
     "metadata": {},
     "output_type": "execute_result"
    }
   ],
   "source": [
    "ml.summary()"
   ]
  },
  {
   "cell_type": "code",
   "execution_count": 27,
   "id": "1ce51b0c",
   "metadata": {},
   "outputs": [
    {
     "data": {
      "image/png": "[encoded data removed]",
      "text/plain": [
       "<Figure size 720x432 with 1 Axes>"
      ]
     },
     "metadata": {
      "needs_background": "light"
     },
     "output_type": "display_data"
    }
   ],
   "source": [
    "fig, ax = plt.subplots(figsize=(10,6))\n",
    "sm.graphics.influence_plot(ml, ax= ax, criterion=\"cooks\")\n",
    "plt.show()"
   ]
  },
  {
   "cell_type": "code",
   "execution_count": null,
   "id": "e7fb2d0d",
   "metadata": {},
   "outputs": [],
   "source": []
  }
 ],
 "metadata": {
  "kernelspec": {
   "display_name": "Python 3",
   "language": "python",
   "name": "python3"
  },
  "language_info": {
   "codemirror_mode": {
    "name": "ipython",
    "version": 3
   },
   "file_extension": ".py",
   "mimetype": "text/x-python",
   "name": "python",
   "nbconvert_exporter": "python",
   "pygments_lexer": "ipython3",
   "version": "3.8.8"
  }
 },
 "nbformat": 4,
 "nbformat_minor": 5
}
