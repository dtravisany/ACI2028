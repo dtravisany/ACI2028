{
  "nbformat": 4,
  "nbformat_minor": 0,
  "metadata": {
    "colab": {
      "provenance": []
    },
    "kernelspec": {
      "name": "python3",
      "display_name": "Python 3"
    },
    "language_info": {
      "name": "python"
    }
  },
  "cells": [
    {
      "cell_type": "code",
      "execution_count": null,
      "metadata": {
        "id": "ierPF5xSIFrv"
      },
      "outputs": [],
      "source": []
    },
    {
      "cell_type": "markdown",
      "source": [
        "# Variables Númericas en Python"
      ],
      "metadata": {
        "id": "WHysRR8wIyJj"
      }
    },
    {
      "cell_type": "code",
      "source": [
        "x = 15\n",
        "print(x,type(x)) # Imprimiremos el valor de la variable \"x\" y el tipo de variable\n",
        "y= 15.1\n",
        "print(y,type(y))"
      ],
      "metadata": {
        "colab": {
          "base_uri": "https://localhost:8080/"
        },
        "id": "lxy0Q0ZZI127",
        "outputId": "747ab2a1-b612-45b4-b64e-cd79bec484e4"
      },
      "execution_count": 1,
      "outputs": [
        {
          "output_type": "stream",
          "name": "stdout",
          "text": [
            "15 <class 'int'>\n",
            "15.1 <class 'float'>\n"
          ]
        }
      ]
    },
    {
      "cell_type": "code",
      "source": [
        "y = 21\n",
        "print(y,type(y))"
      ],
      "metadata": {
        "colab": {
          "base_uri": "https://localhost:8080/"
        },
        "id": "Gb5zYr2NJM8L",
        "outputId": "6aefb71a-a473-4289-ebcc-e22fbcc1ae86"
      },
      "execution_count": 3,
      "outputs": [
        {
          "output_type": "stream",
          "name": "stdout",
          "text": [
            "21 <class 'int'>\n"
          ]
        }
      ]
    },
    {
      "cell_type": "markdown",
      "source": [
        "## Operaciones con variables númericas"
      ],
      "metadata": {
        "id": "iX1uMLTnJy5W"
      }
    },
    {
      "cell_type": "code",
      "source": [
        "print(y+10) #SUMA\n",
        "suma=y+10\n",
        "print(suma)\n",
        "print(y*10) #MULTIPLICACIÓN\n",
        "print(y**2) #POTENCIA (elevado a)\n",
        "print(x/2)  #DIVISIÓN\n",
        "print(x//2) #DIVISIÓN ENTERA\n",
        "print(x%2) #MÓDULO (RESTO)"
      ],
      "metadata": {
        "colab": {
          "base_uri": "https://localhost:8080/"
        },
        "id": "DuM2JtRMJ3rn",
        "outputId": "0decff62-12fc-46e7-d2cf-abadb8e3848a"
      },
      "execution_count": 7,
      "outputs": [
        {
          "output_type": "stream",
          "name": "stdout",
          "text": [
            "31\n",
            "31\n",
            "210\n",
            "441\n",
            "7.5\n",
            "7\n",
            "1\n"
          ]
        }
      ]
    },
    {
      "cell_type": "code",
      "source": [],
      "metadata": {
        "id": "JDXdRfmFKdwQ"
      },
      "execution_count": null,
      "outputs": []
    },
    {
      "cell_type": "markdown",
      "source": [
        "# Variables Booleanas"
      ],
      "metadata": {
        "id": "2SoDptZrLDgc"
      }
    },
    {
      "cell_type": "code",
      "source": [
        "verdadero = True\n",
        "falso = False\n",
        "print(verdadero,type(verdadero))\n",
        "print(falso,type(falso))"
      ],
      "metadata": {
        "colab": {
          "base_uri": "https://localhost:8080/"
        },
        "id": "gVwlcMGaLHoK",
        "outputId": "07937dd6-3382-491d-ee5a-627340c46fba"
      },
      "execution_count": 8,
      "outputs": [
        {
          "output_type": "stream",
          "name": "stdout",
          "text": [
            "True <class 'bool'>\n",
            "False <class 'bool'>\n"
          ]
        }
      ]
    },
    {
      "cell_type": "code",
      "source": [],
      "metadata": {
        "id": "WRPoF-BULSO-"
      },
      "execution_count": null,
      "outputs": []
    },
    {
      "cell_type": "markdown",
      "source": [
        "## Operaciones con variables booleanas"
      ],
      "metadata": {
        "id": "eU5FC3QSLYhH"
      }
    },
    {
      "cell_type": "code",
      "source": [
        "print(verdadero or falso)\n",
        "print(verdadero and falso)\n",
        "print(verdadero and not falso)"
      ],
      "metadata": {
        "colab": {
          "base_uri": "https://localhost:8080/"
        },
        "id": "Ps98WXR-La37",
        "outputId": "f86621b5-ef1b-4e66-e3d2-2f28b97511ea"
      },
      "execution_count": 9,
      "outputs": [
        {
          "output_type": "stream",
          "name": "stdout",
          "text": [
            "True\n",
            "False\n",
            "True\n"
          ]
        }
      ]
    },
    {
      "cell_type": "code",
      "source": [
        "print(x<10)"
      ],
      "metadata": {
        "colab": {
          "base_uri": "https://localhost:8080/"
        },
        "id": "8eEWBuwALpPw",
        "outputId": "88b661bd-8b44-49f5-d718-72f75b00070e"
      },
      "execution_count": 10,
      "outputs": [
        {
          "output_type": "stream",
          "name": "stdout",
          "text": [
            "False\n"
          ]
        }
      ]
    },
    {
      "cell_type": "code",
      "source": [
        "# x=10 -> asignamos el valor de 10 a la variable \"x\"\n",
        "# x==10 -> preguntamos si x vale 10?\n",
        "print(x<10,x>10, x==10,x<=15,x>=15)\n"
      ],
      "metadata": {
        "colab": {
          "base_uri": "https://localhost:8080/"
        },
        "id": "zfPCg5JAL-3K",
        "outputId": "ca60999e-6a82-4c27-9383-dafeb1b17d4f"
      },
      "execution_count": 11,
      "outputs": [
        {
          "output_type": "stream",
          "name": "stdout",
          "text": [
            "False True False True True\n"
          ]
        }
      ]
    },
    {
      "cell_type": "markdown",
      "source": [
        "# Cadenas (Strings)\n"
      ],
      "metadata": {
        "id": "riHBcdTiMX9t"
      }
    },
    {
      "cell_type": "code",
      "source": [
        "frase=\"Hola Mundo\"\n",
        "print(frase,type(frase))"
      ],
      "metadata": {
        "colab": {
          "base_uri": "https://localhost:8080/"
        },
        "id": "E2Ce_s7SMePF",
        "outputId": "d146b687-1704-418f-c5d4-06aa8b26a79a"
      },
      "execution_count": 14,
      "outputs": [
        {
          "output_type": "stream",
          "name": "stdout",
          "text": [
            "Hola Mundo <class 'str'>\n"
          ]
        }
      ]
    },
    {
      "cell_type": "code",
      "source": [
        "frase2='Hola Mundo'\n",
        "print(frase2, type(frase2))"
      ],
      "metadata": {
        "colab": {
          "base_uri": "https://localhost:8080/"
        },
        "id": "eA4cJ7lDMq9v",
        "outputId": "b39873bf-b383-47fb-c444-da75acad2c94"
      },
      "execution_count": 15,
      "outputs": [
        {
          "output_type": "stream",
          "name": "stdout",
          "text": [
            "Hola Mundo <class 'str'>\n"
          ]
        }
      ]
    },
    {
      "cell_type": "code",
      "source": [
        "print(frase==frase2)"
      ],
      "metadata": {
        "colab": {
          "base_uri": "https://localhost:8080/"
        },
        "id": "0xVSuJyxM2Xf",
        "outputId": "a3163aba-a98b-4d58-8c1e-73344c74bde6"
      },
      "execution_count": 16,
      "outputs": [
        {
          "output_type": "stream",
          "name": "stdout",
          "text": [
            "True\n"
          ]
        }
      ]
    },
    {
      "cell_type": "code",
      "source": [
        "frase= \"El alumno dijo: \"No se programar!!\"\""
      ],
      "metadata": {
        "colab": {
          "base_uri": "https://localhost:8080/",
          "height": 131
        },
        "id": "xWBENZPuM5J6",
        "outputId": "b0d2acad-5899-4623-a1cc-d4b608d68efb"
      },
      "execution_count": 17,
      "outputs": [
        {
          "output_type": "error",
          "ename": "SyntaxError",
          "evalue": "ignored",
          "traceback": [
            "\u001b[0;36m  File \u001b[0;32m\"<ipython-input-17-4fb32836b67d>\"\u001b[0;36m, line \u001b[0;32m1\u001b[0m\n\u001b[0;31m    frase= \"El alumno dijo: \"No se programar!!\"\"\u001b[0m\n\u001b[0m                              ^\u001b[0m\n\u001b[0;31mSyntaxError\u001b[0m\u001b[0;31m:\u001b[0m invalid syntax\n"
          ]
        }
      ]
    },
    {
      "cell_type": "code",
      "source": [
        "frase='El alumno dijo: \"Sí se programar\"'"
      ],
      "metadata": {
        "id": "7cEq1kQLNTf6"
      },
      "execution_count": 18,
      "outputs": []
    },
    {
      "cell_type": "code",
      "source": [
        "print(frase)"
      ],
      "metadata": {
        "colab": {
          "base_uri": "https://localhost:8080/"
        },
        "id": "cIdscY5kNZas",
        "outputId": "c1692ac1-1c05-4170-96ad-230c5d998c12"
      },
      "execution_count": 19,
      "outputs": [
        {
          "output_type": "stream",
          "name": "stdout",
          "text": [
            "El alumno dijo: \"Sí se programar\"\n"
          ]
        }
      ]
    },
    {
      "cell_type": "code",
      "source": [
        "frase2=\"'Hola Mundo'\"\n",
        "print(frase2, type(frase2))"
      ],
      "metadata": {
        "colab": {
          "base_uri": "https://localhost:8080/"
        },
        "id": "UEZjG1B6NbYT",
        "outputId": "1ed4bd75-afb4-46b3-c8a3-65782919f8ed"
      },
      "execution_count": 20,
      "outputs": [
        {
          "output_type": "stream",
          "name": "stdout",
          "text": [
            "'Hola Mundo' <class 'str'>\n"
          ]
        }
      ]
    },
    {
      "cell_type": "code",
      "source": [
        "frase2=5\n",
        "print(frase2,type(frase2))\n",
        "frase3=\"5\"\n",
        "print(frase2==frase3)"
      ],
      "metadata": {
        "colab": {
          "base_uri": "https://localhost:8080/"
        },
        "id": "Yr1ZYad0NkvJ",
        "outputId": "303a04aa-08b8-4545-87aa-65ec3a015960"
      },
      "execution_count": 22,
      "outputs": [
        {
          "output_type": "stream",
          "name": "stdout",
          "text": [
            "5 <class 'int'>\n",
            "False\n"
          ]
        }
      ]
    },
    {
      "cell_type": "markdown",
      "source": [
        "## Operaciones con String"
      ],
      "metadata": {
        "id": "YESmB1RZNtQq"
      }
    },
    {
      "cell_type": "code",
      "source": [
        "nombre=\"Pedro\"\n",
        "apellido=\"Morales\"\n",
        "completo=nombre+apellido\n",
        "print(completo,type(completo))"
      ],
      "metadata": {
        "colab": {
          "base_uri": "https://localhost:8080/"
        },
        "id": "piZfxmPqNwL5",
        "outputId": "4d953cc5-26ba-4bdd-9624-1cd971fc1ee4"
      },
      "execution_count": 24,
      "outputs": [
        {
          "output_type": "stream",
          "name": "stdout",
          "text": [
            "PedroMorales <class 'str'>\n"
          ]
        }
      ]
    },
    {
      "cell_type": "code",
      "source": [
        "completo=nombre+\" F. \"+apellido\n",
        "completo2=\"pedro f. morales\"\n",
        "print(completo,type(completo))"
      ],
      "metadata": {
        "colab": {
          "base_uri": "https://localhost:8080/"
        },
        "id": "k5UsA_57OXq4",
        "outputId": "f4856a8a-efce-4ab1-b4a4-cf91681c8691"
      },
      "execution_count": 29,
      "outputs": [
        {
          "output_type": "stream",
          "name": "stdout",
          "text": [
            "Pedro F. Morales <class 'str'>\n"
          ]
        }
      ]
    },
    {
      "cell_type": "code",
      "source": [
        "print(completo==completo2)"
      ],
      "metadata": {
        "colab": {
          "base_uri": "https://localhost:8080/"
        },
        "id": "Qlwk6g_YPES8",
        "outputId": "e7c6dc63-e050-4f4d-d644-fe336dfd1a68"
      },
      "execution_count": 30,
      "outputs": [
        {
          "output_type": "stream",
          "name": "stdout",
          "text": [
            "False\n"
          ]
        }
      ]
    },
    {
      "cell_type": "code",
      "source": [
        "print(completo.lower()==completo2)"
      ],
      "metadata": {
        "colab": {
          "base_uri": "https://localhost:8080/"
        },
        "id": "roG7DyA-PIhR",
        "outputId": "fe26635f-0d74-4644-a840-e70c26268d09"
      },
      "execution_count": 31,
      "outputs": [
        {
          "output_type": "stream",
          "name": "stdout",
          "text": [
            "True\n"
          ]
        }
      ]
    },
    {
      "cell_type": "code",
      "source": [
        "completo.capitalize()"
      ],
      "metadata": {
        "colab": {
          "base_uri": "https://localhost:8080/",
          "height": 35
        },
        "id": "tJWdeD2qOjSN",
        "outputId": "ec44963b-93bb-4cad-de08-8150e43a1934"
      },
      "execution_count": 27,
      "outputs": [
        {
          "output_type": "execute_result",
          "data": {
            "text/plain": [
              "'Pedro f. morales'"
            ],
            "application/vnd.google.colaboratory.intrinsic+json": {
              "type": "string"
            }
          },
          "metadata": {},
          "execution_count": 27
        }
      ]
    },
    {
      "cell_type": "code",
      "source": [
        "\n",
        "print(completo.upper())\n",
        "print(completo.upper()==completo2.upper())"
      ],
      "metadata": {
        "colab": {
          "base_uri": "https://localhost:8080/"
        },
        "id": "aKOJV48QOx6F",
        "outputId": "f8648026-815a-4f47-befc-aab2c3c67165"
      },
      "execution_count": 33,
      "outputs": [
        {
          "output_type": "stream",
          "name": "stdout",
          "text": [
            "PEDRO F. MORALES\n",
            "True\n"
          ]
        }
      ]
    },
    {
      "cell_type": "code",
      "source": [
        "print(len(completo))"
      ],
      "metadata": {
        "colab": {
          "base_uri": "https://localhost:8080/"
        },
        "id": "QXOGg7ugO5rz",
        "outputId": "ae32741b-81d1-4735-a189-4290465c4bd3"
      },
      "execution_count": 34,
      "outputs": [
        {
          "output_type": "stream",
          "name": "stdout",
          "text": [
            "16\n"
          ]
        }
      ]
    },
    {
      "cell_type": "markdown",
      "source": [
        "# Listas"
      ],
      "metadata": {
        "id": "KFD7gNzCPrLL"
      }
    },
    {
      "cell_type": "code",
      "source": [
        "lista=[0,1,2,3,4,5]\n",
        "print(lista,type(lista))"
      ],
      "metadata": {
        "colab": {
          "base_uri": "https://localhost:8080/"
        },
        "id": "uHLG3DrcPu1C",
        "outputId": "2eb51ed3-fe8d-47a1-e154-bb9434125e89"
      },
      "execution_count": 35,
      "outputs": [
        {
          "output_type": "stream",
          "name": "stdout",
          "text": [
            "[0, 1, 2, 3, 4, 5] <class 'list'>\n"
          ]
        }
      ]
    },
    {
      "cell_type": "code",
      "source": [
        "valord=\"d\"\n",
        "listastr=[\"a\",\"b\",\"c\",valord]\n",
        "print(listastr,type(listastr))"
      ],
      "metadata": {
        "colab": {
          "base_uri": "https://localhost:8080/"
        },
        "id": "rXH6DKdkP2Vo",
        "outputId": "08692003-953f-4703-8661-e6dd1c03c98a"
      },
      "execution_count": 37,
      "outputs": [
        {
          "output_type": "stream",
          "name": "stdout",
          "text": [
            "['a', 'b', 'c', 'd'] <class 'list'>\n"
          ]
        }
      ]
    },
    {
      "cell_type": "markdown",
      "source": [
        "## Operaciones con listas"
      ],
      "metadata": {
        "id": "0lsIM8QnQI7S"
      }
    },
    {
      "cell_type": "code",
      "source": [
        "lista.append(6) # agregamos al final un elemento con append\n",
        "print(lista)"
      ],
      "metadata": {
        "colab": {
          "base_uri": "https://localhost:8080/"
        },
        "id": "gsqdQWd6QMd7",
        "outputId": "39fe5feb-c31e-4fac-dafd-3afccc9a5f82"
      },
      "execution_count": 43,
      "outputs": [
        {
          "output_type": "stream",
          "name": "stdout",
          "text": [
            "[0, 1, 2, 3, 4, 5, 6]\n"
          ]
        }
      ]
    },
    {
      "cell_type": "code",
      "source": [
        "lista.pop() # eliminamos el último elemento\n",
        "print(lista)"
      ],
      "metadata": {
        "colab": {
          "base_uri": "https://localhost:8080/"
        },
        "id": "DjMRV9uRQRTD",
        "outputId": "e632bba7-15e9-4b73-e2ef-d71e400b819b"
      },
      "execution_count": 44,
      "outputs": [
        {
          "output_type": "stream",
          "name": "stdout",
          "text": [
            "[0, 1, 2, 3, 4, 5]\n"
          ]
        }
      ]
    },
    {
      "cell_type": "code",
      "source": [
        "lista.append(6)\n",
        "print(lista)\n",
        "ultimo=lista.pop()\n",
        "print(ultimo,lista,type(ultimo),type(lista))"
      ],
      "metadata": {
        "colab": {
          "base_uri": "https://localhost:8080/"
        },
        "id": "SYQzv2L_Q_L5",
        "outputId": "43ad95ca-8868-499d-b9af-5fa46eb5341d"
      },
      "execution_count": 45,
      "outputs": [
        {
          "output_type": "stream",
          "name": "stdout",
          "text": [
            "[0, 1, 2, 3, 4, 5, 6]\n",
            "6 [0, 1, 2, 3, 4, 5] <class 'int'> <class 'list'>\n"
          ]
        }
      ]
    },
    {
      "cell_type": "code",
      "source": [
        "listastr.append(8) # podemos agregar cualquier tipo de objeto de cualquier clase a la lista\n",
        "print(listastr)"
      ],
      "metadata": {
        "colab": {
          "base_uri": "https://localhost:8080/"
        },
        "id": "rj8sDlvDQWmy",
        "outputId": "ba9d494d-364e-4ce7-c5c4-e298f8319d61"
      },
      "execution_count": 46,
      "outputs": [
        {
          "output_type": "stream",
          "name": "stdout",
          "text": [
            "['a', 'b', 'c', 'd', 8, 8.234, True, 8]\n"
          ]
        }
      ]
    },
    {
      "cell_type": "code",
      "source": [
        "listastr.append(8.234)\n",
        "print(listastr)"
      ],
      "metadata": {
        "colab": {
          "base_uri": "https://localhost:8080/"
        },
        "id": "rs2xTAPuQgJw",
        "outputId": "2194abef-6152-49ab-af98-8c5cd6e86231"
      },
      "execution_count": 41,
      "outputs": [
        {
          "output_type": "stream",
          "name": "stdout",
          "text": [
            "['a', 'b', 'c', 'd', 8, 8.234]\n"
          ]
        }
      ]
    },
    {
      "cell_type": "code",
      "source": [
        "listastr.append(True)\n",
        "print(listastr)"
      ],
      "metadata": {
        "colab": {
          "base_uri": "https://localhost:8080/"
        },
        "id": "QVGTOVYCQtNg",
        "outputId": "60de96d8-384c-4e44-b5de-664c5edf99f9"
      },
      "execution_count": 42,
      "outputs": [
        {
          "output_type": "stream",
          "name": "stdout",
          "text": [
            "['a', 'b', 'c', 'd', 8, 8.234, True]\n"
          ]
        }
      ]
    },
    {
      "cell_type": "code",
      "source": [
        "listastr.append(lista)"
      ],
      "metadata": {
        "id": "HK0cVORpQw1Y"
      },
      "execution_count": 47,
      "outputs": []
    },
    {
      "cell_type": "code",
      "source": [
        "print(listastr)"
      ],
      "metadata": {
        "colab": {
          "base_uri": "https://localhost:8080/"
        },
        "id": "iCJouS7CRdPB",
        "outputId": "042aa6d1-5a4e-40ea-f769-d31adcb2e340"
      },
      "execution_count": 48,
      "outputs": [
        {
          "output_type": "stream",
          "name": "stdout",
          "text": [
            "['a', 'b', 'c', 'd', 8, 8.234, True, 8, [0, 1, 2, 3, 4, 5]]\n"
          ]
        }
      ]
    },
    {
      "cell_type": "code",
      "source": [],
      "metadata": {
        "id": "eww0SyKFRemr"
      },
      "execution_count": null,
      "outputs": []
    },
    {
      "cell_type": "markdown",
      "source": [
        "### ¿ Cómo podemos acceder a los elementos/objetos de la lista?\n",
        "  \n",
        "Para acceder a los elementos de la lista utilizamos los *índices*. Los *índices* indican la posición a la que se quiere acceder en la lista y siempre parten de __0__ (cero). "
      ],
      "metadata": {
        "id": "bqRi8YoWRks8"
      }
    },
    {
      "cell_type": "code",
      "source": [
        "print(listastr)"
      ],
      "metadata": {
        "colab": {
          "base_uri": "https://localhost:8080/"
        },
        "id": "NkkRWUkzSDmt",
        "outputId": "2dcdf0c5-1fd0-4882-926c-0b2d6f7fca4b"
      },
      "execution_count": 50,
      "outputs": [
        {
          "output_type": "stream",
          "name": "stdout",
          "text": [
            "['a', 'b', 'c', 'd', 8, 8.234, True, 8, [0, 1, 2, 3, 4, 5]]\n"
          ]
        }
      ]
    },
    {
      "cell_type": "code",
      "source": [
        "print(listastr[0])"
      ],
      "metadata": {
        "colab": {
          "base_uri": "https://localhost:8080/"
        },
        "id": "TxAXYajER91O",
        "outputId": "416bcd70-c16c-4a5f-ac65-a2e2320dff7f"
      },
      "execution_count": 51,
      "outputs": [
        {
          "output_type": "stream",
          "name": "stdout",
          "text": [
            "a\n"
          ]
        }
      ]
    },
    {
      "cell_type": "code",
      "source": [
        "print(listastr[8][1])"
      ],
      "metadata": {
        "colab": {
          "base_uri": "https://localhost:8080/"
        },
        "id": "orG4a8inSCfz",
        "outputId": "9e166eb0-49ee-448a-80d5-b0f4388a3cc8"
      },
      "execution_count": 52,
      "outputs": [
        {
          "output_type": "stream",
          "name": "stdout",
          "text": [
            "1\n"
          ]
        }
      ]
    },
    {
      "cell_type": "code",
      "source": [
        "print(listastr[-1][1])"
      ],
      "metadata": {
        "colab": {
          "base_uri": "https://localhost:8080/"
        },
        "id": "Wj5YE_veSdNa",
        "outputId": "b5c62859-631a-4137-948c-e40312419c64"
      },
      "execution_count": 53,
      "outputs": [
        {
          "output_type": "stream",
          "name": "stdout",
          "text": [
            "1\n"
          ]
        }
      ]
    },
    {
      "cell_type": "code",
      "source": [
        "print(listastr[-9])"
      ],
      "metadata": {
        "colab": {
          "base_uri": "https://localhost:8080/"
        },
        "id": "DmGOA5R0SiMW",
        "outputId": "d2d0b902-8c03-4013-9df5-fb2604e9dba5"
      },
      "execution_count": 54,
      "outputs": [
        {
          "output_type": "stream",
          "name": "stdout",
          "text": [
            "a\n"
          ]
        }
      ]
    },
    {
      "cell_type": "code",
      "source": [],
      "metadata": {
        "id": "HyxHefIHSr6Y"
      },
      "execution_count": null,
      "outputs": []
    },
    {
      "cell_type": "markdown",
      "source": [
        "### Slice"
      ],
      "metadata": {
        "id": "DRk-JJ8ASuRF"
      }
    },
    {
      "cell_type": "code",
      "source": [
        "print(listastr[1:4]) \n",
        "# queremos acceder a todos nuestros datos entre los indices 1 y 3 \n",
        "#(el último elemento no lo incluye por eso ponemos 4)"
      ],
      "metadata": {
        "colab": {
          "base_uri": "https://localhost:8080/"
        },
        "id": "9fUQStP9Sww4",
        "outputId": "989bff3f-7ca1-46f7-f20e-ad0981ed2f8d"
      },
      "execution_count": 55,
      "outputs": [
        {
          "output_type": "stream",
          "name": "stdout",
          "text": [
            "['b', 'c', 'd']\n"
          ]
        }
      ]
    },
    {
      "cell_type": "code",
      "source": [
        "print(listastr[0:2]) # imprime listastr[0],listastr[1]"
      ],
      "metadata": {
        "colab": {
          "base_uri": "https://localhost:8080/"
        },
        "id": "B1tFMv_uTFdc",
        "outputId": "50d8730c-66ca-49ae-8bb4-97243ceb76aa"
      },
      "execution_count": 56,
      "outputs": [
        {
          "output_type": "stream",
          "name": "stdout",
          "text": [
            "['a', 'b']\n"
          ]
        }
      ]
    },
    {
      "cell_type": "code",
      "source": [
        "print(listastr[:4]) # muestra los primeros 4 de la lista  (índices del 0 al 3)"
      ],
      "metadata": {
        "colab": {
          "base_uri": "https://localhost:8080/"
        },
        "id": "yodtTbH_TW7q",
        "outputId": "dd8dedcc-60fe-4f58-c8f7-18ccca89997f"
      },
      "execution_count": 58,
      "outputs": [
        {
          "output_type": "stream",
          "name": "stdout",
          "text": [
            "['a', 'b', 'c', 'd']\n"
          ]
        }
      ]
    },
    {
      "cell_type": "code",
      "source": [
        "print(type(listastr))\n",
        "print(listastr[3:]) # muestra de la posición 3 en adelante "
      ],
      "metadata": {
        "colab": {
          "base_uri": "https://localhost:8080/"
        },
        "id": "q-KbE2kxTjKR",
        "outputId": "6ee1920e-9af5-471c-c91f-2709d9fc4477"
      },
      "execution_count": 67,
      "outputs": [
        {
          "output_type": "stream",
          "name": "stdout",
          "text": [
            "<class 'list'>\n",
            "['d', 8, 8.234, True, 8, [0, 1, 2, 3, 4, 5]]\n"
          ]
        }
      ]
    },
    {
      "cell_type": "code",
      "source": [
        "print(listastr[8][2:4]) # muestra los elementos del índice 2 e índice 3 "
      ],
      "metadata": {
        "colab": {
          "base_uri": "https://localhost:8080/"
        },
        "id": "EhXMWJ1-Txi2",
        "outputId": "38dad5c9-b7b3-4dc4-b27f-d056bfff18cf"
      },
      "execution_count": 61,
      "outputs": [
        {
          "output_type": "stream",
          "name": "stdout",
          "text": [
            "[2, 3]\n"
          ]
        }
      ]
    },
    {
      "cell_type": "code",
      "source": [
        "print(listastr)"
      ],
      "metadata": {
        "colab": {
          "base_uri": "https://localhost:8080/"
        },
        "id": "xhkBQQtvVI6K",
        "outputId": "b83ec7a3-a1cc-4a5f-cd51-76fcacf0e658"
      },
      "execution_count": 68,
      "outputs": [
        {
          "output_type": "stream",
          "name": "stdout",
          "text": [
            "['a', 'b', 'c', 'd', 8, 8.234, True, 8, [0, 1, 2, 3, 4, 5]]\n"
          ]
        }
      ]
    },
    {
      "cell_type": "code",
      "source": [
        "len(listastr)"
      ],
      "metadata": {
        "colab": {
          "base_uri": "https://localhost:8080/"
        },
        "id": "R1gTIskqUa64",
        "outputId": "0b301b14-161a-4e41-e717-14a7526f4c25"
      },
      "execution_count": 66,
      "outputs": [
        {
          "output_type": "execute_result",
          "data": {
            "text/plain": [
              "9"
            ]
          },
          "metadata": {},
          "execution_count": 66
        }
      ]
    },
    {
      "cell_type": "code",
      "source": [
        "print(listastr[7][2:4]) # problema porque no podemos hacer slice en un entero (int)"
      ],
      "metadata": {
        "colab": {
          "base_uri": "https://localhost:8080/",
          "height": 183
        },
        "id": "b4h9ChyuVQMJ",
        "outputId": "f89fa5e1-77ea-4be3-990a-f4e49387e536"
      },
      "execution_count": 70,
      "outputs": [
        {
          "output_type": "error",
          "ename": "TypeError",
          "evalue": "ignored",
          "traceback": [
            "\u001b[0;31m---------------------------------------------------------------------------\u001b[0m",
            "\u001b[0;31mTypeError\u001b[0m                                 Traceback (most recent call last)",
            "\u001b[0;32m<ipython-input-70-37dd87938aeb>\u001b[0m in \u001b[0;36m<module>\u001b[0;34m\u001b[0m\n\u001b[0;32m----> 1\u001b[0;31m \u001b[0mprint\u001b[0m\u001b[0;34m(\u001b[0m\u001b[0mlistastr\u001b[0m\u001b[0;34m[\u001b[0m\u001b[0;36m7\u001b[0m\u001b[0;34m]\u001b[0m\u001b[0;34m[\u001b[0m\u001b[0;36m2\u001b[0m\u001b[0;34m:\u001b[0m\u001b[0;36m4\u001b[0m\u001b[0;34m]\u001b[0m\u001b[0;34m)\u001b[0m \u001b[0;31m# problema porque no podemos hacer slice en un entero (int)\u001b[0m\u001b[0;34m\u001b[0m\u001b[0;34m\u001b[0m\u001b[0m\n\u001b[0m",
            "\u001b[0;31mTypeError\u001b[0m: 'int' object is not subscriptable"
          ]
        }
      ]
    },
    {
      "cell_type": "code",
      "source": [
        "print(listastr)\n",
        "print(listastr[0:6:2]) # imprime los elementos 0,2,4 el tercer valor se llama step o salto."
      ],
      "metadata": {
        "colab": {
          "base_uri": "https://localhost:8080/"
        },
        "id": "PC6jXl2zT8tY",
        "outputId": "fa747d3d-061a-4602-adb4-98bb880db314"
      },
      "execution_count": 71,
      "outputs": [
        {
          "output_type": "stream",
          "name": "stdout",
          "text": [
            "['a', 'b', 'c', 'd', 8, 8.234, True, 8, [0, 1, 2, 3, 4, 5]]\n",
            "['a', 'c', 8]\n"
          ]
        }
      ]
    },
    {
      "cell_type": "code",
      "source": [],
      "metadata": {
        "id": "JkPHrhhQUZ38"
      },
      "execution_count": null,
      "outputs": []
    },
    {
      "cell_type": "markdown",
      "source": [
        "# Importación de paquetes en python \n",
        "\n",
        "Al igual que en otros lenguajes de programación hay clases y métodos que no están por defecto. Para esto tenemos que importar paquetes (librerías).\n",
        "Por ejemplo, llamaremos al paquete _math_\n",
        "\n",
        "    import math"
      ],
      "metadata": {
        "id": "2h2DSjcSVkkl"
      }
    },
    {
      "cell_type": "code",
      "source": [
        "import math"
      ],
      "metadata": {
        "id": "pk5EckqvV2W7"
      },
      "execution_count": 72,
      "outputs": []
    },
    {
      "cell_type": "code",
      "source": [
        "a=5\n",
        "b=12\n",
        "c=math.sqrt(a**2+b**2)\n",
        "print(c)"
      ],
      "metadata": {
        "colab": {
          "base_uri": "https://localhost:8080/"
        },
        "id": "PDOAJTKVWCS9",
        "outputId": "d11393fe-4cb6-4caa-d882-a370d722afb9"
      },
      "execution_count": 73,
      "outputs": [
        {
          "output_type": "stream",
          "name": "stdout",
          "text": [
            "13.0\n"
          ]
        }
      ]
    },
    {
      "cell_type": "code",
      "source": [],
      "metadata": {
        "id": "Nw_dB8MhWRjK"
      },
      "execution_count": null,
      "outputs": []
    },
    {
      "cell_type": "markdown",
      "source": [
        "Si nosotros queremos importar sólo un método, llamamos al método utilizando _from_\n",
        "\n",
        "    from math import sqrt"
      ],
      "metadata": {
        "id": "pE02n98RWXls"
      }
    },
    {
      "cell_type": "code",
      "source": [
        "from math import sqrt # importamos sólo un método"
      ],
      "metadata": {
        "id": "rFd6mpRDWhuv"
      },
      "execution_count": 74,
      "outputs": []
    },
    {
      "cell_type": "code",
      "source": [
        "a=5\n",
        "b=12\n",
        "c=sqrt(a**2+b**2)\n",
        "print(c, type(c))"
      ],
      "metadata": {
        "colab": {
          "base_uri": "https://localhost:8080/"
        },
        "id": "2zjmueQJWk4o",
        "outputId": "0e5b4a38-dc4b-439f-c6fb-fa8846f678fd"
      },
      "execution_count": 76,
      "outputs": [
        {
          "output_type": "stream",
          "name": "stdout",
          "text": [
            "13.0 <class 'float'>\n"
          ]
        }
      ]
    },
    {
      "cell_type": "code",
      "source": [
        "from math import sqrt,cos # importamos más de un método utilizando comas."
      ],
      "metadata": {
        "id": "US_J4VRcWseF"
      },
      "execution_count": 78,
      "outputs": []
    },
    {
      "cell_type": "markdown",
      "source": [
        "# Funciones "
      ],
      "metadata": {
        "id": "tm-notR-XNku"
      }
    },
    {
      "cell_type": "code",
      "source": [
        "def pitagoras(a,b):\n",
        "  hipotenusa=sqrt(a**2+b**2)\n",
        "  return hipotenusa"
      ],
      "metadata": {
        "id": "7wh7YYxTXYe5"
      },
      "execution_count": 79,
      "outputs": []
    },
    {
      "cell_type": "code",
      "source": [
        "h1=pitagoras(5,12)\n",
        "print(h1, type(h1))\n",
        "h2=pitagoras(10,2)\n",
        "print(h2, type(h2))\n"
      ],
      "metadata": {
        "colab": {
          "base_uri": "https://localhost:8080/"
        },
        "id": "t8kpLiBGXxCn",
        "outputId": "170de31c-1214-44e2-da69-a7bb45ea0bcb"
      },
      "execution_count": 80,
      "outputs": [
        {
          "output_type": "stream",
          "name": "stdout",
          "text": [
            "13.0 <class 'float'>\n",
            "10.198039027185569 <class 'float'>\n"
          ]
        }
      ]
    },
    {
      "cell_type": "code",
      "source": [
        "h3=pitagoras(5.0,12.0)\n",
        "print(h3,type(h3))"
      ],
      "metadata": {
        "colab": {
          "base_uri": "https://localhost:8080/"
        },
        "id": "2ibBcEsOYI3C",
        "outputId": "cdc2927d-23ec-498d-9c18-c52042a3cbe9"
      },
      "execution_count": 81,
      "outputs": [
        {
          "output_type": "stream",
          "name": "stdout",
          "text": [
            "13.0 <class 'float'>\n"
          ]
        }
      ]
    },
    {
      "cell_type": "code",
      "source": [
        "valorA=5.0\n",
        "valorB=12.0\n",
        "h4=pitagoras(valorA,valorB)\n",
        "print(valorA,type(valorA),valorB,type(valorB),h4,type(h4))"
      ],
      "metadata": {
        "colab": {
          "base_uri": "https://localhost:8080/"
        },
        "id": "_UwV99KkeaV0",
        "outputId": "c1ad9115-cee5-42da-983a-50e92be62c9d"
      },
      "execution_count": 82,
      "outputs": [
        {
          "output_type": "stream",
          "name": "stdout",
          "text": [
            "5.0 <class 'float'> 12.0 <class 'float'> 13.0 <class 'float'>\n"
          ]
        }
      ]
    },
    {
      "cell_type": "code",
      "source": [
        "valorA=5\n",
        "valorB=12.0\n",
        "h4=pitagoras(valorA,valorB)\n",
        "print(valorA,type(valorA),valorB,type(valorB),h4,type(h4))"
      ],
      "metadata": {
        "colab": {
          "base_uri": "https://localhost:8080/"
        },
        "id": "YWkb60Kxerbm",
        "outputId": "cf921e29-2829-46d0-a3d7-5ef1966f014d"
      },
      "execution_count": 83,
      "outputs": [
        {
          "output_type": "stream",
          "name": "stdout",
          "text": [
            "5 <class 'int'> 12.0 <class 'float'> 13.0 <class 'float'>\n"
          ]
        }
      ]
    },
    {
      "cell_type": "code",
      "source": [
        "valorA=\"5\"\n",
        "valorB=12.0\n",
        "h4=pitagoras(valorA,valorB)\n",
        "print(valorA,type(valorA),valorB,type(valorB),h4,type(h4))"
      ],
      "metadata": {
        "colab": {
          "base_uri": "https://localhost:8080/",
          "height": 305
        },
        "id": "2e_vGudcevoG",
        "outputId": "afedaabc-7ff1-42d3-f51c-603a2ef38d14"
      },
      "execution_count": 84,
      "outputs": [
        {
          "output_type": "error",
          "ename": "TypeError",
          "evalue": "ignored",
          "traceback": [
            "\u001b[0;31m---------------------------------------------------------------------------\u001b[0m",
            "\u001b[0;31mTypeError\u001b[0m                                 Traceback (most recent call last)",
            "\u001b[0;32m<ipython-input-84-d087b48c8aca>\u001b[0m in \u001b[0;36m<module>\u001b[0;34m\u001b[0m\n\u001b[1;32m      1\u001b[0m \u001b[0mvalorA\u001b[0m\u001b[0;34m=\u001b[0m\u001b[0;34m\"5\"\u001b[0m\u001b[0;34m\u001b[0m\u001b[0;34m\u001b[0m\u001b[0m\n\u001b[1;32m      2\u001b[0m \u001b[0mvalorB\u001b[0m\u001b[0;34m=\u001b[0m\u001b[0;36m12.0\u001b[0m\u001b[0;34m\u001b[0m\u001b[0;34m\u001b[0m\u001b[0m\n\u001b[0;32m----> 3\u001b[0;31m \u001b[0mh4\u001b[0m\u001b[0;34m=\u001b[0m\u001b[0mpitagoras\u001b[0m\u001b[0;34m(\u001b[0m\u001b[0mvalorA\u001b[0m\u001b[0;34m,\u001b[0m\u001b[0mvalorB\u001b[0m\u001b[0;34m)\u001b[0m\u001b[0;34m\u001b[0m\u001b[0;34m\u001b[0m\u001b[0m\n\u001b[0m\u001b[1;32m      4\u001b[0m \u001b[0mprint\u001b[0m\u001b[0;34m(\u001b[0m\u001b[0mvalorA\u001b[0m\u001b[0;34m,\u001b[0m\u001b[0mtype\u001b[0m\u001b[0;34m(\u001b[0m\u001b[0mvalorA\u001b[0m\u001b[0;34m)\u001b[0m\u001b[0;34m,\u001b[0m\u001b[0mvalorB\u001b[0m\u001b[0;34m,\u001b[0m\u001b[0mtype\u001b[0m\u001b[0;34m(\u001b[0m\u001b[0mvalorB\u001b[0m\u001b[0;34m)\u001b[0m\u001b[0;34m,\u001b[0m\u001b[0mh4\u001b[0m\u001b[0;34m,\u001b[0m\u001b[0mtype\u001b[0m\u001b[0;34m(\u001b[0m\u001b[0mh4\u001b[0m\u001b[0;34m)\u001b[0m\u001b[0;34m)\u001b[0m\u001b[0;34m\u001b[0m\u001b[0;34m\u001b[0m\u001b[0m\n",
            "\u001b[0;32m<ipython-input-79-291083bb98fb>\u001b[0m in \u001b[0;36mpitagoras\u001b[0;34m(a, b)\u001b[0m\n\u001b[1;32m      1\u001b[0m \u001b[0;32mdef\u001b[0m \u001b[0mpitagoras\u001b[0m\u001b[0;34m(\u001b[0m\u001b[0ma\u001b[0m\u001b[0;34m,\u001b[0m\u001b[0mb\u001b[0m\u001b[0;34m)\u001b[0m\u001b[0;34m:\u001b[0m\u001b[0;34m\u001b[0m\u001b[0;34m\u001b[0m\u001b[0m\n\u001b[0;32m----> 2\u001b[0;31m   \u001b[0mhipotenusa\u001b[0m\u001b[0;34m=\u001b[0m\u001b[0msqrt\u001b[0m\u001b[0;34m(\u001b[0m\u001b[0ma\u001b[0m\u001b[0;34m**\u001b[0m\u001b[0;36m2\u001b[0m\u001b[0;34m+\u001b[0m\u001b[0mb\u001b[0m\u001b[0;34m**\u001b[0m\u001b[0;36m2\u001b[0m\u001b[0;34m)\u001b[0m\u001b[0;34m\u001b[0m\u001b[0;34m\u001b[0m\u001b[0m\n\u001b[0m\u001b[1;32m      3\u001b[0m   \u001b[0;32mreturn\u001b[0m \u001b[0mhipotenusa\u001b[0m\u001b[0;34m\u001b[0m\u001b[0;34m\u001b[0m\u001b[0m\n",
            "\u001b[0;31mTypeError\u001b[0m: unsupported operand type(s) for ** or pow(): 'str' and 'int'"
          ]
        }
      ]
    },
    {
      "cell_type": "code",
      "source": [
        "valorA=\"5\"\n",
        "valorB=12.0\n",
        "h4=pitagoras(float(valorA),float(valorB))\n",
        "print(valorA,type(valorA),valorB,type(valorB),h4,type(h4))"
      ],
      "metadata": {
        "colab": {
          "base_uri": "https://localhost:8080/"
        },
        "id": "XzAkdZAsfaPg",
        "outputId": "eadc5331-8cd1-4866-95cf-e199bded79c7"
      },
      "execution_count": 85,
      "outputs": [
        {
          "output_type": "stream",
          "name": "stdout",
          "text": [
            "5 <class 'str'> 12.0 <class 'float'> 13.0 <class 'float'>\n"
          ]
        }
      ]
    },
    {
      "cell_type": "code",
      "source": [],
      "metadata": {
        "id": "tYQF8rtJf2lL"
      },
      "execution_count": null,
      "outputs": []
    },
    {
      "cell_type": "markdown",
      "source": [
        "# Diccionarios (HASH)\n",
        "\n",
        "Un diccionario es similar a una lista, sin embargo, los índices pueden ser del tipo, _int_, _float_, _string_. Un diccionario no tiene orden. Es una combinación _llave_, _valor_. "
      ],
      "metadata": {
        "id": "_e6nDqddf-gX"
      }
    },
    {
      "cell_type": "code",
      "source": [
        "diccionario_seleccion_chilena={\"arquero\":\"Claudio Bravo\", \n",
        "                               \"Defensa Lateral Izquierdo\": \"Humberto Suazo\", \n",
        "                               \"Defensa Lateral Derecho\": \"Huaso Islas\", \n",
        "                               \"Mediocampista\": \"King Arthur!\"}"
      ],
      "metadata": {
        "id": "K47WfPrmgasZ"
      },
      "execution_count": 87,
      "outputs": []
    },
    {
      "cell_type": "code",
      "source": [
        "diccionario_seleccion_chilena[\"arquero\"]"
      ],
      "metadata": {
        "colab": {
          "base_uri": "https://localhost:8080/",
          "height": 35
        },
        "id": "NOxdbNvihMNv",
        "outputId": "89ba2b0a-4a23-4577-b732-b860b3e32ce0"
      },
      "execution_count": 88,
      "outputs": [
        {
          "output_type": "execute_result",
          "data": {
            "text/plain": [
              "'Claudio Bravo'"
            ],
            "application/vnd.google.colaboratory.intrinsic+json": {
              "type": "string"
            }
          },
          "metadata": {},
          "execution_count": 88
        }
      ]
    },
    {
      "cell_type": "code",
      "source": [
        "diccionario_seleccion_chilena[\"Defensa Lateral Derecho\"]"
      ],
      "metadata": {
        "colab": {
          "base_uri": "https://localhost:8080/",
          "height": 35
        },
        "id": "_pChw8QxhU9Q",
        "outputId": "da2f411d-db43-495a-af35-427251196dfa"
      },
      "execution_count": 89,
      "outputs": [
        {
          "output_type": "execute_result",
          "data": {
            "text/plain": [
              "'Huaso Islas'"
            ],
            "application/vnd.google.colaboratory.intrinsic+json": {
              "type": "string"
            }
          },
          "metadata": {},
          "execution_count": 89
        }
      ]
    },
    {
      "cell_type": "code",
      "source": [
        "variable_a=diccionario_seleccion_chilena[\"Mediocampista\"]+\" y \"+diccionario_seleccion_chilena[\"Defensa Lateral Derecho\"]+ \" salieron a un bautizo!\""
      ],
      "metadata": {
        "id": "kO1UjFjOhaI8"
      },
      "execution_count": 93,
      "outputs": []
    },
    {
      "cell_type": "code",
      "source": [
        "print(variable_a)"
      ],
      "metadata": {
        "colab": {
          "base_uri": "https://localhost:8080/"
        },
        "id": "tpXhggVhhulK",
        "outputId": "60814082-dfee-41de-bc45-5d52efb78624"
      },
      "execution_count": 94,
      "outputs": [
        {
          "output_type": "stream",
          "name": "stdout",
          "text": [
            "King Arthur! y Huaso Islas salieron a un bautizo!\n"
          ]
        }
      ]
    },
    {
      "cell_type": "code",
      "source": [],
      "metadata": {
        "id": "lQPY0qachx5O"
      },
      "execution_count": null,
      "outputs": []
    },
    {
      "cell_type": "markdown",
      "source": [
        "# Condicionales y Bucles (ciclos)\n",
        "\n",
        "## If, else\n"
      ],
      "metadata": {
        "id": "KHCrcJcdiK91"
      }
    },
    {
      "cell_type": "code",
      "source": [
        "if( diccionario_seleccion_chilena[\"Defensa Lateral Derecho\"] ==\"King Arthur!\"):\n",
        "  print(True)\n",
        "else:\n",
        "  print(False, \", El defensa lateral derecho es: \"+diccionario_seleccion_chilena[\"Defensa Lateral Derecho\"])"
      ],
      "metadata": {
        "colab": {
          "base_uri": "https://localhost:8080/"
        },
        "id": "8P94virqiPst",
        "outputId": "72ec5e29-b249-472f-9ddb-e15ca22c76d0"
      },
      "execution_count": 99,
      "outputs": [
        {
          "output_type": "stream",
          "name": "stdout",
          "text": [
            "False , El defensa lateral derecho es: Huaso Islas\n"
          ]
        }
      ]
    },
    {
      "cell_type": "code",
      "source": [
        "i=0 # definimos una variable\n",
        "\n",
        "while(i<10): # mientras que i<10 imprimir el valor de i\n",
        "  print(i)\n",
        "  i+=1 # i=i+1"
      ],
      "metadata": {
        "colab": {
          "base_uri": "https://localhost:8080/"
        },
        "id": "2Lrce0-wi48Y",
        "outputId": "6ff715b8-8494-4487-acf5-588b2e2ac169"
      },
      "execution_count": 101,
      "outputs": [
        {
          "output_type": "stream",
          "name": "stdout",
          "text": [
            "0\n",
            "1\n",
            "2\n",
            "3\n",
            "4\n",
            "5\n",
            "6\n",
            "7\n",
            "8\n",
            "9\n"
          ]
        }
      ]
    },
    {
      "cell_type": "code",
      "source": [
        "i=0\n",
        "while(i<len(listastr)):\n",
        "  print(listastr[i])\n",
        "  i+=1;"
      ],
      "metadata": {
        "colab": {
          "base_uri": "https://localhost:8080/"
        },
        "id": "31TVQgugjdvt",
        "outputId": "1b0c438a-8f68-4563-8a3b-277de5e17035"
      },
      "execution_count": 102,
      "outputs": [
        {
          "output_type": "stream",
          "name": "stdout",
          "text": [
            "a\n",
            "b\n",
            "c\n",
            "d\n",
            "8\n",
            "8.234\n",
            "True\n",
            "8\n",
            "[0, 1, 2, 3, 4, 5]\n"
          ]
        }
      ]
    },
    {
      "cell_type": "code",
      "source": [
        "for i in range(0,len(listastr)):\n",
        "  print(listastr[i])"
      ],
      "metadata": {
        "colab": {
          "base_uri": "https://localhost:8080/"
        },
        "id": "8Py3-fR3jsGe",
        "outputId": "59c14140-a3fc-471c-ae0d-6bd3b664d279"
      },
      "execution_count": 103,
      "outputs": [
        {
          "output_type": "stream",
          "name": "stdout",
          "text": [
            "a\n",
            "b\n",
            "c\n",
            "d\n",
            "8\n",
            "8.234\n",
            "True\n",
            "8\n",
            "[0, 1, 2, 3, 4, 5]\n"
          ]
        }
      ]
    },
    {
      "cell_type": "code",
      "source": [
        "range?"
      ],
      "metadata": {
        "id": "4G6CK5CxkF7j"
      },
      "execution_count": 104,
      "outputs": []
    },
    {
      "cell_type": "code",
      "source": [
        "for i in range(0,len(listastr),1):\n",
        "  print(listastr[i])"
      ],
      "metadata": {
        "colab": {
          "base_uri": "https://localhost:8080/"
        },
        "id": "4ISapVPxkNmo",
        "outputId": "7fc7b49b-d34d-4b55-c003-faa7ca263ca1"
      },
      "execution_count": 105,
      "outputs": [
        {
          "output_type": "stream",
          "name": "stdout",
          "text": [
            "a\n",
            "b\n",
            "c\n",
            "d\n",
            "8\n",
            "8.234\n",
            "True\n",
            "8\n",
            "[0, 1, 2, 3, 4, 5]\n"
          ]
        }
      ]
    },
    {
      "cell_type": "code",
      "source": [
        "for i in range(0,len(listastr),2):\n",
        "  print(listastr[i])"
      ],
      "metadata": {
        "colab": {
          "base_uri": "https://localhost:8080/"
        },
        "id": "hlVy0kiekSCu",
        "outputId": "94eeb516-0801-4cab-d7a0-e51d665aff93"
      },
      "execution_count": 106,
      "outputs": [
        {
          "output_type": "stream",
          "name": "stdout",
          "text": [
            "a\n",
            "c\n",
            "8\n",
            "True\n",
            "[0, 1, 2, 3, 4, 5]\n"
          ]
        }
      ]
    },
    {
      "cell_type": "code",
      "source": [
        "#vamos a definir una función que entregue el valor máximo de una lista\n",
        "# para efectos del práctico, la lista será siempre con valores de la clase int\n",
        "\n",
        "lista=[4,8,1,1000,6,7,8]\n",
        "# largo de la lista es de 7\n",
        "# los índices son del 0 al 6\n",
        "\n",
        "\n",
        "def maximo(l):\n",
        "  #vamos a suponer que el elemento más grande está en la posición 1, indice 0.\n",
        "  vmayor=l[0] # en este caso vmayor es 4\n",
        "  for i in range(1,len(l)):\n",
        "    #vamos a revisar si el siguiente elemento es mayor que el valor de vmayor\n",
        "    if l[i]>vmayor:\n",
        "      vmayor=l[i]\n",
        "\n",
        "  return vmayor # identación =1 está dentro de la función no dentro del for\n",
        "\n",
        "print(maximo(lista))\n",
        "\n",
        "\n",
        "\n",
        "\n"
      ],
      "metadata": {
        "colab": {
          "base_uri": "https://localhost:8080/"
        },
        "id": "zrf0CJuckXz_",
        "outputId": "a1cf3b95-70cb-447a-ef5e-7715f3042d91"
      },
      "execution_count": 108,
      "outputs": [
        {
          "output_type": "stream",
          "name": "stdout",
          "text": [
            "1000\n"
          ]
        }
      ]
    },
    {
      "cell_type": "code",
      "source": [
        "lista2=[1,10,-5000,40]\n",
        "maximo(lista2)"
      ],
      "metadata": {
        "colab": {
          "base_uri": "https://localhost:8080/"
        },
        "id": "mAQ-JuS-mpSt",
        "outputId": "7c34950b-12cc-4e12-cb7d-3eb2edc7f2f9"
      },
      "execution_count": 115,
      "outputs": [
        {
          "output_type": "execute_result",
          "data": {
            "text/plain": [
              "40"
            ]
          },
          "metadata": {},
          "execution_count": 115
        }
      ]
    },
    {
      "cell_type": "code",
      "source": [
        "lista2=[999999,10,-5000,40]\n",
        "maximo(lista2)"
      ],
      "metadata": {
        "colab": {
          "base_uri": "https://localhost:8080/"
        },
        "id": "Cx4jL0vam8bW",
        "outputId": "08f2c6ec-f60d-4cda-a91f-2bddd98722d3"
      },
      "execution_count": 116,
      "outputs": [
        {
          "output_type": "execute_result",
          "data": {
            "text/plain": [
              "999999"
            ]
          },
          "metadata": {},
          "execution_count": 116
        }
      ]
    },
    {
      "cell_type": "markdown",
      "source": [
        "El comentario que aparece junto al `for` describe el __invariante__ del ciclo. El __invariante__ del ciclo es útil para argumentar la correctitud del programa y para apoyar el diseño del mismo.  \n",
        "El __invariante__ es una afirmación lógica que debe ser `True` cada vez que se inicia una nueva iteración del ciclo, lo cual incluye a la primera y última iteración.  \n",
        "En la última iteración se detecta que el rango se ha agotado y el ciclo termina."
      ],
      "metadata": {
        "id": "M281Gu1Dn5NG"
      }
    },
    {
      "cell_type": "markdown",
      "source": [
        "# Vamos a hacer un juego\n",
        "\n",
        "Haremos el cahipún, jugaremos contra el computador."
      ],
      "metadata": {
        "id": "l64rTFPAh4iP"
      }
    },
    {
      "cell_type": "code",
      "source": [
        "dict_cachipun={\"piedra\":0, \"papel\": 1, \"tijera\": 2}\n",
        "print(dict_cachipun[\"piedra\"])"
      ],
      "metadata": {
        "colab": {
          "base_uri": "https://localhost:8080/"
        },
        "id": "i0mZ5zA3pN-X",
        "outputId": "c132ad04-4c28-4eff-f71b-b27ac760893a"
      },
      "execution_count": 117,
      "outputs": [
        {
          "output_type": "stream",
          "name": "stdout",
          "text": [
            "0\n"
          ]
        }
      ]
    },
    {
      "cell_type": "code",
      "source": [
        "lista_cachipun=[\"piedra\",\"papel\",\"tijera\"]\n",
        "print(lista_cachipun[0])"
      ],
      "metadata": {
        "colab": {
          "base_uri": "https://localhost:8080/"
        },
        "id": "Ie_bHKN5pg4s",
        "outputId": "dccb074e-2d58-4ecb-e82d-ab19da73b446"
      },
      "execution_count": 118,
      "outputs": [
        {
          "output_type": "stream",
          "name": "stdout",
          "text": [
            "piedra\n"
          ]
        }
      ]
    },
    {
      "cell_type": "code",
      "source": [
        "def cachipun():\n",
        "  from random import randint\n",
        "  computador=randint(0,2) # el computador escoge entre 0,1,2\n",
        "  #supongamos que el computador le salió 1\n",
        "  player=dict_cachipun[input(\"¿piedra, papel o tijera?\")] # input captura del teclado\n",
        "  #supongamos que el jugador escribe piedra, \n",
        "  #entonces dict_cachipun[\"piedra\"] sabemos que vale 0\n",
        "  # player=0\n",
        "  if computador == player:\n",
        "    resultado=\"Empate\";\n",
        "  else:\n",
        "    if(computador+1)%3==player:\n",
        "      resultado=\"¡Me ganaste!\"\n",
        "    else:\n",
        "      resultado=\"Te he ganado!\"\n",
        "\n",
        "  print(\"Como Player Jugaste:\"+lista_cachipun[player])\n",
        "  print(\"Yo jugué: \"+lista_cachipun[computador])\n",
        "  print(\"Resultado: \"+resultado)\n",
        "\n"
      ],
      "metadata": {
        "id": "FAY8RCSaiFct"
      },
      "execution_count": 121,
      "outputs": []
    },
    {
      "cell_type": "code",
      "source": [
        "cachipun()"
      ],
      "metadata": {
        "colab": {
          "base_uri": "https://localhost:8080/"
        },
        "id": "kG29wnZjrzTM",
        "outputId": "0fef3045-2744-4611-a08d-865d3cef11f8"
      },
      "execution_count": 122,
      "outputs": [
        {
          "output_type": "stream",
          "name": "stdout",
          "text": [
            "¿piedra, papel o tijera?piedra\n",
            "Como Player Jugaste:piedra\n",
            "Yo jugué: tijera\n",
            "Resultado: ¡Me ganaste!\n"
          ]
        }
      ]
    },
    {
      "cell_type": "code",
      "source": [
        "cachipun()"
      ],
      "metadata": {
        "colab": {
          "base_uri": "https://localhost:8080/"
        },
        "id": "Y50KBaxxr7QW",
        "outputId": "d80e2137-8f17-4b40-b2f0-93b2e9714127"
      },
      "execution_count": 123,
      "outputs": [
        {
          "output_type": "stream",
          "name": "stdout",
          "text": [
            "¿piedra, papel o tijera?tijera\n",
            "Como Player Jugaste:tijera\n",
            "Yo jugué: tijera\n",
            "Resultado: Empate\n"
          ]
        }
      ]
    },
    {
      "cell_type": "code",
      "source": [
        "jugar={'si':1, 'no': 0}\n",
        "seguir=1\n",
        "while(seguir==1):\n",
        "  cachipun()\n",
        "  seguir=int(jugar[input(\"seguimos?\")])"
      ],
      "metadata": {
        "colab": {
          "base_uri": "https://localhost:8080/"
        },
        "id": "HzFcua_tsCLh",
        "outputId": "7bfd1a9f-75ac-4536-ed7e-de3b43ff9d09"
      },
      "execution_count": 124,
      "outputs": [
        {
          "name": "stdout",
          "output_type": "stream",
          "text": [
            "¿piedra, papel o tijera?piedra\n",
            "Como Player Jugaste:piedra\n",
            "Yo jugué: tijera\n",
            "Resultado: ¡Me ganaste!\n",
            "seguimos?si\n",
            "¿piedra, papel o tijera?papel\n",
            "Como Player Jugaste:papel\n",
            "Yo jugué: piedra\n",
            "Resultado: ¡Me ganaste!\n",
            "seguimos?si\n",
            "¿piedra, papel o tijera?tijera\n",
            "Como Player Jugaste:tijera\n",
            "Yo jugué: piedra\n",
            "Resultado: Te he ganado!\n",
            "seguimos?no\n"
          ]
        }
      ]
    },
    {
      "cell_type": "code",
      "source": [
        "cachipun()"
      ],
      "metadata": {
        "colab": {
          "base_uri": "https://localhost:8080/",
          "height": 322
        },
        "id": "oclPRbIws50Q",
        "outputId": "3ffaba4e-b86c-40aa-c7b5-021f9c308d37"
      },
      "execution_count": 125,
      "outputs": [
        {
          "name": "stdout",
          "output_type": "stream",
          "text": [
            "¿piedra, papel o tijera?asdasdjkasdkjas\n"
          ]
        },
        {
          "output_type": "error",
          "ename": "KeyError",
          "evalue": "ignored",
          "traceback": [
            "\u001b[0;31m---------------------------------------------------------------------------\u001b[0m",
            "\u001b[0;31mKeyError\u001b[0m                                  Traceback (most recent call last)",
            "\u001b[0;32m<ipython-input-125-afe994ddb510>\u001b[0m in \u001b[0;36m<module>\u001b[0;34m\u001b[0m\n\u001b[0;32m----> 1\u001b[0;31m \u001b[0mcachipun\u001b[0m\u001b[0;34m(\u001b[0m\u001b[0;34m)\u001b[0m\u001b[0;34m\u001b[0m\u001b[0;34m\u001b[0m\u001b[0m\n\u001b[0m",
            "\u001b[0;32m<ipython-input-121-3ff940e4947c>\u001b[0m in \u001b[0;36mcachipun\u001b[0;34m()\u001b[0m\n\u001b[1;32m      3\u001b[0m   \u001b[0mcomputador\u001b[0m\u001b[0;34m=\u001b[0m\u001b[0mrandint\u001b[0m\u001b[0;34m(\u001b[0m\u001b[0;36m0\u001b[0m\u001b[0;34m,\u001b[0m\u001b[0;36m2\u001b[0m\u001b[0;34m)\u001b[0m \u001b[0;31m# el computador escoge entre 0,1,2\u001b[0m\u001b[0;34m\u001b[0m\u001b[0;34m\u001b[0m\u001b[0m\n\u001b[1;32m      4\u001b[0m   \u001b[0;31m#supongamos que el computador le salió 1\u001b[0m\u001b[0;34m\u001b[0m\u001b[0;34m\u001b[0m\u001b[0;34m\u001b[0m\u001b[0m\n\u001b[0;32m----> 5\u001b[0;31m   \u001b[0mplayer\u001b[0m\u001b[0;34m=\u001b[0m\u001b[0mdict_cachipun\u001b[0m\u001b[0;34m[\u001b[0m\u001b[0minput\u001b[0m\u001b[0;34m(\u001b[0m\u001b[0;34m\"¿piedra, papel o tijera?\"\u001b[0m\u001b[0;34m)\u001b[0m\u001b[0;34m]\u001b[0m \u001b[0;31m# input captura del teclado\u001b[0m\u001b[0;34m\u001b[0m\u001b[0;34m\u001b[0m\u001b[0m\n\u001b[0m\u001b[1;32m      6\u001b[0m   \u001b[0;31m#supongamos que el jugador escribe piedra,\u001b[0m\u001b[0;34m\u001b[0m\u001b[0;34m\u001b[0m\u001b[0;34m\u001b[0m\u001b[0m\n\u001b[1;32m      7\u001b[0m   \u001b[0;31m#entonces dict_cachipun[\"piedra\"] sabemos que vale 0\u001b[0m\u001b[0;34m\u001b[0m\u001b[0;34m\u001b[0m\u001b[0;34m\u001b[0m\u001b[0m\n",
            "\u001b[0;31mKeyError\u001b[0m: 'asdasdjkasdkjas'"
          ]
        }
      ]
    },
    {
      "cell_type": "markdown",
      "source": [
        "# Manipulación de errores\n",
        "\n",
        "Con las sentencias `try` y `except`"
      ],
      "metadata": {
        "id": "pN8c6pW6tkX4"
      }
    },
    {
      "cell_type": "code",
      "source": [
        "def cachipunPro():\n",
        "  from random import randint\n",
        "  computador=randint(0,2) # el computador escoge entre 0,1,2\n",
        "  #supongamos que el computador le salió 1\n",
        "  player=0\n",
        "  try:\n",
        "    player=dict_cachipun[input(\"¿piedra, papel o tijera?\")] # input captura del teclado\n",
        "  except(KeyError):\n",
        "    return  print(\"No sabes jugar, por favor, ingresa: piedra, papel o tijera\")\n",
        "    \n",
        "  #supongamos que el jugador escribe piedra, \n",
        "  #entonces dict_cachipun[\"piedra\"] sabemos que vale 0\n",
        "  # player=0\n",
        "  if computador == player:\n",
        "    resultado=\"Empate\";\n",
        "  else:\n",
        "    if(computador+1)%3==player:\n",
        "      resultado=\"¡Me ganaste!\"\n",
        "    else:\n",
        "      resultado=\"Te he ganado!\"\n",
        "\n",
        "  print(\"Como Player Jugaste:\"+lista_cachipun[player])\n",
        "  print(\"Yo jugué: \"+lista_cachipun[computador])\n",
        "  print(\"Resultado: \"+resultado)\n",
        "\n"
      ],
      "metadata": {
        "id": "SIbWRqo6tqMQ"
      },
      "execution_count": 132,
      "outputs": []
    },
    {
      "cell_type": "code",
      "source": [
        "cachipunPro()"
      ],
      "metadata": {
        "colab": {
          "base_uri": "https://localhost:8080/"
        },
        "id": "JOHQUc6iuBbw",
        "outputId": "0a05c0cc-5fd2-4c33-9967-c150bd211987"
      },
      "execution_count": 133,
      "outputs": [
        {
          "output_type": "stream",
          "name": "stdout",
          "text": [
            "¿piedra, papel o tijera?asdsadsada\n",
            "No sabes jugar, por favor, ingresa: piedra, papel o tijera\n"
          ]
        }
      ]
    },
    {
      "cell_type": "code",
      "source": [],
      "metadata": {
        "colab": {
          "base_uri": "https://localhost:8080/",
          "height": 253
        },
        "id": "wlLtO30DuCwS",
        "outputId": "1d945b65-7d66-4891-ae00-8eb3af6ede4c"
      },
      "execution_count": 135,
      "outputs": [
        {
          "name": "stdout",
          "output_type": "stream",
          "text": [
            "¿piedra, papel o tijera?asdjksadjkas\n",
            "No sabes jugar, por favor, ingresa: piedra, papel o tijera\n",
            "seguimos?No\n"
          ]
        },
        {
          "output_type": "error",
          "ename": "KeyError",
          "evalue": "ignored",
          "traceback": [
            "\u001b[0;31m---------------------------------------------------------------------------\u001b[0m",
            "\u001b[0;31mKeyError\u001b[0m                                  Traceback (most recent call last)",
            "\u001b[0;32m<ipython-input-135-c0ec8ace9784>\u001b[0m in \u001b[0;36m<module>\u001b[0;34m\u001b[0m\n\u001b[1;32m      3\u001b[0m \u001b[0;32mwhile\u001b[0m\u001b[0;34m(\u001b[0m\u001b[0mseguir\u001b[0m\u001b[0;34m==\u001b[0m\u001b[0;36m1\u001b[0m\u001b[0;34m)\u001b[0m\u001b[0;34m:\u001b[0m\u001b[0;34m\u001b[0m\u001b[0;34m\u001b[0m\u001b[0m\n\u001b[1;32m      4\u001b[0m   \u001b[0mcachipunPro\u001b[0m\u001b[0;34m(\u001b[0m\u001b[0;34m)\u001b[0m\u001b[0;34m\u001b[0m\u001b[0;34m\u001b[0m\u001b[0m\n\u001b[0;32m----> 5\u001b[0;31m   \u001b[0mseguir\u001b[0m\u001b[0;34m=\u001b[0m\u001b[0mint\u001b[0m\u001b[0;34m(\u001b[0m\u001b[0mjugar\u001b[0m\u001b[0;34m[\u001b[0m\u001b[0minput\u001b[0m\u001b[0;34m(\u001b[0m\u001b[0;34m\"seguimos?\"\u001b[0m\u001b[0;34m)\u001b[0m\u001b[0;34m]\u001b[0m\u001b[0;34m)\u001b[0m\u001b[0;34m\u001b[0m\u001b[0;34m\u001b[0m\u001b[0m\n\u001b[0m",
            "\u001b[0;31mKeyError\u001b[0m: 'No'"
          ]
        }
      ]
    },
    {
      "cell_type": "code",
      "source": [
        "def cachipunForever():\n",
        "  jugar={'si':1, 'no': 0}\n",
        "  seguir=1\n",
        "  while(seguir==1):\n",
        "    cachipunPro()\n",
        "    try:\n",
        "      seguir=int(jugar[input(\"seguimos?\")])\n",
        "    except(KeyError):\n",
        "      return print(\"Por favor ingresa si o no\")\n",
        "    \n",
        "    "
      ],
      "metadata": {
        "id": "RTk0gc8_uY7R"
      },
      "execution_count": 136,
      "outputs": []
    },
    {
      "cell_type": "code",
      "source": [
        "cachipunForever()"
      ],
      "metadata": {
        "colab": {
          "base_uri": "https://localhost:8080/"
        },
        "id": "n_-etDVnu7zX",
        "outputId": "66208c99-2378-431d-9c7b-1e10711d5789"
      },
      "execution_count": 137,
      "outputs": [
        {
          "output_type": "stream",
          "name": "stdout",
          "text": [
            "¿piedra, papel o tijera?tijera\n",
            "Como Player Jugaste:tijera\n",
            "Yo jugué: tijera\n",
            "Resultado: Empate\n",
            "seguimos?No\n",
            "Por favor ingresa si o no\n"
          ]
        }
      ]
    },
    {
      "cell_type": "code",
      "source": [],
      "metadata": {
        "id": "FfNx1P8Zu9Po"
      },
      "execution_count": null,
      "outputs": []
    },
    {
      "cell_type": "markdown",
      "source": [
        "# Seguimos el próximo sábado..."
      ],
      "metadata": {
        "id": "_snTKcZxvW5D"
      }
    },
    {
      "cell_type": "code",
      "source": [],
      "metadata": {
        "id": "81SNejr5vaXj"
      },
      "execution_count": null,
      "outputs": []
    }
  ]
}