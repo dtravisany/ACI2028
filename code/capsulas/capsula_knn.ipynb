{
 "cells": [
  {
   "cell_type": "markdown",
   "id": "5860393c",
   "metadata": {},
   "source": [
    "# Encontrando valores atípicos utilizando k-NN"
   ]
  },
  {
   "cell_type": "markdown",
   "id": "0dedcb54",
   "metadata": {},
   "source": [
    "### ¿Eliminar o mantener los valores atípicos?\n",
    "La mayoría de las veces, como hemos visto hasta ahora, es recomendable eliminar los valores atípicos (outliers). Sin embargo, esto no es siempre correcto. Hay veces que tenemos variables independientes que capturan lo que hace a un valor atípico \"atípico\", entonces las estimaciones de los parámetros para las otras variables independientes son menos vulnerables a la distorsión. Para esto podemos considerar transformaciones, una transformación particular, es la transformación logarítmica [que vieron en la segunda parte de la clase del profesor Osvaldo Yañez](https://colab.research.google.com/drive/1p0l47bkLlPag6ujV-OcYnOaCjbYchZxt?usp=sharing).\n",
    "\n",
    "Esta cápsula y la siguiente presentaran dos tipos de transformaciones de escala.   \n",
    "  \n",
    "_Una transformación adecuada, es decir, acorde a nuestros datos, puede reducir la influencia de los valores atípicos al limitar el tamaño de los residuos en los extremos_. \n",
    "  \n",
    "Antes de ver las transformaciones de escalas introduciremos los 2 tipos de aprendizaje de máquina.\n"
   ]
  },
  {
   "cell_type": "markdown",
   "id": "c2d12cfb",
   "metadata": {},
   "source": [
    "### Tipos de aprendizaje de máquina\n",
    "\n",
    "Según [Kevin Murphy](http://noiselab.ucsd.edu/ECE228/Murphy_Machine_Learning.pdf), podemos decir que el aprendizaje de máquina se divide en 2 tipos principales.\n",
    "1. **El aprendizaje predictivo o supervisado**: donde la idea es aprender a mapear una entrada $x$ a una salida $y$, dado un conjunto de pares entrada-salida $D={(x_{i},y_{i})}_{i=1}^N$ Donde $D$ es el conjunto de **entrenamiento** y $N$ es el número de ejemplos de entrenamiento. En su configuración más simple, cada entrada de entrenamiento $x_{i}$ corresponde a un vector númerico $D-$dimensional. Un ejemplo puede ser, el sexo, peso, altura y edad de una persona. Estos son llamados **características**, **atributos** o **covariables** y se presentan generalmente como una matriz de $N x D$. Por ejemplo, en la siguiente tabla las _columnas_ corresponden a los _atributos_ ($D$) y las _filas_ corresponden a los _casos_  ($N$). Entonces podemos decir que cada _fila$_{i}$_ corresponde a un vector de características $x_{i}$.\n",
    "\n",
    "\n",
    "|Sexo|Peso (Kg)|Altura( cms)|Edad|\n",
    "|:---|:--------|:-----------|:---|\n",
    "|M|66|172|20|\n",
    "|M|91|180|35|\n",
    "|F|52|166|22|\n",
    "|F|55|160|31|\n",
    "\n",
    "\n",
    "\n",
    "2. **El aprendizaje descriptivo o no supervisado**: donde solo tenemos un conjunto de datos de salida sin ninguna entrada, es decir, $D={(x_{i})}_{i=1}^N$. El objetivo es encontrar una _estructura interesante_ o un _patrón_ en los datos. También se llama **descubrimiento del conocimiento**. Este no es un problema bien definido porque no sabemos lo que podemos encontrar, ni que tipo de _patrón_ estamos buscando. En el **aprendizaje supervisado**, podemos comparar y ver que tan distante esta nuestra predicción del valor observado. Mientras que en **aprendizaje no supervisado** no es trivial definir una métrica de error.\n",
    "\n",
    "\n",
    "\n",
    "\n"
   ]
  },
  {
   "cell_type": "markdown",
   "id": "86cfedb8",
   "metadata": {},
   "source": [
    "### KNN también llamado k-NN\n",
    "\n",
    "El algoritmo **k-NN** (k-nearest neighbors) llamado en español k-vecinos cercanos, es un método de aprendizaje automático **supervisado**, **no paramétrico** que se utiliza para clasificar objetos basándose en la _similitud_ entre ellos. El algoritmo funciona de la siguiente manera:\n",
    "\n",
    "1. Se selecciona un número entero $k$, que representa el número de vecinos más cercanos a considerar.  \n",
    "\n",
    "\n",
    "2. Se toma un objeto desconocido y se calcula su distancia con respecto a todos los objetos en el conjunto de datos de entrenamiento.  \n",
    "\n",
    "\n",
    "3. Se seleccionan los $k$ objetos más cercanos y se determina la clase predominante entre ellos. La clase predominante será la clase asignada al objeto desconocido.  \n",
    "\n",
    "\n",
    "En resumen, el algoritmo k-NN clasifica un objeto desconocido basándose en la clase predominante entre los $k$ objetos más cercanos en el conjunto de entrenamiento.\n"
   ]
  },
  {
   "cell_type": "markdown",
   "id": "7bd00088",
   "metadata": {},
   "source": [
    "### ¿Cómo se utiliza k-NN para detectar outliers?\n",
    "  \n",
    "Este algoritmo también es utilizado para detectar valores atípicos en un conjunto de datos. Si nos fijamos en la descripción del algoritmo se hacen algunas modificaciones, sin embargo, la naturaleza del problema es la misma. La idea básica es que un valor atípico es aquel que tiene pocos vecinos cercanos. \n",
    "\n",
    "El proceso para detectar outliers es el siguiente:\n",
    "\n",
    "1. Se selecciona un número entero $k$, que representa el número de vecinos más cercanos a considerar.  \n",
    "\n",
    "\n",
    "2. Se calcula la distancia de cada punto del conjunto de datos con respecto a los demás puntos.  \n",
    "\n",
    "\n",
    "3. Se determina el número de vecinos más cercanos de cada punto y se almacena en una nueva característica.  \n",
    "\n",
    "\n",
    "4. Se seleccionan los puntos con el menor número de vecinos más cercanos. Estos puntos son considerados como outliers o valores atípicos.  \n",
    "\n",
    "\n",
    "❗️ _Es importante tener en cuenta que el número $k$ es un factor crítico en este proceso. Un $k$ **demasiado pequeño** puede resultar en la detección de **falsos valores atípicos**. Por otra parte, un $k$ **demasiado grande** puede **no detectar valores atípicos**. Por lo tanto, es necesario buscar un equilibrio adecuado al seleccionar el valor $k$._\n",
    "\n",
    "\n",
    "\n",
    "\n"
   ]
  },
  {
   "cell_type": "markdown",
   "id": "cccba187",
   "metadata": {},
   "source": [
    "Vamos a partir instalando un paquete que se utiliza para la detección de valores atípicos.\n",
    "`PyOD` (**Py**thon **O**utliers **D**etection) "
   ]
  },
  {
   "cell_type": "code",
   "execution_count": 1,
   "id": "f29a1f49",
   "metadata": {},
   "outputs": [
    {
     "name": "stdout",
     "output_type": "stream",
     "text": [
      "Collecting pyod\n",
      "  Downloading pyod-1.0.7.tar.gz (147 kB)\n",
      "\u001b[K     |████████████████████████████████| 147 kB 4.6 MB/s eta 0:00:01\n",
      "\u001b[?25hRequirement already satisfied: joblib in /home/dtravisany/anaconda3/lib/python3.8/site-packages (from pyod) (1.0.1)\n",
      "Requirement already satisfied: matplotlib in /home/dtravisany/anaconda3/lib/python3.8/site-packages (from pyod) (3.3.4)\n",
      "Requirement already satisfied: numpy>=1.19 in /home/dtravisany/anaconda3/lib/python3.8/site-packages (from pyod) (1.20.1)\n",
      "Requirement already satisfied: numba>=0.51 in /home/dtravisany/anaconda3/lib/python3.8/site-packages (from pyod) (0.53.1)\n",
      "Requirement already satisfied: scipy>=1.5.1 in /home/dtravisany/anaconda3/lib/python3.8/site-packages (from pyod) (1.6.2)\n",
      "Requirement already satisfied: scikit_learn>=0.20.0 in /home/dtravisany/anaconda3/lib/python3.8/site-packages (from pyod) (0.24.1)\n",
      "Requirement already satisfied: six in /home/dtravisany/anaconda3/lib/python3.8/site-packages (from pyod) (1.15.0)\n",
      "Requirement already satisfied: statsmodels in /home/dtravisany/anaconda3/lib/python3.8/site-packages (from pyod) (0.12.2)\n",
      "Requirement already satisfied: setuptools in /home/dtravisany/anaconda3/lib/python3.8/site-packages (from numba>=0.51->pyod) (52.0.0.post20210125)\n",
      "Requirement already satisfied: llvmlite<0.37,>=0.36.0rc1 in /home/dtravisany/anaconda3/lib/python3.8/site-packages (from numba>=0.51->pyod) (0.36.0)\n",
      "Requirement already satisfied: threadpoolctl>=2.0.0 in /home/dtravisany/anaconda3/lib/python3.8/site-packages (from scikit_learn>=0.20.0->pyod) (2.1.0)\n",
      "Requirement already satisfied: pyparsing!=2.0.4,!=2.1.2,!=2.1.6,>=2.0.3 in /home/dtravisany/anaconda3/lib/python3.8/site-packages (from matplotlib->pyod) (2.4.7)\n",
      "Requirement already satisfied: kiwisolver>=1.0.1 in /home/dtravisany/anaconda3/lib/python3.8/site-packages (from matplotlib->pyod) (1.3.1)\n",
      "Requirement already satisfied: pillow>=6.2.0 in /home/dtravisany/anaconda3/lib/python3.8/site-packages (from matplotlib->pyod) (8.2.0)\n",
      "Requirement already satisfied: cycler>=0.10 in /home/dtravisany/anaconda3/lib/python3.8/site-packages (from matplotlib->pyod) (0.10.0)\n",
      "Requirement already satisfied: python-dateutil>=2.1 in /home/dtravisany/anaconda3/lib/python3.8/site-packages (from matplotlib->pyod) (2.8.1)\n",
      "Requirement already satisfied: patsy>=0.5 in /home/dtravisany/anaconda3/lib/python3.8/site-packages (from statsmodels->pyod) (0.5.1)\n",
      "Requirement already satisfied: pandas>=0.21 in /home/dtravisany/anaconda3/lib/python3.8/site-packages (from statsmodels->pyod) (1.2.4)\n",
      "Requirement already satisfied: pytz>=2017.3 in /home/dtravisany/anaconda3/lib/python3.8/site-packages (from pandas>=0.21->statsmodels->pyod) (2021.1)\n",
      "Building wheels for collected packages: pyod\n",
      "  Building wheel for pyod (setup.py) ... \u001b[?25ldone\n",
      "\u001b[?25h  Created wheel for pyod: filename=pyod-1.0.7-py3-none-any.whl size=181093 sha256=8dd06f6f8dd4a6529086ae9d676755e9af1e71eee81128692e3e78858d5c7402\n",
      "  Stored in directory: /home/dtravisany/.cache/pip/wheels/f7/e2/c1/1c7fd8b261e72411f6509afb429c84532e40ddcd96074473f4\n",
      "Successfully built pyod\n",
      "Installing collected packages: pyod\n",
      "Successfully installed pyod-1.0.7\n"
     ]
    }
   ],
   "source": [
    "! pip install pyod"
   ]
  },
  {
   "cell_type": "markdown",
   "id": "1acca340",
   "metadata": {},
   "source": [
    "También instalaramos `scikit-learn`"
   ]
  },
  {
   "cell_type": "code",
   "execution_count": 2,
   "id": "c51373d6",
   "metadata": {},
   "outputs": [
    {
     "name": "stdout",
     "output_type": "stream",
     "text": [
      "Collecting sklearn\n",
      "  Downloading sklearn-0.0.post1.tar.gz (3.6 kB)\n",
      "Building wheels for collected packages: sklearn\n",
      "  Building wheel for sklearn (setup.py) ... \u001b[?25ldone\n",
      "\u001b[?25h  Created wheel for sklearn: filename=sklearn-0.0.post1-py3-none-any.whl size=2343 sha256=9265d40b6c935bce8ab860fd4027c63324285c309aa41c86ef11a70273e4913a\n",
      "  Stored in directory: /home/dtravisany/.cache/pip/wheels/14/25/f7/1cc0956978ae479e75140219088deb7a36f60459df242b1a72\n",
      "Successfully built sklearn\n",
      "Installing collected packages: sklearn\n",
      "Successfully installed sklearn-0.0.post1\n"
     ]
    }
   ],
   "source": [
    "!pip install sklearn"
   ]
  },
  {
   "cell_type": "markdown",
   "id": "18c6a104",
   "metadata": {},
   "source": [
    "Partimos importando paquetes:"
   ]
  },
  {
   "cell_type": "code",
   "execution_count": 4,
   "id": "b453c15c",
   "metadata": {},
   "outputs": [],
   "source": [
    "import pandas as pd\n",
    "from pyod.models.knn import KNN\n",
    "from sklearn.preprocessing import StandardScaler"
   ]
  },
  {
   "cell_type": "code",
   "execution_count": 6,
   "id": "175db825",
   "metadata": {},
   "outputs": [],
   "source": [
    "covid = pd.read_csv(\"data/covidtotals.csv\")\n",
    "covid.set_index(\"iso_code\", inplace=True)"
   ]
  },
  {
   "cell_type": "code",
   "execution_count": 7,
   "id": "5c9d7d66",
   "metadata": {},
   "outputs": [
    {
     "data": {
      "text/html": [
       "<div>\n",
       "<style scoped>\n",
       "    .dataframe tbody tr th:only-of-type {\n",
       "        vertical-align: middle;\n",
       "    }\n",
       "\n",
       "    .dataframe tbody tr th {\n",
       "        vertical-align: top;\n",
       "    }\n",
       "\n",
       "    .dataframe thead th {\n",
       "        text-align: right;\n",
       "    }\n",
       "</style>\n",
       "<table border=\"1\" class=\"dataframe\">\n",
       "  <thead>\n",
       "    <tr style=\"text-align: right;\">\n",
       "      <th></th>\n",
       "      <th>lastdate</th>\n",
       "      <th>location</th>\n",
       "      <th>total_cases</th>\n",
       "      <th>total_deaths</th>\n",
       "      <th>total_cases_pm</th>\n",
       "      <th>total_deaths_pm</th>\n",
       "      <th>population</th>\n",
       "      <th>pop_density</th>\n",
       "      <th>median_age</th>\n",
       "      <th>gdp_per_capita</th>\n",
       "      <th>hosp_beds</th>\n",
       "    </tr>\n",
       "    <tr>\n",
       "      <th>iso_code</th>\n",
       "      <th></th>\n",
       "      <th></th>\n",
       "      <th></th>\n",
       "      <th></th>\n",
       "      <th></th>\n",
       "      <th></th>\n",
       "      <th></th>\n",
       "      <th></th>\n",
       "      <th></th>\n",
       "      <th></th>\n",
       "      <th></th>\n",
       "    </tr>\n",
       "  </thead>\n",
       "  <tbody>\n",
       "    <tr>\n",
       "      <th>AFG</th>\n",
       "      <td>2020-06-01</td>\n",
       "      <td>Afghanistan</td>\n",
       "      <td>15205</td>\n",
       "      <td>257</td>\n",
       "      <td>390.589</td>\n",
       "      <td>6.602</td>\n",
       "      <td>38928341.0</td>\n",
       "      <td>54.422</td>\n",
       "      <td>18.6</td>\n",
       "      <td>1803.987</td>\n",
       "      <td>0.50</td>\n",
       "    </tr>\n",
       "    <tr>\n",
       "      <th>ALB</th>\n",
       "      <td>2020-06-01</td>\n",
       "      <td>Albania</td>\n",
       "      <td>1137</td>\n",
       "      <td>33</td>\n",
       "      <td>395.093</td>\n",
       "      <td>11.467</td>\n",
       "      <td>2877800.0</td>\n",
       "      <td>104.871</td>\n",
       "      <td>38.0</td>\n",
       "      <td>11803.431</td>\n",
       "      <td>2.89</td>\n",
       "    </tr>\n",
       "    <tr>\n",
       "      <th>DZA</th>\n",
       "      <td>2020-06-01</td>\n",
       "      <td>Algeria</td>\n",
       "      <td>9394</td>\n",
       "      <td>653</td>\n",
       "      <td>214.225</td>\n",
       "      <td>14.891</td>\n",
       "      <td>43851043.0</td>\n",
       "      <td>17.348</td>\n",
       "      <td>29.1</td>\n",
       "      <td>13913.839</td>\n",
       "      <td>1.90</td>\n",
       "    </tr>\n",
       "    <tr>\n",
       "      <th>AND</th>\n",
       "      <td>2020-06-01</td>\n",
       "      <td>Andorra</td>\n",
       "      <td>764</td>\n",
       "      <td>51</td>\n",
       "      <td>9888.048</td>\n",
       "      <td>660.066</td>\n",
       "      <td>77265.0</td>\n",
       "      <td>163.755</td>\n",
       "      <td>NaN</td>\n",
       "      <td>NaN</td>\n",
       "      <td>NaN</td>\n",
       "    </tr>\n",
       "    <tr>\n",
       "      <th>AGO</th>\n",
       "      <td>2020-06-01</td>\n",
       "      <td>Angola</td>\n",
       "      <td>86</td>\n",
       "      <td>4</td>\n",
       "      <td>2.617</td>\n",
       "      <td>0.122</td>\n",
       "      <td>32866268.0</td>\n",
       "      <td>23.890</td>\n",
       "      <td>16.8</td>\n",
       "      <td>5819.495</td>\n",
       "      <td>NaN</td>\n",
       "    </tr>\n",
       "  </tbody>\n",
       "</table>\n",
       "</div>"
      ],
      "text/plain": [
       "            lastdate     location  total_cases  total_deaths  total_cases_pm  \\\n",
       "iso_code                                                                       \n",
       "AFG       2020-06-01  Afghanistan        15205           257         390.589   \n",
       "ALB       2020-06-01      Albania         1137            33         395.093   \n",
       "DZA       2020-06-01      Algeria         9394           653         214.225   \n",
       "AND       2020-06-01      Andorra          764            51        9888.048   \n",
       "AGO       2020-06-01       Angola           86             4           2.617   \n",
       "\n",
       "          total_deaths_pm  population  pop_density  median_age  \\\n",
       "iso_code                                                         \n",
       "AFG                 6.602  38928341.0       54.422        18.6   \n",
       "ALB                11.467   2877800.0      104.871        38.0   \n",
       "DZA                14.891  43851043.0       17.348        29.1   \n",
       "AND               660.066     77265.0      163.755         NaN   \n",
       "AGO                 0.122  32866268.0       23.890        16.8   \n",
       "\n",
       "          gdp_per_capita  hosp_beds  \n",
       "iso_code                             \n",
       "AFG             1803.987       0.50  \n",
       "ALB            11803.431       2.89  \n",
       "DZA            13913.839       1.90  \n",
       "AND                  NaN        NaN  \n",
       "AGO             5819.495        NaN  "
      ]
     },
     "execution_count": 7,
     "metadata": {},
     "output_type": "execute_result"
    }
   ],
   "source": [
    "covid.head()"
   ]
  },
  {
   "cell_type": "code",
   "execution_count": 9,
   "id": "7d124804",
   "metadata": {},
   "outputs": [
    {
     "data": {
      "text/plain": [
       "Index(['lastdate', 'location', 'total_cases', 'total_deaths', 'total_cases_pm',\n",
       "       'total_deaths_pm', 'population', 'pop_density', 'median_age',\n",
       "       'gdp_per_capita', 'hosp_beds'],\n",
       "      dtype='object')"
      ]
     },
     "execution_count": 9,
     "metadata": {},
     "output_type": "execute_result"
    }
   ],
   "source": [
    "covid.columns"
   ]
  },
  {
   "cell_type": "code",
   "execution_count": 10,
   "id": "de700a3e",
   "metadata": {},
   "outputs": [],
   "source": [
    "# Vamos a estandarizar nuestros datos\n",
    "estandarizador=StandardScaler()\n",
    "\n",
    "cols_de_interes=['location', 'total_cases_pm','total_deaths_pm','pop_density','median_age', 'gdp_per_capita']\n",
    "covid_analisis= covid.loc[:,  cols_de_interes ].dropna()\n"
   ]
  },
  {
   "cell_type": "code",
   "execution_count": 11,
   "id": "12d90b55",
   "metadata": {},
   "outputs": [],
   "source": [
    "covid_std= estandarizador.fit_transform(covid_analisis.iloc[:,1:])"
   ]
  },
  {
   "cell_type": "markdown",
   "id": "302cf17c",
   "metadata": {},
   "source": [
    "Vamos a utilizar el modelo k-NN de nuestro paquete PyOD y generaremos los puntajes de anomalía.\n",
    "Para familiarizarnos con el paquete revisaremos su [documentación](http://pyod.readthedocs.io).\n",
    "Vamos a utilizar un valor arbitrario para la contación, que corresponde a la cantidad o proporción de outliers en el conjunto de datos. En nuestro caso, partiremos con un valor de 0.1."
   ]
  },
  {
   "cell_type": "code",
   "execution_count": 12,
   "id": "1123539d",
   "metadata": {},
   "outputs": [],
   "source": [
    "nombre_clase = 'KNN'\n",
    "modelo = KNN(contamination=0.1)\n",
    "modelo.fit(covid_std)\n",
    "pred_y= modelo.labels_\n",
    "score_y = modelo.decision_scores_"
   ]
  },
  {
   "cell_type": "code",
   "execution_count": 13,
   "id": "e7942beb",
   "metadata": {},
   "outputs": [
    {
     "data": {
      "text/plain": [
       "array([0, 0, 0, 0, 0, 0, 0, 0, 0, 0, 0, 0, 1, 0, 0, 0, 1, 0, 0, 0, 0, 0,\n",
       "       0, 0, 1, 0, 0, 0, 0, 0, 0, 0, 0, 0, 0, 0, 0, 0, 0, 0, 0, 0, 0, 0,\n",
       "       0, 0, 0, 0, 0, 0, 0, 0, 0, 0, 0, 0, 0, 1, 0, 0, 0, 0, 0, 0, 0, 0,\n",
       "       0, 0, 0, 0, 0, 1, 0, 1, 0, 0, 0, 0, 1, 0, 1, 0, 0, 0, 0, 0, 1, 0,\n",
       "       0, 0, 0, 0, 0, 0, 0, 1, 0, 0, 0, 0, 1, 0, 0, 0, 0, 0, 0, 0, 0, 0,\n",
       "       0, 0, 0, 0, 1, 0, 0, 0, 0, 0, 0, 0, 0, 0, 0, 0, 0, 0, 0, 0, 0, 1,\n",
       "       0, 0, 0, 0, 0, 0, 0, 0, 0, 0, 0, 1, 0, 0, 0, 0, 1, 0, 0, 0, 0, 0,\n",
       "       0, 0, 0, 0, 0, 0, 0, 0, 0, 0, 0, 1, 1, 1, 0, 0, 0, 0, 0, 0, 0])"
      ]
     },
     "execution_count": 13,
     "metadata": {},
     "output_type": "execute_result"
    }
   ],
   "source": [
    "pred_y"
   ]
  },
  {
   "cell_type": "code",
   "execution_count": 14,
   "id": "17da4c2a",
   "metadata": {},
   "outputs": [
    {
     "data": {
      "text/plain": [
       "array([0.15961874, 0.43272345, 0.25485372, 0.21110421, 0.46354369,\n",
       "       0.34124629, 0.96256589, 0.73642288, 0.89627146, 0.90160081,\n",
       "       0.36907956, 0.52870745, 2.84290649, 1.16286045, 0.76904732,\n",
       "       1.42254144, 3.54482656, 0.23277344, 0.10167483, 0.18527261,\n",
       "       0.40072751, 0.53992537, 0.36917245, 0.9617941 , 1.92084043,\n",
       "       0.53715561, 0.12258914, 0.32685562, 0.24534376, 0.11533885,\n",
       "       1.15609504, 0.34503345, 0.13977562, 0.14058587, 1.24823227,\n",
       "       0.46905303, 0.38663041, 0.41487952, 0.15985191, 0.31374873,\n",
       "       0.12664621, 0.34711841, 0.59877733, 0.42992558, 0.12831025,\n",
       "       0.97637002, 1.23138657, 0.70966615, 1.32324358, 0.2855322 ,\n",
       "       0.35521492, 0.77473635, 0.09284947, 0.46427915, 0.08737206,\n",
       "       0.17255871, 0.62299851, 1.85749868, 0.60940527, 0.19650207,\n",
       "       0.38845527, 1.06789348, 0.21625142, 0.41063736, 0.38844834,\n",
       "       0.26705335, 0.12250907, 0.26745235, 0.24030004, 0.4330579 ,\n",
       "       0.28722595, 7.7717216 , 0.35399762, 1.57733317, 0.45770846,\n",
       "       0.22470168, 0.74206599, 0.53756214, 2.06878775, 0.97300006,\n",
       "       2.08870014, 0.31849982, 0.8710024 , 0.23277344, 0.48497771,\n",
       "       0.12102758, 2.12751875, 0.27311956, 0.27073582, 0.36455094,\n",
       "       0.50813857, 0.23881766, 0.1114487 , 0.36753165, 0.31460333,\n",
       "       2.44288554, 0.60917961, 0.08125927, 0.17165079, 0.53541958,\n",
       "       1.8176557 , 0.1579307 , 1.51980405, 0.15500121, 0.65736206,\n",
       "       0.64754152, 0.91248579, 0.20194148, 0.46521814, 0.21482456,\n",
       "       0.12505557, 0.21341265, 0.31055346, 0.30164766, 1.56405154,\n",
       "       0.58197214, 0.21341265, 0.28529311, 0.22788888, 1.25715458,\n",
       "       1.05691678, 0.27043251, 0.73188447, 0.97478684, 0.26305403,\n",
       "       0.23482937, 1.41133589, 0.34648179, 0.34063646, 1.2362145 ,\n",
       "       0.73208554, 8.00160548, 0.48096614, 0.95403401, 0.4408042 ,\n",
       "       0.43106889, 0.30512541, 1.05166401, 1.24783165, 0.10167483,\n",
       "       0.65913314, 0.58529446, 0.10305683, 9.48354924, 0.48674826,\n",
       "       0.42324657, 0.32590724, 0.7213238 , 2.17644107, 0.36480279,\n",
       "       0.14273475, 0.22470168, 0.27191386, 1.42773315, 1.51849146,\n",
       "       0.26705335, 0.1295315 , 0.53134454, 0.1758967 , 0.12430459,\n",
       "       0.56348825, 0.34007587, 0.78457745, 0.23668595, 0.53134454,\n",
       "       1.55368143, 2.10345751, 1.89014098, 0.46521814, 0.17899689,\n",
       "       0.31905129, 0.43106889, 0.11302531, 0.14927721, 0.08850953])"
      ]
     },
     "execution_count": 14,
     "metadata": {},
     "output_type": "execute_result"
    }
   ],
   "source": [
    "score_y"
   ]
  },
  {
   "cell_type": "code",
   "execution_count": 25,
   "id": "7188af58",
   "metadata": {},
   "outputs": [],
   "source": [
    "prediccion= pd.DataFrame(zip(pred_y,score_y), columns=[\"tipo\",\"score\"], index=covid_analisis.index)"
   ]
  },
  {
   "cell_type": "code",
   "execution_count": 26,
   "id": "42041f87",
   "metadata": {},
   "outputs": [
    {
     "data": {
      "text/html": [
       "<div>\n",
       "<style scoped>\n",
       "    .dataframe tbody tr th:only-of-type {\n",
       "        vertical-align: middle;\n",
       "    }\n",
       "\n",
       "    .dataframe tbody tr th {\n",
       "        vertical-align: top;\n",
       "    }\n",
       "\n",
       "    .dataframe thead th {\n",
       "        text-align: right;\n",
       "    }\n",
       "</style>\n",
       "<table border=\"1\" class=\"dataframe\">\n",
       "  <thead>\n",
       "    <tr style=\"text-align: right;\">\n",
       "      <th></th>\n",
       "      <th>tipo</th>\n",
       "      <th>score</th>\n",
       "    </tr>\n",
       "    <tr>\n",
       "      <th>iso_code</th>\n",
       "      <th></th>\n",
       "      <th></th>\n",
       "    </tr>\n",
       "  </thead>\n",
       "  <tbody>\n",
       "    <tr>\n",
       "      <th>AFG</th>\n",
       "      <td>0</td>\n",
       "      <td>0.159619</td>\n",
       "    </tr>\n",
       "    <tr>\n",
       "      <th>ALB</th>\n",
       "      <td>0</td>\n",
       "      <td>0.432723</td>\n",
       "    </tr>\n",
       "    <tr>\n",
       "      <th>DZA</th>\n",
       "      <td>0</td>\n",
       "      <td>0.254854</td>\n",
       "    </tr>\n",
       "    <tr>\n",
       "      <th>AGO</th>\n",
       "      <td>0</td>\n",
       "      <td>0.211104</td>\n",
       "    </tr>\n",
       "    <tr>\n",
       "      <th>ATG</th>\n",
       "      <td>0</td>\n",
       "      <td>0.463544</td>\n",
       "    </tr>\n",
       "    <tr>\n",
       "      <th>ARG</th>\n",
       "      <td>0</td>\n",
       "      <td>0.341246</td>\n",
       "    </tr>\n",
       "    <tr>\n",
       "      <th>ARM</th>\n",
       "      <td>0</td>\n",
       "      <td>0.962566</td>\n",
       "    </tr>\n",
       "    <tr>\n",
       "      <th>ABW</th>\n",
       "      <td>0</td>\n",
       "      <td>0.736423</td>\n",
       "    </tr>\n",
       "    <tr>\n",
       "      <th>AUS</th>\n",
       "      <td>0</td>\n",
       "      <td>0.896271</td>\n",
       "    </tr>\n",
       "    <tr>\n",
       "      <th>AUT</th>\n",
       "      <td>0</td>\n",
       "      <td>0.901601</td>\n",
       "    </tr>\n",
       "    <tr>\n",
       "      <th>AZE</th>\n",
       "      <td>0</td>\n",
       "      <td>0.369080</td>\n",
       "    </tr>\n",
       "    <tr>\n",
       "      <th>BHS</th>\n",
       "      <td>0</td>\n",
       "      <td>0.528707</td>\n",
       "    </tr>\n",
       "    <tr>\n",
       "      <th>BHR</th>\n",
       "      <td>1</td>\n",
       "      <td>2.842906</td>\n",
       "    </tr>\n",
       "    <tr>\n",
       "      <th>BGD</th>\n",
       "      <td>0</td>\n",
       "      <td>1.162860</td>\n",
       "    </tr>\n",
       "    <tr>\n",
       "      <th>BRB</th>\n",
       "      <td>0</td>\n",
       "      <td>0.769047</td>\n",
       "    </tr>\n",
       "  </tbody>\n",
       "</table>\n",
       "</div>"
      ],
      "text/plain": [
       "          tipo     score\n",
       "iso_code                \n",
       "AFG          0  0.159619\n",
       "ALB          0  0.432723\n",
       "DZA          0  0.254854\n",
       "AGO          0  0.211104\n",
       "ATG          0  0.463544\n",
       "ARG          0  0.341246\n",
       "ARM          0  0.962566\n",
       "ABW          0  0.736423\n",
       "AUS          0  0.896271\n",
       "AUT          0  0.901601\n",
       "AZE          0  0.369080\n",
       "BHS          0  0.528707\n",
       "BHR          1  2.842906\n",
       "BGD          0  1.162860\n",
       "BRB          0  0.769047"
      ]
     },
     "execution_count": 26,
     "metadata": {},
     "output_type": "execute_result"
    }
   ],
   "source": [
    "prediccion.head(15)"
   ]
  },
  {
   "cell_type": "code",
   "execution_count": 22,
   "id": "d6877ec7",
   "metadata": {},
   "outputs": [
    {
     "data": {
      "text/plain": [
       "0    157\n",
       "1     18\n",
       "Name: tipo, dtype: int64"
      ]
     },
     "execution_count": 22,
     "metadata": {},
     "output_type": "execute_result"
    }
   ],
   "source": [
    "prediccion.tipo.value_counts()"
   ]
  },
  {
   "cell_type": "code",
   "execution_count": 27,
   "id": "eebca0a1",
   "metadata": {},
   "outputs": [
    {
     "data": {
      "text/html": [
       "<div>\n",
       "<style scoped>\n",
       "    .dataframe tbody tr th:only-of-type {\n",
       "        vertical-align: middle;\n",
       "    }\n",
       "\n",
       "    .dataframe tbody tr th {\n",
       "        vertical-align: top;\n",
       "    }\n",
       "\n",
       "    .dataframe thead th {\n",
       "        text-align: right;\n",
       "    }\n",
       "</style>\n",
       "<table border=\"1\" class=\"dataframe\">\n",
       "  <thead>\n",
       "    <tr style=\"text-align: right;\">\n",
       "      <th></th>\n",
       "      <th>tipo</th>\n",
       "      <th>score</th>\n",
       "    </tr>\n",
       "    <tr>\n",
       "      <th>iso_code</th>\n",
       "      <th></th>\n",
       "      <th></th>\n",
       "    </tr>\n",
       "  </thead>\n",
       "  <tbody>\n",
       "    <tr>\n",
       "      <th>LBY</th>\n",
       "      <td>0</td>\n",
       "      <td>0.367532</td>\n",
       "    </tr>\n",
       "    <tr>\n",
       "      <th>NLD</th>\n",
       "      <td>1</td>\n",
       "      <td>1.564052</td>\n",
       "    </tr>\n",
       "    <tr>\n",
       "      <th>BTN</th>\n",
       "      <td>0</td>\n",
       "      <td>0.185273</td>\n",
       "    </tr>\n",
       "    <tr>\n",
       "      <th>HTI</th>\n",
       "      <td>0</td>\n",
       "      <td>0.433058</td>\n",
       "    </tr>\n",
       "    <tr>\n",
       "      <th>EST</th>\n",
       "      <td>0</td>\n",
       "      <td>0.464279</td>\n",
       "    </tr>\n",
       "    <tr>\n",
       "      <th>LCA</th>\n",
       "      <td>0</td>\n",
       "      <td>0.431069</td>\n",
       "    </tr>\n",
       "    <tr>\n",
       "      <th>PER</th>\n",
       "      <td>0</td>\n",
       "      <td>1.411336</td>\n",
       "    </tr>\n",
       "    <tr>\n",
       "      <th>BRB</th>\n",
       "      <td>0</td>\n",
       "      <td>0.769047</td>\n",
       "    </tr>\n",
       "    <tr>\n",
       "      <th>MDA</th>\n",
       "      <td>0</td>\n",
       "      <td>0.912486</td>\n",
       "    </tr>\n",
       "    <tr>\n",
       "      <th>NAM</th>\n",
       "      <td>0</td>\n",
       "      <td>0.310553</td>\n",
       "    </tr>\n",
       "  </tbody>\n",
       "</table>\n",
       "</div>"
      ],
      "text/plain": [
       "          tipo     score\n",
       "iso_code                \n",
       "LBY          0  0.367532\n",
       "NLD          1  1.564052\n",
       "BTN          0  0.185273\n",
       "HTI          0  0.433058\n",
       "EST          0  0.464279\n",
       "LCA          0  0.431069\n",
       "PER          0  1.411336\n",
       "BRB          0  0.769047\n",
       "MDA          0  0.912486\n",
       "NAM          0  0.310553"
      ]
     },
     "execution_count": 27,
     "metadata": {},
     "output_type": "execute_result"
    }
   ],
   "source": [
    "prediccion.sample(10, random_state=1)\n"
   ]
  },
  {
   "cell_type": "code",
   "execution_count": 28,
   "id": "26776629",
   "metadata": {},
   "outputs": [
    {
     "data": {
      "text/html": [
       "<div>\n",
       "<style scoped>\n",
       "    .dataframe tbody tr th:only-of-type {\n",
       "        vertical-align: middle;\n",
       "    }\n",
       "\n",
       "    .dataframe tbody tr th {\n",
       "        vertical-align: top;\n",
       "    }\n",
       "\n",
       "    .dataframe thead th {\n",
       "        text-align: right;\n",
       "    }\n",
       "</style>\n",
       "<table border=\"1\" class=\"dataframe\">\n",
       "  <thead>\n",
       "    <tr style=\"text-align: right;\">\n",
       "      <th></th>\n",
       "      <th>tipo</th>\n",
       "      <th>score</th>\n",
       "    </tr>\n",
       "    <tr>\n",
       "      <th>iso_code</th>\n",
       "      <th></th>\n",
       "      <th></th>\n",
       "    </tr>\n",
       "  </thead>\n",
       "  <tbody>\n",
       "    <tr>\n",
       "      <th>BHR</th>\n",
       "      <td>1</td>\n",
       "      <td>2.842906</td>\n",
       "    </tr>\n",
       "    <tr>\n",
       "      <th>BRA</th>\n",
       "      <td>0</td>\n",
       "      <td>0.961794</td>\n",
       "    </tr>\n",
       "    <tr>\n",
       "      <th>UGA</th>\n",
       "      <td>0</td>\n",
       "      <td>0.236686</td>\n",
       "    </tr>\n",
       "    <tr>\n",
       "      <th>BGR</th>\n",
       "      <td>0</td>\n",
       "      <td>0.537156</td>\n",
       "    </tr>\n",
       "    <tr>\n",
       "      <th>CHN</th>\n",
       "      <td>0</td>\n",
       "      <td>0.469053</td>\n",
       "    </tr>\n",
       "    <tr>\n",
       "      <th>BGD</th>\n",
       "      <td>0</td>\n",
       "      <td>1.162860</td>\n",
       "    </tr>\n",
       "    <tr>\n",
       "      <th>GRD</th>\n",
       "      <td>0</td>\n",
       "      <td>0.388448</td>\n",
       "    </tr>\n",
       "    <tr>\n",
       "      <th>QAT</th>\n",
       "      <td>1</td>\n",
       "      <td>8.001605</td>\n",
       "    </tr>\n",
       "    <tr>\n",
       "      <th>PRT</th>\n",
       "      <td>0</td>\n",
       "      <td>1.236215</td>\n",
       "    </tr>\n",
       "    <tr>\n",
       "      <th>ECU</th>\n",
       "      <td>0</td>\n",
       "      <td>1.323244</td>\n",
       "    </tr>\n",
       "  </tbody>\n",
       "</table>\n",
       "</div>"
      ],
      "text/plain": [
       "          tipo     score\n",
       "iso_code                \n",
       "BHR          1  2.842906\n",
       "BRA          0  0.961794\n",
       "UGA          0  0.236686\n",
       "BGR          0  0.537156\n",
       "CHN          0  0.469053\n",
       "BGD          0  1.162860\n",
       "GRD          0  0.388448\n",
       "QAT          1  8.001605\n",
       "PRT          0  1.236215\n",
       "ECU          0  1.323244"
      ]
     },
     "execution_count": 28,
     "metadata": {},
     "output_type": "execute_result"
    }
   ],
   "source": [
    "prediccion.sample(10, random_state=2)"
   ]
  },
  {
   "cell_type": "code",
   "execution_count": 30,
   "id": "37d88dc3",
   "metadata": {},
   "outputs": [
    {
     "data": {
      "text/html": [
       "<div>\n",
       "<style scoped>\n",
       "    .dataframe tbody tr th:only-of-type {\n",
       "        vertical-align: middle;\n",
       "    }\n",
       "\n",
       "    .dataframe tbody tr th {\n",
       "        vertical-align: top;\n",
       "    }\n",
       "\n",
       "    .dataframe thead tr th {\n",
       "        text-align: left;\n",
       "    }\n",
       "\n",
       "    .dataframe thead tr:last-of-type th {\n",
       "        text-align: right;\n",
       "    }\n",
       "</style>\n",
       "<table border=\"1\" class=\"dataframe\">\n",
       "  <thead>\n",
       "    <tr>\n",
       "      <th></th>\n",
       "      <th colspan=\"3\" halign=\"left\">score</th>\n",
       "    </tr>\n",
       "    <tr>\n",
       "      <th></th>\n",
       "      <th>min</th>\n",
       "      <th>median</th>\n",
       "      <th>max</th>\n",
       "    </tr>\n",
       "    <tr>\n",
       "      <th>tipo</th>\n",
       "      <th></th>\n",
       "      <th></th>\n",
       "      <th></th>\n",
       "    </tr>\n",
       "  </thead>\n",
       "  <tbody>\n",
       "    <tr>\n",
       "      <th>0</th>\n",
       "      <td>0.081259</td>\n",
       "      <td>0.364803</td>\n",
       "      <td>1.519804</td>\n",
       "    </tr>\n",
       "    <tr>\n",
       "      <th>1</th>\n",
       "      <td>1.553681</td>\n",
       "      <td>2.096079</td>\n",
       "      <td>9.483549</td>\n",
       "    </tr>\n",
       "  </tbody>\n",
       "</table>\n",
       "</div>"
      ],
      "text/plain": [
       "         score                    \n",
       "           min    median       max\n",
       "tipo                              \n",
       "0     0.081259  0.364803  1.519804\n",
       "1     1.553681  2.096079  9.483549"
      ]
     },
     "execution_count": 30,
     "metadata": {},
     "output_type": "execute_result"
    }
   ],
   "source": [
    "prediccion.groupby([\"tipo\"])[[\"score\"]].agg(['min','median', 'max'])"
   ]
  },
  {
   "cell_type": "code",
   "execution_count": 91,
   "id": "d69ede3e",
   "metadata": {},
   "outputs": [],
   "source": [
    "df_sorted=covid_analisis.join(prediccion).loc[prediccion.tipo==1,\\\n",
    "                                    ['location','total_cases_pm','total_deaths_pm','score' \\\n",
    "                                    ]].sort_values(['score'],ascending=False)\n",
    "\n",
    "\n",
    "df_sorted_complete = covid_analisis.join(prediccion).loc[prediccion.tipo>=0,\\\n",
    "                                    ['location','total_cases_pm','total_deaths_pm','score' \\\n",
    "                                    ]].sort_values(['score'],ascending=False)"
   ]
  },
  {
   "cell_type": "code",
   "execution_count": 69,
   "id": "3393ea6b",
   "metadata": {},
   "outputs": [
    {
     "data": {
      "text/html": [
       "<div>\n",
       "<style scoped>\n",
       "    .dataframe tbody tr th:only-of-type {\n",
       "        vertical-align: middle;\n",
       "    }\n",
       "\n",
       "    .dataframe tbody tr th {\n",
       "        vertical-align: top;\n",
       "    }\n",
       "\n",
       "    .dataframe thead th {\n",
       "        text-align: right;\n",
       "    }\n",
       "</style>\n",
       "<table border=\"1\" class=\"dataframe\">\n",
       "  <thead>\n",
       "    <tr style=\"text-align: right;\">\n",
       "      <th></th>\n",
       "      <th>location</th>\n",
       "      <th>total_cases_pm</th>\n",
       "      <th>total_deaths_pm</th>\n",
       "      <th>score</th>\n",
       "    </tr>\n",
       "    <tr>\n",
       "      <th>iso_code</th>\n",
       "      <th></th>\n",
       "      <th></th>\n",
       "      <th></th>\n",
       "      <th></th>\n",
       "    </tr>\n",
       "  </thead>\n",
       "  <tbody>\n",
       "    <tr>\n",
       "      <th>SGP</th>\n",
       "      <td>Singapore</td>\n",
       "      <td>5962.727</td>\n",
       "      <td>3.931</td>\n",
       "      <td>9.483549</td>\n",
       "    </tr>\n",
       "    <tr>\n",
       "      <th>QAT</th>\n",
       "      <td>Qatar</td>\n",
       "      <td>19753.146</td>\n",
       "      <td>13.190</td>\n",
       "      <td>8.001605</td>\n",
       "    </tr>\n",
       "    <tr>\n",
       "      <th>HKG</th>\n",
       "      <td>Hong Kong</td>\n",
       "      <td>0.000</td>\n",
       "      <td>0.000</td>\n",
       "      <td>7.771722</td>\n",
       "    </tr>\n",
       "    <tr>\n",
       "      <th>BEL</th>\n",
       "      <td>Belgium</td>\n",
       "      <td>5037.354</td>\n",
       "      <td>816.852</td>\n",
       "      <td>3.544827</td>\n",
       "    </tr>\n",
       "    <tr>\n",
       "      <th>BHR</th>\n",
       "      <td>Bahrain</td>\n",
       "      <td>6698.468</td>\n",
       "      <td>11.166</td>\n",
       "      <td>2.842906</td>\n",
       "    </tr>\n",
       "    <tr>\n",
       "      <th>LUX</th>\n",
       "      <td>Luxembourg</td>\n",
       "      <td>6418.776</td>\n",
       "      <td>175.726</td>\n",
       "      <td>2.442886</td>\n",
       "    </tr>\n",
       "    <tr>\n",
       "      <th>ESP</th>\n",
       "      <td>Spain</td>\n",
       "      <td>5120.952</td>\n",
       "      <td>580.197</td>\n",
       "      <td>2.176441</td>\n",
       "    </tr>\n",
       "    <tr>\n",
       "      <th>KWT</th>\n",
       "      <td>Kuwait</td>\n",
       "      <td>6332.420</td>\n",
       "      <td>49.642</td>\n",
       "      <td>2.127519</td>\n",
       "    </tr>\n",
       "    <tr>\n",
       "      <th>GBR</th>\n",
       "      <td>United Kingdom</td>\n",
       "      <td>4047.403</td>\n",
       "      <td>566.965</td>\n",
       "      <td>2.103458</td>\n",
       "    </tr>\n",
       "    <tr>\n",
       "      <th>ITA</th>\n",
       "      <td>Italy</td>\n",
       "      <td>3853.985</td>\n",
       "      <td>552.663</td>\n",
       "      <td>2.088700</td>\n",
       "    </tr>\n",
       "    <tr>\n",
       "      <th>IRL</th>\n",
       "      <td>Ireland</td>\n",
       "      <td>5060.962</td>\n",
       "      <td>334.562</td>\n",
       "      <td>2.068788</td>\n",
       "    </tr>\n",
       "    <tr>\n",
       "      <th>BRN</th>\n",
       "      <td>Brunei</td>\n",
       "      <td>322.298</td>\n",
       "      <td>4.572</td>\n",
       "      <td>1.920840</td>\n",
       "    </tr>\n",
       "    <tr>\n",
       "      <th>USA</th>\n",
       "      <td>United States</td>\n",
       "      <td>5408.389</td>\n",
       "      <td>315.354</td>\n",
       "      <td>1.890141</td>\n",
       "    </tr>\n",
       "    <tr>\n",
       "      <th>FRA</th>\n",
       "      <td>France</td>\n",
       "      <td>2324.879</td>\n",
       "      <td>441.251</td>\n",
       "      <td>1.857499</td>\n",
       "    </tr>\n",
       "    <tr>\n",
       "      <th>MDV</th>\n",
       "      <td>Maldives</td>\n",
       "      <td>3280.041</td>\n",
       "      <td>9.250</td>\n",
       "      <td>1.817656</td>\n",
       "    </tr>\n",
       "    <tr>\n",
       "      <th>ISL</th>\n",
       "      <td>Iceland</td>\n",
       "      <td>5292.308</td>\n",
       "      <td>29.304</td>\n",
       "      <td>1.577333</td>\n",
       "    </tr>\n",
       "    <tr>\n",
       "      <th>NLD</th>\n",
       "      <td>Netherlands</td>\n",
       "      <td>2710.379</td>\n",
       "      <td>347.595</td>\n",
       "      <td>1.564052</td>\n",
       "    </tr>\n",
       "    <tr>\n",
       "      <th>ARE</th>\n",
       "      <td>United Arab Emirates</td>\n",
       "      <td>3493.994</td>\n",
       "      <td>26.693</td>\n",
       "      <td>1.553681</td>\n",
       "    </tr>\n",
       "  </tbody>\n",
       "</table>\n",
       "</div>"
      ],
      "text/plain": [
       "                      location  total_cases_pm  total_deaths_pm     score\n",
       "iso_code                                                                 \n",
       "SGP                  Singapore        5962.727            3.931  9.483549\n",
       "QAT                      Qatar       19753.146           13.190  8.001605\n",
       "HKG                  Hong Kong           0.000            0.000  7.771722\n",
       "BEL                    Belgium        5037.354          816.852  3.544827\n",
       "BHR                    Bahrain        6698.468           11.166  2.842906\n",
       "LUX                 Luxembourg        6418.776          175.726  2.442886\n",
       "ESP                      Spain        5120.952          580.197  2.176441\n",
       "KWT                     Kuwait        6332.420           49.642  2.127519\n",
       "GBR             United Kingdom        4047.403          566.965  2.103458\n",
       "ITA                      Italy        3853.985          552.663  2.088700\n",
       "IRL                    Ireland        5060.962          334.562  2.068788\n",
       "BRN                     Brunei         322.298            4.572  1.920840\n",
       "USA              United States        5408.389          315.354  1.890141\n",
       "FRA                     France        2324.879          441.251  1.857499\n",
       "MDV                   Maldives        3280.041            9.250  1.817656\n",
       "ISL                    Iceland        5292.308           29.304  1.577333\n",
       "NLD                Netherlands        2710.379          347.595  1.564052\n",
       "ARE       United Arab Emirates        3493.994           26.693  1.553681"
      ]
     },
     "execution_count": 69,
     "metadata": {},
     "output_type": "execute_result"
    }
   ],
   "source": [
    "df_sorted"
   ]
  },
  {
   "cell_type": "code",
   "execution_count": 70,
   "id": "db19b908",
   "metadata": {},
   "outputs": [],
   "source": [
    "import matplotlib.pyplot as plt"
   ]
  },
  {
   "cell_type": "code",
   "execution_count": null,
   "id": "d7f68aa3",
   "metadata": {},
   "outputs": [],
   "source": []
  },
  {
   "cell_type": "code",
   "execution_count": 107,
   "id": "f7aacfd3",
   "metadata": {},
   "outputs": [
    {
     "data": {
      "image/png": "[encoded data removed]",
      "text/plain": [
       "<Figure size 720x360 with 1 Axes>"
      ]
     },
     "metadata": {
      "needs_background": "light"
     },
     "output_type": "display_data"
    }
   ],
   "source": [
    "ax = df_sorted.score.plot(figsize=(10,5), style='.-' , rot=45)\n",
    "xticks=df_sorted.index\n",
    "plt.xticks(range(0,len(df_sorted.index)),df_sorted.index)\n",
    "plt.show()"
   ]
  },
  {
   "cell_type": "code",
   "execution_count": 99,
   "id": "5b12fd74",
   "metadata": {},
   "outputs": [
    {
     "data": {
      "text/plain": [
       "<AxesSubplot:xlabel='iso_code'>"
      ]
     },
     "execution_count": 99,
     "metadata": {},
     "output_type": "execute_result"
    },
    {
     "data": {
      "image/png": "[encoded data removed]",
      "text/plain": [
       "<Figure size 720x360 with 1 Axes>"
      ]
     },
     "metadata": {
      "needs_background": "light"
     },
     "output_type": "display_data"
    }
   ],
   "source": [
    "df_sorted[['total_cases_pm','total_deaths_pm']].plot(figsize=(10,5), style='.-' , rot=45)"
   ]
  },
  {
   "cell_type": "code",
   "execution_count": 109,
   "id": "912acbf3",
   "metadata": {},
   "outputs": [
    {
     "data": {
      "image/png": "[encoded data removed]",
      "text/plain": [
       "<Figure size 720x360 with 1 Axes>"
      ]
     },
     "metadata": {
      "needs_background": "light"
     },
     "output_type": "display_data"
    }
   ],
   "source": [
    "df_sorted.total_cases_pm.plot(figsize=(10,5), style='.-' , rot=45)\n",
    "plt.xticks(range(0,len(df_sorted.index)),df_sorted.index)\n",
    "plt.show()"
   ]
  },
  {
   "cell_type": "code",
   "execution_count": 105,
   "id": "cf8b0428",
   "metadata": {},
   "outputs": [
    {
     "data": {
      "image/png": "[encoded data removed]",
      "text/plain": [
       "<Figure size 720x360 with 1 Axes>"
      ]
     },
     "metadata": {
      "needs_background": "light"
     },
     "output_type": "display_data"
    }
   ],
   "source": [
    "df_sorted.total_deaths_pm.plot(figsize=(10,5), style='.-' , rot=45)\n",
    "plt.xticks(range(0,len(df_sorted.index)),df_sorted.index)\n",
    "plt.show()"
   ]
  },
  {
   "cell_type": "code",
   "execution_count": 108,
   "id": "97301c64",
   "metadata": {},
   "outputs": [
    {
     "data": {
      "image/png": "[encoded data removed]",
      "text/plain": [
       "<Figure size 2160x360 with 1 Axes>"
      ]
     },
     "metadata": {
      "needs_background": "light"
     },
     "output_type": "display_data"
    }
   ],
   "source": [
    "df_sorted_complete.score.plot(figsize=(30,5), style='.-' , rot=90)\n",
    "xticks=df_sorted_complete.index\n",
    "plt.xticks(range(0,len(df_sorted_complete.index)),df_sorted_complete.index, size=10)\n",
    "plt.show()"
   ]
  },
  {
   "cell_type": "code",
   "execution_count": 94,
   "id": "160cc0ba",
   "metadata": {},
   "outputs": [],
   "source": [
    "plt.xticks?"
   ]
  },
  {
   "cell_type": "markdown",
   "id": "146d88be",
   "metadata": {},
   "source": [
    "## Lo que vimos\n",
    "\n",
    "Primero PyOD es un wrapper o funciona como proxy de scikit-learn, es decir utiliza los modelos y las implementaciones de scikit learn para buscar outliers. En el caso de este curso, nosotros solo estamos utilizando herramientas para visualizar outliers y no profundizaremos en k-NN u otras técnicas, serán vistas en los cursos posteriores. por eso utilizamos PyOD para buscar outliers y no parametrizamos k-NN de scikit-learn.\n",
    "\n",
    "Con respecto al resultado de k-NN y los puntajes. Vemos que Singapur, Qatar y Hong Kong, obtienen los puntajes más altos y son outliers incluso, dentro de los outliers. Para el caso de los 3 siguientes. \n",
    "\n",
    "Utilizamos la estandarización de scikit-learn para retornar el $z$-score.  \n",
    "\n",
    "El $z$-score es calculado restando el promedio ($\\mu$) a cada valor y dividirlo por la desviación estandar ($\\sigma$).\n",
    " \n",
    "$z= (x - \\mu)/\\sigma$\n",
    "\n",
    "\n",
    "\n",
    "\n",
    "\n"
   ]
  },
  {
   "cell_type": "code",
   "execution_count": null,
   "id": "0932bad4",
   "metadata": {},
   "outputs": [],
   "source": []
  }
 ],
 "metadata": {
  "kernelspec": {
   "display_name": "Python 3",
   "language": "python",
   "name": "python3"
  },
  "language_info": {
   "codemirror_mode": {
    "name": "ipython",
    "version": 3
   },
   "file_extension": ".py",
   "mimetype": "text/x-python",
   "name": "python",
   "nbconvert_exporter": "python",
   "pygments_lexer": "ipython3",
   "version": "3.8.8"
  }
 },
 "nbformat": 4,
 "nbformat_minor": 5
}
