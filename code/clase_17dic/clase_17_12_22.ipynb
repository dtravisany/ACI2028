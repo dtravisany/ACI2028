{
 "cells": [
  {
   "cell_type": "code",
   "execution_count": 2,
   "id": "f546ed7d",
   "metadata": {},
   "outputs": [],
   "source": [
    "import pandas as pd\n",
    "import numpy as np\n",
    "import json\n",
    "import pprint # Pretty Printer - Imprime datos de estructuras de datos complejos de forma agradable.\n",
    "from collections import Counter"
   ]
  },
  {
   "cell_type": "code",
   "execution_count": 1,
   "id": "cdd6c131",
   "metadata": {},
   "outputs": [
    {
     "name": "stdout",
     "output_type": "stream",
     "text": [
      "Requirement already satisfied: pandas in /home/dtravisany/anaconda3/lib/python3.8/site-packages (1.2.4)\r\n",
      "Requirement already satisfied: python-dateutil>=2.7.3 in /home/dtravisany/anaconda3/lib/python3.8/site-packages (from pandas) (2.8.1)\r\n",
      "Requirement already satisfied: pytz>=2017.3 in /home/dtravisany/anaconda3/lib/python3.8/site-packages (from pandas) (2021.1)\r\n",
      "Requirement already satisfied: numpy>=1.16.5 in /home/dtravisany/anaconda3/lib/python3.8/site-packages (from pandas) (1.20.1)\r\n",
      "Requirement already satisfied: six>=1.5 in /home/dtravisany/anaconda3/lib/python3.8/site-packages (from python-dateutil>=2.7.3->pandas) (1.15.0)\r\n"
     ]
    }
   ],
   "source": [
    "#!pip install pandas "
   ]
  },
  {
   "cell_type": "code",
   "execution_count": 3,
   "id": "6cb84d47",
   "metadata": {},
   "outputs": [],
   "source": [
    "with open('data/allcandidatenewssample.json') as f:\n",
    "    candidatos = json.load(f)"
   ]
  },
  {
   "cell_type": "code",
   "execution_count": 4,
   "id": "50a2b6dc",
   "metadata": {},
   "outputs": [
    {
     "data": {
      "text/plain": [
       "60000"
      ]
     },
     "execution_count": 4,
     "metadata": {},
     "output_type": "execute_result"
    }
   ],
   "source": [
    "len(candidatos)"
   ]
  },
  {
   "cell_type": "code",
   "execution_count": 16,
   "id": "4a6549d5",
   "metadata": {},
   "outputs": [
    {
     "name": "stdout",
     "output_type": "stream",
     "text": [
      "[{'date': '2019-09-11 18:00:00', 'reason': 'Not collected'},\n",
      " {'date': '2019-08-08 06:00:00',\n",
      "  'domain': 'thehill.com',\n",
      "  'panel_position': 1,\n",
      "  'query': 'Bernie Sanders',\n",
      "  'source': 'TheHill',\n",
      "  'story_position': 7,\n",
      "  'time': '15 hours ago',\n",
      "  'title': \"Sanders responds to de Blasio's invitation to play for the Nets | \"\n",
      "           'TheHill',\n",
      "  'url': 'https://thehill.com/homenews/campaign/456579-sanders-responds-to-de-blasio-invitation-to-play-for-nets-ill-be-occupied'}]\n"
     ]
    }
   ],
   "source": [
    "pprint.pprint(candidatos[2:4])"
   ]
  },
  {
   "cell_type": "markdown",
   "id": "54a783a0",
   "metadata": {},
   "source": [
    "Si nos fijamos en la salida del código anterior, tenemos 2 objetos candidato en `candidatos[2:4]`, \n",
    "el primero es {'date': '2019-09-11 18:00:00', 'reason': 'Not collected'}, este objeto tiene dos atributos.\n",
    "\n",
    "1. _date_\n",
    "2. _reason_\n",
    "\n",
    "El atributo _date_ y el atributo _reason_.   \n",
    "Mientras que el segundo objeto tiene nueve atributos. \n",
    "1. _date_\n",
    "2. _domain_\n",
    "3. _panel\\_position_\n",
    "4. _query_\n",
    "5. _source_\n",
    "6. _story\\_position_\n",
    "7. _time_\n",
    "8. _title_\n",
    "9. _url_\n",
    "\n",
    "`{'date': '2019-08-08 06:00:00',\n",
    "  'domain': 'thehill.com',\n",
    "  'panel_position': 1,\n",
    "  'query': 'Bernie Sanders',\n",
    "  'source': 'TheHill',\n",
    "  'story_position': 7,\n",
    "  'time': '15 hours ago',\n",
    "  'title': \"Sanders responds to de Blasio's invitation to play for the Nets | \"\n",
    "           'TheHill',\n",
    "  'url': 'https://thehill.com/homenews/campaign/456579-sanders-responds-to-de-blasio-invitation-to-play-for-nets-ill-be-occupied'}`\n"
   ]
  },
  {
   "cell_type": "markdown",
   "id": "d72a3a45",
   "metadata": {},
   "source": [
    "### XML\n",
    "\n",
    "Un ejemplo de un candidato con dos atributos en formato XML se vería así\n",
    "\n",
    "```xml\n",
    "<candidato>\n",
    "    <date>\n",
    "        2019-09-11 18:00:00\n",
    "    </date>\n",
    "    <reason>\n",
    "        Not collected\n",
    "    </reason>\n",
    "</candidato>\n",
    "```"
   ]
  },
  {
   "cell_type": "code",
   "execution_count": 6,
   "id": "f76c0b07",
   "metadata": {},
   "outputs": [
    {
     "name": "stdout",
     "output_type": "stream",
     "text": [
      "'Bloomberg cuts ties with company using prison inmates to make campaign calls'\n"
     ]
    }
   ],
   "source": [
    "pprint.pprint(candidatos[0]['title'])"
   ]
  },
  {
   "cell_type": "code",
   "execution_count": 8,
   "id": "e9b88989",
   "metadata": {},
   "outputs": [
    {
     "data": {
      "text/plain": [
       "'Bloomberg cuts ties with company using prison inmates to make campaign calls'"
      ]
     },
     "execution_count": 8,
     "metadata": {},
     "output_type": "execute_result"
    }
   ],
   "source": [
    "candidatos[0]['title']"
   ]
  },
  {
   "cell_type": "code",
   "execution_count": 13,
   "id": "a47befd9",
   "metadata": {},
   "outputs": [
    {
     "data": {
      "text/plain": [
       "Counter({9: 57202, 2: 2382, 10: 416})"
      ]
     },
     "execution_count": 13,
     "metadata": {},
     "output_type": "execute_result"
    }
   ],
   "source": [
    "Counter([len(atributos) for atributos in candidatos])"
   ]
  },
  {
   "cell_type": "code",
   "execution_count": 19,
   "id": "4cb191c6",
   "metadata": {},
   "outputs": [
    {
     "name": "stdout",
     "output_type": "stream",
     "text": [
      "{'date': '2019-09-11 18:00:00', 'reason': 'Not collected'}\n"
     ]
    }
   ],
   "source": [
    "pprint.pprint(next(item for item in candidatos if len(item)==2))"
   ]
  },
  {
   "cell_type": "code",
   "execution_count": 12,
   "id": "7d0dd670",
   "metadata": {},
   "outputs": [
    {
     "name": "stdout",
     "output_type": "stream",
     "text": [
      "{'category': 'Satire',\n",
      " 'date': '2019-08-21 04:00:00',\n",
      " 'domain': 'politics.theonion.com',\n",
      " 'panel_position': 1,\n",
      " 'query': 'John Hickenlooper',\n",
      " 'source': 'Politics | The Onion',\n",
      " 'story_position': 8,\n",
      " 'time': '4 days ago',\n",
      " 'title': '‘And Then There Were 23,’ Says Wayne Messam Crossing Out '\n",
      "          'Hickenlooper Photo \\n'\n",
      "          'In Elaborate Grid Of Rivals',\n",
      " 'url': 'https://politics.theonion.com/and-then-there-were-23-says-wayne-messam-crossing-ou-1837311060'}\n"
     ]
    }
   ],
   "source": [
    "pprint.pprint(next(item for item in candidatos if len(item)>9))"
   ]
  },
  {
   "cell_type": "markdown",
   "id": "4871a66e",
   "metadata": {},
   "source": [
    "Los candidatos que tienen 10 atributos, al parecer tienen un atributo adicional que es categoria. \n",
    "1. _categoria_\n",
    "2. _date_\n",
    "3. _domain_\n",
    "4. _panel\\_position_\n",
    "5. _query_\n",
    "6. _source_\n",
    "7. _story\\_position_\n",
    "8. _time_\n",
    "9. _title_\n",
    "10. _url_\n",
    "\n",
    "`{'category': 'Satire',\n",
    " 'date': '2019-08-21 04:00:00',\n",
    " 'domain': 'politics.theonion.com',\n",
    " 'panel_position': 1,\n",
    " 'query': 'John Hickenlooper',\n",
    " 'source': 'Politics | The Onion',\n",
    " 'story_position': 8,\n",
    " 'time': '4 days ago',\n",
    " 'title': '‘And Then There Were 23,’ Says Wayne Messam Crossing Out '\n",
    "          'Hickenlooper Photo \\n'\n",
    "          'In Elaborate Grid Of Rivals',\n",
    " 'url': 'https://politics.theonion.com/and-then-there-were-23-says-wayne-messam-crossing-ou-1837311060'}`\n"
   ]
  },
  {
   "cell_type": "code",
   "execution_count": 20,
   "id": "eb8cb32c",
   "metadata": {},
   "outputs": [
    {
     "ename": "KeyError",
     "evalue": "'source'",
     "output_type": "error",
     "traceback": [
      "\u001b[0;31m---------------------------------------------------------------------------\u001b[0m",
      "\u001b[0;31mKeyError\u001b[0m                                  Traceback (most recent call last)",
      "\u001b[0;32m<ipython-input-20-49fc0693c3ac>\u001b[0m in \u001b[0;36m<module>\u001b[0;34m\u001b[0m\n\u001b[0;32m----> 1\u001b[0;31m \u001b[0mpoliticos\u001b[0m \u001b[0;34m=\u001b[0m \u001b[0;34m[\u001b[0m\u001b[0matributos\u001b[0m \u001b[0;32mfor\u001b[0m \u001b[0matributos\u001b[0m \u001b[0;32min\u001b[0m \u001b[0mcandidatos\u001b[0m \u001b[0;32mif\u001b[0m \u001b[0matributos\u001b[0m\u001b[0;34m[\u001b[0m\u001b[0;34m\"source\"\u001b[0m\u001b[0;34m]\u001b[0m\u001b[0;34m==\u001b[0m\u001b[0;34m\"Politico\"\u001b[0m\u001b[0;34m]\u001b[0m\u001b[0;34m\u001b[0m\u001b[0;34m\u001b[0m\u001b[0m\n\u001b[0m\u001b[1;32m      2\u001b[0m \u001b[0mlen\u001b[0m\u001b[0;34m(\u001b[0m\u001b[0mpoliticos\u001b[0m\u001b[0;34m)\u001b[0m\u001b[0;34m\u001b[0m\u001b[0;34m\u001b[0m\u001b[0m\n",
      "\u001b[0;32m<ipython-input-20-49fc0693c3ac>\u001b[0m in \u001b[0;36m<listcomp>\u001b[0;34m(.0)\u001b[0m\n\u001b[0;32m----> 1\u001b[0;31m \u001b[0mpoliticos\u001b[0m \u001b[0;34m=\u001b[0m \u001b[0;34m[\u001b[0m\u001b[0matributos\u001b[0m \u001b[0;32mfor\u001b[0m \u001b[0matributos\u001b[0m \u001b[0;32min\u001b[0m \u001b[0mcandidatos\u001b[0m \u001b[0;32mif\u001b[0m \u001b[0matributos\u001b[0m\u001b[0;34m[\u001b[0m\u001b[0;34m\"source\"\u001b[0m\u001b[0;34m]\u001b[0m\u001b[0;34m==\u001b[0m\u001b[0;34m\"Politico\"\u001b[0m\u001b[0;34m]\u001b[0m\u001b[0;34m\u001b[0m\u001b[0;34m\u001b[0m\u001b[0m\n\u001b[0m\u001b[1;32m      2\u001b[0m \u001b[0mlen\u001b[0m\u001b[0;34m(\u001b[0m\u001b[0mpoliticos\u001b[0m\u001b[0;34m)\u001b[0m\u001b[0;34m\u001b[0m\u001b[0;34m\u001b[0m\u001b[0m\n",
      "\u001b[0;31mKeyError\u001b[0m: 'source'"
     ]
    }
   ],
   "source": [
    "politicos = [atributos for atributos in candidatos if atributos[\"source\"]==\"Politico\"]\n",
    "len(politicos)"
   ]
  },
  {
   "cell_type": "markdown",
   "id": "e852a6e4",
   "metadata": {},
   "source": [
    "El problema ocurre porque no hemos filtrado nuestros datos y tenemos objetos candidatos que no tienen el atributo _source_. Entonces tenemos que eliminarlos de nuestra lista."
   ]
  },
  {
   "cell_type": "code",
   "execution_count": 21,
   "id": "ff914fd2",
   "metadata": {},
   "outputs": [],
   "source": [
    "candidatos = [atributos for atributos in candidatos if len(atributos)>2]"
   ]
  },
  {
   "cell_type": "code",
   "execution_count": 22,
   "id": "3ae574cc",
   "metadata": {},
   "outputs": [
    {
     "data": {
      "text/plain": [
       "57618"
      ]
     },
     "execution_count": 22,
     "metadata": {},
     "output_type": "execute_result"
    }
   ],
   "source": [
    "len(candidatos)"
   ]
  },
  {
   "cell_type": "code",
   "execution_count": 24,
   "id": "622a49c4",
   "metadata": {},
   "outputs": [
    {
     "data": {
      "text/plain": [
       "57618"
      ]
     },
     "execution_count": 24,
     "metadata": {},
     "output_type": "execute_result"
    }
   ],
   "source": [
    "60000 - 2382 # Total original de registros de candidatos: 60000, total de registros con 2 atributos: 2382"
   ]
  },
  {
   "cell_type": "code",
   "execution_count": 25,
   "id": "25c65878",
   "metadata": {},
   "outputs": [
    {
     "data": {
      "text/plain": [
       "2732"
      ]
     },
     "execution_count": 25,
     "metadata": {},
     "output_type": "execute_result"
    }
   ],
   "source": [
    "politicos = [atributos for atributos in candidatos if atributos[\"source\"]==\"Politico\"]\n",
    "len(politicos)"
   ]
  },
  {
   "cell_type": "code",
   "execution_count": 26,
   "id": "a1b21234",
   "metadata": {},
   "outputs": [
    {
     "name": "stdout",
     "output_type": "stream",
     "text": [
      "[{'date': '2019-05-18 18:00:00',\n",
      "  'domain': 'www.politico.com',\n",
      "  'panel_position': 1,\n",
      "  'query': 'Marianne Williamson',\n",
      "  'source': 'Politico',\n",
      "  'story_position': 7,\n",
      "  'time': '1 week ago',\n",
      "  'title': 'Marianne Williamson reaches donor threshold for Dem debates',\n",
      "  'url': 'https://www.politico.com/story/2019/05/09/marianne-williamson-2020-election-1315133'},\n",
      " {'date': '2018-12-27 06:00:00',\n",
      "  'domain': 'www.politico.com',\n",
      "  'panel_position': 1,\n",
      "  'query': 'Julian Castro',\n",
      "  'source': 'Politico',\n",
      "  'story_position': 1,\n",
      "  'time': '1 hour ago',\n",
      "  'title': \"O'Rourke and Castro on collision course in Texas\",\n",
      "  'url': 'https://www.politico.com/story/2018/12/27/orourke-julian-castro-collision-texas-election-1073720'},\n",
      " {'date': '2019-06-26 18:00:00',\n",
      "  'domain': 'www.politico.com',\n",
      "  'panel_position': 1,\n",
      "  'query': 'Kamala Harris',\n",
      "  'source': 'Politico',\n",
      "  'story_position': 8,\n",
      "  'time': '23 hours ago',\n",
      "  'title': 'Democrats try out their Spanish on TV as they court Latino voters',\n",
      "  'url': 'https://www.politico.com/story/2019/06/25/democrats-spanish-tv-latino-voters-1382391'},\n",
      " {'date': '2019-11-07 00:00:00',\n",
      "  'domain': 'www.politico.com',\n",
      "  'panel_position': 1,\n",
      "  'query': 'Donald Trump',\n",
      "  'source': 'Politico',\n",
      "  'story_position': 2,\n",
      "  'time': '2 hours ago',\n",
      "  'title': 'Pennsylvania suburbs revolt against Trump',\n",
      "  'url': 'https://www.politico.com/news/2019/11/06/pennsylvania-suburbs-trump-067078'},\n",
      " {'date': '2019-02-16 06:00:00',\n",
      "  'domain': 'www.politico.com',\n",
      "  'panel_position': 1,\n",
      "  'query': 'Beto O Rourke',\n",
      "  'source': 'Politico',\n",
      "  'story_position': 3,\n",
      "  'time': '12 hours ago',\n",
      "  'title': \"Beto O'Rourke in talks with strategists ahead of likely 2020 bid\",\n",
      "  'url': 'https://www.politico.com/story/2019/02/15/beto-orourke-2020-1172360'}]\n"
     ]
    }
   ],
   "source": [
    "pprint.pprint(politicos[0:5])"
   ]
  },
  {
   "cell_type": "markdown",
   "id": "a93a5bed",
   "metadata": {},
   "source": [
    "Veamos que valores tiene el atributo _source_ en el total de registros."
   ]
  },
  {
   "cell_type": "code",
   "execution_count": 28,
   "id": "14d9d2e9",
   "metadata": {},
   "outputs": [
    {
     "data": {
      "text/plain": [
       "list"
      ]
     },
     "execution_count": 28,
     "metadata": {},
     "output_type": "execute_result"
    }
   ],
   "source": [
    "sources = [atributos.get('source') for atributos in candidatos]\n",
    "type(sources)\n"
   ]
  },
  {
   "cell_type": "code",
   "execution_count": 29,
   "id": "03e5cb99",
   "metadata": {},
   "outputs": [
    {
     "data": {
      "text/plain": [
       "57618"
      ]
     },
     "execution_count": 29,
     "metadata": {},
     "output_type": "execute_result"
    }
   ],
   "source": [
    "len(sources)"
   ]
  },
  {
   "cell_type": "code",
   "execution_count": 30,
   "id": "872eb882",
   "metadata": {},
   "outputs": [
    {
     "data": {
      "text/plain": [
       "['NBC News',\n",
       " 'Town & Country Magazine',\n",
       " 'TheHill',\n",
       " 'CNBC.com',\n",
       " 'Fox News',\n",
       " 'Winona Daily News',\n",
       " 'Axios',\n",
       " 'Hollywood Reporter',\n",
       " 'Breitbart',\n",
       " 'New York Post']"
      ]
     },
     "execution_count": 30,
     "metadata": {},
     "output_type": "execute_result"
    }
   ],
   "source": [
    "sources[0:10] # mostrar los primeros 10 elementos"
   ]
  },
  {
   "cell_type": "code",
   "execution_count": 31,
   "id": "d3e99e0c",
   "metadata": {},
   "outputs": [
    {
     "name": "stdout",
     "output_type": "stream",
     "text": [
      "[('Fox News', 3530),\n",
      " ('CNN.com', 2750),\n",
      " ('Politico', 2732),\n",
      " ('TheHill', 2383),\n",
      " ('The New York Times', 1804),\n",
      " ('Washington Post', 1770),\n",
      " ('Washington Examiner', 1655),\n",
      " ('The Hill', 1342),\n",
      " ('New York Post', 1275),\n",
      " ('Vox', 941)]\n"
     ]
    }
   ],
   "source": [
    "pprint.pprint(Counter(sources).most_common(10))"
   ]
  },
  {
   "cell_type": "markdown",
   "id": "d38c2f34",
   "metadata": {},
   "source": [
    "Podemos ver que existen dos valores para el mismo medio _The Hill_ está como __TheHill__ y  como __The Hill__ esto a futuro nos puede llevar a conclusiones erróneas. Tenemos que arreglar el nombre de la fuente."
   ]
  },
  {
   "cell_type": "code",
   "execution_count": 32,
   "id": "3e7000ad",
   "metadata": {},
   "outputs": [],
   "source": [
    "for diccionario_candidatos in candidatos:\n",
    "    diccionario_candidatos.update((k, \"The Hill\") for k, v in diccionario_candidatos.items()\n",
    "                                  if k==\"source\" and v == \"TheHill\")"
   ]
  },
  {
   "cell_type": "code",
   "execution_count": 33,
   "id": "8fdfffbb",
   "metadata": {},
   "outputs": [
    {
     "name": "stdout",
     "output_type": "stream",
     "text": [
      "[('The Hill', 3725),\n",
      " ('Fox News', 3530),\n",
      " ('CNN.com', 2750),\n",
      " ('Politico', 2732),\n",
      " ('The New York Times', 1804),\n",
      " ('Washington Post', 1770),\n",
      " ('Washington Examiner', 1655),\n",
      " ('New York Post', 1275),\n",
      " ('Vox', 941),\n",
      " ('Breitbart', 799)]\n"
     ]
    }
   ],
   "source": [
    "sources = [atributos.get('source') for atributos in candidatos]\n",
    "pprint.pprint(Counter(sources).most_common(10))"
   ]
  },
  {
   "cell_type": "code",
   "execution_count": null,
   "id": "92686e80",
   "metadata": {},
   "outputs": [],
   "source": []
  }
 ],
 "metadata": {
  "kernelspec": {
   "display_name": "Python 3",
   "language": "python",
   "name": "python3"
  },
  "language_info": {
   "codemirror_mode": {
    "name": "ipython",
    "version": 3
   },
   "file_extension": ".py",
   "mimetype": "text/x-python",
   "name": "python",
   "nbconvert_exporter": "python",
   "pygments_lexer": "ipython3",
   "version": "3.8.8"
  }
 },
 "nbformat": 4,
 "nbformat_minor": 5
}
