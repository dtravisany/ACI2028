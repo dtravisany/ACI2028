{
 "cells": [
  {
   "cell_type": "markdown",
   "id": "0b4a05da",
   "metadata": {},
   "source": [
    "## Web Scraping usando Beautiful Soup\n",
    "\n",
    "Si es que no tienen instalado Beautiful Soup, lo instalamos con el siguiente comando:"
   ]
  },
  {
   "cell_type": "code",
   "execution_count": 11,
   "id": "d033c469",
   "metadata": {},
   "outputs": [],
   "source": [
    "#!pip install beautifulsoup4"
   ]
  },
  {
   "cell_type": "code",
   "execution_count": 2,
   "id": "5784baa2",
   "metadata": {},
   "outputs": [],
   "source": [
    "# Importamos nuestros paquetes\n",
    "import pandas as pd\n",
    "import numpy as np\n",
    "import pprint\n",
    "import json\n",
    "import requests\n",
    "from bs4 import BeautifulSoup as bs"
   ]
  },
  {
   "cell_type": "code",
   "execution_count": 3,
   "id": "f74f51f9",
   "metadata": {},
   "outputs": [],
   "source": [
    "pagina = requests.get(\"http://www.alrb.org/datacleaning/covidcaseoutliers.html\")"
   ]
  },
  {
   "cell_type": "code",
   "execution_count": 6,
   "id": "3ff44395",
   "metadata": {},
   "outputs": [],
   "source": [
    "sopa = bs(pagina.text,'html.parser')"
   ]
  },
  {
   "cell_type": "code",
   "execution_count": 10,
   "id": "b37a9ea1",
   "metadata": {},
   "outputs": [],
   "source": [
    "#print(sopa)"
   ]
  },
  {
   "cell_type": "code",
   "execution_count": 7,
   "id": "a2436fb3",
   "metadata": {},
   "outputs": [],
   "source": [
    "cabeceras = sopa.find('table', {'id':'tblDeaths'}).thead.find_all('th')"
   ]
  },
  {
   "cell_type": "code",
   "execution_count": 8,
   "id": "8268d227",
   "metadata": {},
   "outputs": [
    {
     "data": {
      "text/plain": [
       "bs4.element.ResultSet"
      ]
     },
     "execution_count": 8,
     "metadata": {},
     "output_type": "execute_result"
    }
   ],
   "source": [
    "type(cabeceras)"
   ]
  },
  {
   "cell_type": "code",
   "execution_count": 12,
   "id": "53075f76",
   "metadata": {},
   "outputs": [],
   "source": [
    "nombresCols= [j.get_text() for j in cabeceras]"
   ]
  },
  {
   "cell_type": "code",
   "execution_count": 13,
   "id": "7b129d2b",
   "metadata": {},
   "outputs": [
    {
     "data": {
      "text/plain": [
       "['Country',\n",
       " 'Cases',\n",
       " 'Deaths',\n",
       " 'Cases per Million',\n",
       " 'Deaths per Million',\n",
       " 'population',\n",
       " 'population_density',\n",
       " 'median_age',\n",
       " 'gdp_per_capita',\n",
       " 'hospital_beds_per_100k']"
      ]
     },
     "execution_count": 13,
     "metadata": {},
     "output_type": "execute_result"
    }
   ],
   "source": [
    "nombresCols"
   ]
  },
  {
   "cell_type": "code",
   "execution_count": 14,
   "id": "884318c2",
   "metadata": {},
   "outputs": [],
   "source": [
    "filas = sopa.find('table',{'id':'tblDeaths'}).tbody.find_all('tr')"
   ]
  },
  {
   "cell_type": "code",
   "execution_count": 20,
   "id": "76185d29",
   "metadata": {},
   "outputs": [],
   "source": [
    "#definimos un lista para los datos de la fila y un lista para los datos de labeling\n",
    "datosFila=[]\n",
    "labelFila=[]\n",
    "\n",
    "for fila in filas:\n",
    "    label = fila.find('th').get_text()\n",
    "    celdas = fila.find_all('td', {'class': 'data'})\n",
    "    labelFila.append(label)\n",
    "    #print(label)\n",
    "    textoCelda = [i.get_text() for i in celdas ]\n",
    "    datosFila.append(textoCelda)\n",
    "    \n"
   ]
  },
  {
   "cell_type": "markdown",
   "id": "2021f54e",
   "metadata": {},
   "source": [
    "Tenemos que agregar a datosFila, labelFila"
   ]
  },
  {
   "cell_type": "code",
   "execution_count": 27,
   "id": "d832fb7a",
   "metadata": {},
   "outputs": [],
   "source": [
    "for i in range(len(datosFila)):\n",
    "    datosFila[i].insert(0,labelFila[i])"
   ]
  },
  {
   "cell_type": "markdown",
   "id": "a901eda2",
   "metadata": {},
   "source": [
    "Crearemos nuestro objeto `pandas.DataFrame`"
   ]
  },
  {
   "cell_type": "code",
   "execution_count": 28,
   "id": "56533fef",
   "metadata": {},
   "outputs": [],
   "source": [
    "totalMuertes = pd.DataFrame(datosFila,columns=nombresCols)"
   ]
  },
  {
   "cell_type": "code",
   "execution_count": 29,
   "id": "c6d4bcd0",
   "metadata": {},
   "outputs": [
    {
     "data": {
      "text/html": [
       "<div>\n",
       "<style scoped>\n",
       "    .dataframe tbody tr th:only-of-type {\n",
       "        vertical-align: middle;\n",
       "    }\n",
       "\n",
       "    .dataframe tbody tr th {\n",
       "        vertical-align: top;\n",
       "    }\n",
       "\n",
       "    .dataframe thead th {\n",
       "        text-align: right;\n",
       "    }\n",
       "</style>\n",
       "<table border=\"1\" class=\"dataframe\">\n",
       "  <thead>\n",
       "    <tr style=\"text-align: right;\">\n",
       "      <th></th>\n",
       "      <th>Country</th>\n",
       "      <th>Cases</th>\n",
       "      <th>Deaths</th>\n",
       "      <th>Cases per Million</th>\n",
       "      <th>Deaths per Million</th>\n",
       "      <th>population</th>\n",
       "      <th>population_density</th>\n",
       "      <th>median_age</th>\n",
       "      <th>gdp_per_capita</th>\n",
       "      <th>hospital_beds_per_100k</th>\n",
       "    </tr>\n",
       "  </thead>\n",
       "  <tbody>\n",
       "    <tr>\n",
       "      <th>0</th>\n",
       "      <td>Algeria</td>\n",
       "      <td>9,394</td>\n",
       "      <td>653</td>\n",
       "      <td>214</td>\n",
       "      <td>15</td>\n",
       "      <td>43,851,043</td>\n",
       "      <td>17</td>\n",
       "      <td>29</td>\n",
       "      <td>13,914</td>\n",
       "      <td>1.9</td>\n",
       "    </tr>\n",
       "    <tr>\n",
       "      <th>1</th>\n",
       "      <td>Austria</td>\n",
       "      <td>16,642</td>\n",
       "      <td>668</td>\n",
       "      <td>1848</td>\n",
       "      <td>74</td>\n",
       "      <td>9,006,400</td>\n",
       "      <td>107</td>\n",
       "      <td>44</td>\n",
       "      <td>45,437</td>\n",
       "      <td>7.4</td>\n",
       "    </tr>\n",
       "    <tr>\n",
       "      <th>2</th>\n",
       "      <td>Bangladesh</td>\n",
       "      <td>47,153</td>\n",
       "      <td>650</td>\n",
       "      <td>286</td>\n",
       "      <td>4</td>\n",
       "      <td>164,689,383</td>\n",
       "      <td>1265</td>\n",
       "      <td>28</td>\n",
       "      <td>3,524</td>\n",
       "      <td>0.8</td>\n",
       "    </tr>\n",
       "    <tr>\n",
       "      <th>3</th>\n",
       "      <td>Belgium</td>\n",
       "      <td>58,381</td>\n",
       "      <td>9467</td>\n",
       "      <td>5037</td>\n",
       "      <td>817</td>\n",
       "      <td>11,589,616</td>\n",
       "      <td>376</td>\n",
       "      <td>42</td>\n",
       "      <td>42,659</td>\n",
       "      <td>5.6</td>\n",
       "    </tr>\n",
       "    <tr>\n",
       "      <th>4</th>\n",
       "      <td>Brazil</td>\n",
       "      <td>514,849</td>\n",
       "      <td>29314</td>\n",
       "      <td>2422</td>\n",
       "      <td>138</td>\n",
       "      <td>212,559,409</td>\n",
       "      <td>25</td>\n",
       "      <td>34</td>\n",
       "      <td>14,103</td>\n",
       "      <td>2.2</td>\n",
       "    </tr>\n",
       "  </tbody>\n",
       "</table>\n",
       "</div>"
      ],
      "text/plain": [
       "      Country    Cases Deaths Cases per Million Deaths per Million  \\\n",
       "0     Algeria    9,394    653               214                 15   \n",
       "1     Austria   16,642    668              1848                 74   \n",
       "2  Bangladesh   47,153    650               286                  4   \n",
       "3     Belgium   58,381   9467              5037                817   \n",
       "4      Brazil  514,849  29314              2422                138   \n",
       "\n",
       "    population population_density median_age gdp_per_capita  \\\n",
       "0   43,851,043                 17         29         13,914   \n",
       "1    9,006,400                107         44         45,437   \n",
       "2  164,689,383               1265         28          3,524   \n",
       "3   11,589,616                376         42         42,659   \n",
       "4  212,559,409                 25         34         14,103   \n",
       "\n",
       "  hospital_beds_per_100k  \n",
       "0                    1.9  \n",
       "1                    7.4  \n",
       "2                    0.8  \n",
       "3                    5.6  \n",
       "4                    2.2  "
      ]
     },
     "execution_count": 29,
     "metadata": {},
     "output_type": "execute_result"
    }
   ],
   "source": [
    "totalMuertes.head()"
   ]
  },
  {
   "cell_type": "code",
   "execution_count": 30,
   "id": "168aac3e",
   "metadata": {},
   "outputs": [
    {
     "data": {
      "text/plain": [
       "Country                   object\n",
       "Cases                     object\n",
       "Deaths                    object\n",
       "Cases per Million         object\n",
       "Deaths per Million        object\n",
       "population                object\n",
       "population_density        object\n",
       "median_age                object\n",
       "gdp_per_capita            object\n",
       "hospital_beds_per_100k    object\n",
       "dtype: object"
      ]
     },
     "execution_count": 30,
     "metadata": {},
     "output_type": "execute_result"
    }
   ],
   "source": [
    "totalMuertes.dtypes"
   ]
  },
  {
   "cell_type": "code",
   "execution_count": 31,
   "id": "9ece2257",
   "metadata": {},
   "outputs": [
    {
     "name": "stderr",
     "output_type": "stream",
     "text": [
      "<ipython-input-31-84bfb34683dc>:2: FutureWarning: The default value of regex will change from True to False in a future version.\n",
      "  totalMuertes[columna] = totalMuertes[columna].str.replace(\"[^0-9]\",\"\").astype(\"int64\")\n"
     ]
    }
   ],
   "source": [
    "for columna in totalMuertes.columns[1:-1]:\n",
    "    totalMuertes[columna] = totalMuertes[columna].str.replace(\"[^0-9]\",\"\").astype(\"int64\")"
   ]
  },
  {
   "cell_type": "code",
   "execution_count": 32,
   "id": "3a974026",
   "metadata": {},
   "outputs": [
    {
     "data": {
      "text/plain": [
       "Country                   object\n",
       "Cases                      int64\n",
       "Deaths                     int64\n",
       "Cases per Million          int64\n",
       "Deaths per Million         int64\n",
       "population                 int64\n",
       "population_density         int64\n",
       "median_age                 int64\n",
       "gdp_per_capita             int64\n",
       "hospital_beds_per_100k    object\n",
       "dtype: object"
      ]
     },
     "execution_count": 32,
     "metadata": {},
     "output_type": "execute_result"
    }
   ],
   "source": [
    "totalMuertes.dtypes"
   ]
  },
  {
   "cell_type": "code",
   "execution_count": 33,
   "id": "cbc974b7",
   "metadata": {},
   "outputs": [],
   "source": [
    "totalMuertes['hospital_beds_per_100k'] = totalMuertes['hospital_beds_per_100k'].astype(\"float\")"
   ]
  },
  {
   "cell_type": "code",
   "execution_count": 34,
   "id": "699803be",
   "metadata": {},
   "outputs": [
    {
     "data": {
      "text/plain": [
       "Country                    object\n",
       "Cases                       int64\n",
       "Deaths                      int64\n",
       "Cases per Million           int64\n",
       "Deaths per Million          int64\n",
       "population                  int64\n",
       "population_density          int64\n",
       "median_age                  int64\n",
       "gdp_per_capita              int64\n",
       "hospital_beds_per_100k    float64\n",
       "dtype: object"
      ]
     },
     "execution_count": 34,
     "metadata": {},
     "output_type": "execute_result"
    }
   ],
   "source": [
    "totalMuertes.dtypes"
   ]
  },
  {
   "cell_type": "code",
   "execution_count": 35,
   "id": "f7bf26e9",
   "metadata": {},
   "outputs": [
    {
     "data": {
      "text/html": [
       "<div>\n",
       "<style scoped>\n",
       "    .dataframe tbody tr th:only-of-type {\n",
       "        vertical-align: middle;\n",
       "    }\n",
       "\n",
       "    .dataframe tbody tr th {\n",
       "        vertical-align: top;\n",
       "    }\n",
       "\n",
       "    .dataframe thead th {\n",
       "        text-align: right;\n",
       "    }\n",
       "</style>\n",
       "<table border=\"1\" class=\"dataframe\">\n",
       "  <thead>\n",
       "    <tr style=\"text-align: right;\">\n",
       "      <th></th>\n",
       "      <th>Country</th>\n",
       "      <th>Cases</th>\n",
       "      <th>Deaths</th>\n",
       "      <th>Cases per Million</th>\n",
       "      <th>Deaths per Million</th>\n",
       "      <th>population</th>\n",
       "      <th>population_density</th>\n",
       "      <th>median_age</th>\n",
       "      <th>gdp_per_capita</th>\n",
       "      <th>hospital_beds_per_100k</th>\n",
       "    </tr>\n",
       "  </thead>\n",
       "  <tbody>\n",
       "    <tr>\n",
       "      <th>0</th>\n",
       "      <td>Algeria</td>\n",
       "      <td>9394</td>\n",
       "      <td>653</td>\n",
       "      <td>214</td>\n",
       "      <td>15</td>\n",
       "      <td>43851043</td>\n",
       "      <td>17</td>\n",
       "      <td>29</td>\n",
       "      <td>13914</td>\n",
       "      <td>1.9</td>\n",
       "    </tr>\n",
       "    <tr>\n",
       "      <th>1</th>\n",
       "      <td>Austria</td>\n",
       "      <td>16642</td>\n",
       "      <td>668</td>\n",
       "      <td>1848</td>\n",
       "      <td>74</td>\n",
       "      <td>9006400</td>\n",
       "      <td>107</td>\n",
       "      <td>44</td>\n",
       "      <td>45437</td>\n",
       "      <td>7.4</td>\n",
       "    </tr>\n",
       "    <tr>\n",
       "      <th>2</th>\n",
       "      <td>Bangladesh</td>\n",
       "      <td>47153</td>\n",
       "      <td>650</td>\n",
       "      <td>286</td>\n",
       "      <td>4</td>\n",
       "      <td>164689383</td>\n",
       "      <td>1265</td>\n",
       "      <td>28</td>\n",
       "      <td>3524</td>\n",
       "      <td>0.8</td>\n",
       "    </tr>\n",
       "    <tr>\n",
       "      <th>3</th>\n",
       "      <td>Belgium</td>\n",
       "      <td>58381</td>\n",
       "      <td>9467</td>\n",
       "      <td>5037</td>\n",
       "      <td>817</td>\n",
       "      <td>11589616</td>\n",
       "      <td>376</td>\n",
       "      <td>42</td>\n",
       "      <td>42659</td>\n",
       "      <td>5.6</td>\n",
       "    </tr>\n",
       "    <tr>\n",
       "      <th>4</th>\n",
       "      <td>Brazil</td>\n",
       "      <td>514849</td>\n",
       "      <td>29314</td>\n",
       "      <td>2422</td>\n",
       "      <td>138</td>\n",
       "      <td>212559409</td>\n",
       "      <td>25</td>\n",
       "      <td>34</td>\n",
       "      <td>14103</td>\n",
       "      <td>2.2</td>\n",
       "    </tr>\n",
       "  </tbody>\n",
       "</table>\n",
       "</div>"
      ],
      "text/plain": [
       "      Country   Cases  Deaths  Cases per Million  Deaths per Million  \\\n",
       "0     Algeria    9394     653                214                  15   \n",
       "1     Austria   16642     668               1848                  74   \n",
       "2  Bangladesh   47153     650                286                   4   \n",
       "3     Belgium   58381    9467               5037                 817   \n",
       "4      Brazil  514849   29314               2422                 138   \n",
       "\n",
       "   population  population_density  median_age  gdp_per_capita  \\\n",
       "0    43851043                  17          29           13914   \n",
       "1     9006400                 107          44           45437   \n",
       "2   164689383                1265          28            3524   \n",
       "3    11589616                 376          42           42659   \n",
       "4   212559409                  25          34           14103   \n",
       "\n",
       "   hospital_beds_per_100k  \n",
       "0                     1.9  \n",
       "1                     7.4  \n",
       "2                     0.8  \n",
       "3                     5.6  \n",
       "4                     2.2  "
      ]
     },
     "execution_count": 35,
     "metadata": {},
     "output_type": "execute_result"
    }
   ],
   "source": [
    "totalMuertes.head()"
   ]
  },
  {
   "cell_type": "code",
   "execution_count": null,
   "id": "8ea1ea14",
   "metadata": {},
   "outputs": [],
   "source": []
  }
 ],
 "metadata": {
  "kernelspec": {
   "display_name": "Python 3",
   "language": "python",
   "name": "python3"
  },
  "language_info": {
   "codemirror_mode": {
    "name": "ipython",
    "version": 3
   },
   "file_extension": ".py",
   "mimetype": "text/x-python",
   "name": "python",
   "nbconvert_exporter": "python",
   "pygments_lexer": "ipython3",
   "version": "3.8.8"
  }
 },
 "nbformat": 4,
 "nbformat_minor": 5
}
